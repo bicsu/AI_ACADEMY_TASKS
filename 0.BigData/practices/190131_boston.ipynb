{
 "cells": [
  {
   "cell_type": "code",
   "execution_count": 341,
   "metadata": {},
   "outputs": [],
   "source": [
    "import pandas as pd\n",
    "import numpy as np\n",
    "import matplotlib.pyplot as plt\n",
    "import seaborn as sns\n",
    "from statsmodels.stats.outliers_influence import variance_inflation_factor\n",
    "from sklearn.linear_model import LinearRegression\n",
    "from sklearn.feature_selection import RFE\n",
    "from sklearn.preprocessing import scale\n",
    "import pandas as pd\n",
    "import scipy.stats as stats\n",
    "import statsmodels.api as sm\n",
    "\n",
    "\n",
    "plt.rc('font', family='NanumBarunGothic')\n",
    "plt.rcParams['axes.unicode_minus']=False"
   ]
  },
  {
   "cell_type": "code",
   "execution_count": 342,
   "metadata": {},
   "outputs": [],
   "source": [
    "pd.set_option('display.float_format', lambda x: '%.4f' % x)\t\n",
    "# set the options to see all columns, rows\n",
    "pd.set_option('display.max_rows', 500)\n",
    "pd.set_option('display.max_columns', 500)\n",
    "pd.set_option('display.width', 1000)\n",
    "pd.set_option('max_info_columns', 1001)"
   ]
  },
  {
   "cell_type": "code",
   "execution_count": 343,
   "metadata": {},
   "outputs": [],
   "source": [
    "data_raw = pd.read_csv(\"./csvfiles/BOSTON_HOUSING.csv\")"
   ]
  },
  {
   "cell_type": "code",
   "execution_count": 344,
   "metadata": {},
   "outputs": [],
   "source": [
    "df = data_raw.copy()"
   ]
  },
  {
   "cell_type": "code",
   "execution_count": 345,
   "metadata": {},
   "outputs": [
    {
     "name": "stdout",
     "output_type": "stream",
     "text": [
      "<class 'pandas.core.frame.DataFrame'>\n",
      "RangeIndex: 506 entries, 0 to 505\n",
      "Data columns (total 14 columns):\n",
      "MEDV       506 non-null float64\n",
      "CRIM       506 non-null float64\n",
      "ZN         506 non-null float64\n",
      "INDUS      506 non-null float64\n",
      "CHAS       506 non-null int64\n",
      "NOX        506 non-null float64\n",
      "RM         506 non-null float64\n",
      "AGE        506 non-null float64\n",
      "DIS        506 non-null float64\n",
      "RAD        506 non-null int64\n",
      "TAX        506 non-null int64\n",
      "PTRATIO    506 non-null float64\n",
      "B          506 non-null float64\n",
      "LSTAT      506 non-null float64\n",
      "dtypes: float64(11), int64(3)\n",
      "memory usage: 55.4 KB\n"
     ]
    }
   ],
   "source": [
    "df.info()"
   ]
  },
  {
   "cell_type": "code",
   "execution_count": 346,
   "metadata": {},
   "outputs": [
    {
     "data": {
      "text/html": [
       "<div>\n",
       "<style scoped>\n",
       "    .dataframe tbody tr th:only-of-type {\n",
       "        vertical-align: middle;\n",
       "    }\n",
       "\n",
       "    .dataframe tbody tr th {\n",
       "        vertical-align: top;\n",
       "    }\n",
       "\n",
       "    .dataframe thead th {\n",
       "        text-align: right;\n",
       "    }\n",
       "</style>\n",
       "<table border=\"1\" class=\"dataframe\">\n",
       "  <thead>\n",
       "    <tr style=\"text-align: right;\">\n",
       "      <th></th>\n",
       "      <th>count</th>\n",
       "      <th>mean</th>\n",
       "      <th>std</th>\n",
       "      <th>min</th>\n",
       "      <th>25%</th>\n",
       "      <th>50%</th>\n",
       "      <th>75%</th>\n",
       "      <th>max</th>\n",
       "    </tr>\n",
       "  </thead>\n",
       "  <tbody>\n",
       "    <tr>\n",
       "      <th>MEDV</th>\n",
       "      <td>506.0000</td>\n",
       "      <td>22.5328</td>\n",
       "      <td>9.1971</td>\n",
       "      <td>5.0000</td>\n",
       "      <td>17.0250</td>\n",
       "      <td>21.2000</td>\n",
       "      <td>25.0000</td>\n",
       "      <td>50.0000</td>\n",
       "    </tr>\n",
       "    <tr>\n",
       "      <th>CRIM</th>\n",
       "      <td>506.0000</td>\n",
       "      <td>3.6135</td>\n",
       "      <td>8.6015</td>\n",
       "      <td>0.0063</td>\n",
       "      <td>0.0820</td>\n",
       "      <td>0.2565</td>\n",
       "      <td>3.6771</td>\n",
       "      <td>88.9762</td>\n",
       "    </tr>\n",
       "    <tr>\n",
       "      <th>ZN</th>\n",
       "      <td>506.0000</td>\n",
       "      <td>11.3636</td>\n",
       "      <td>23.3225</td>\n",
       "      <td>0.0000</td>\n",
       "      <td>0.0000</td>\n",
       "      <td>0.0000</td>\n",
       "      <td>12.5000</td>\n",
       "      <td>100.0000</td>\n",
       "    </tr>\n",
       "    <tr>\n",
       "      <th>INDUS</th>\n",
       "      <td>506.0000</td>\n",
       "      <td>11.1368</td>\n",
       "      <td>6.8604</td>\n",
       "      <td>0.4600</td>\n",
       "      <td>5.1900</td>\n",
       "      <td>9.6900</td>\n",
       "      <td>18.1000</td>\n",
       "      <td>27.7400</td>\n",
       "    </tr>\n",
       "    <tr>\n",
       "      <th>CHAS</th>\n",
       "      <td>506.0000</td>\n",
       "      <td>0.0692</td>\n",
       "      <td>0.2540</td>\n",
       "      <td>0.0000</td>\n",
       "      <td>0.0000</td>\n",
       "      <td>0.0000</td>\n",
       "      <td>0.0000</td>\n",
       "      <td>1.0000</td>\n",
       "    </tr>\n",
       "    <tr>\n",
       "      <th>NOX</th>\n",
       "      <td>506.0000</td>\n",
       "      <td>0.5547</td>\n",
       "      <td>0.1159</td>\n",
       "      <td>0.3850</td>\n",
       "      <td>0.4490</td>\n",
       "      <td>0.5380</td>\n",
       "      <td>0.6240</td>\n",
       "      <td>0.8710</td>\n",
       "    </tr>\n",
       "    <tr>\n",
       "      <th>RM</th>\n",
       "      <td>506.0000</td>\n",
       "      <td>6.2846</td>\n",
       "      <td>0.7026</td>\n",
       "      <td>3.5610</td>\n",
       "      <td>5.8855</td>\n",
       "      <td>6.2085</td>\n",
       "      <td>6.6235</td>\n",
       "      <td>8.7800</td>\n",
       "    </tr>\n",
       "    <tr>\n",
       "      <th>AGE</th>\n",
       "      <td>506.0000</td>\n",
       "      <td>68.5749</td>\n",
       "      <td>28.1489</td>\n",
       "      <td>2.9000</td>\n",
       "      <td>45.0250</td>\n",
       "      <td>77.5000</td>\n",
       "      <td>94.0750</td>\n",
       "      <td>100.0000</td>\n",
       "    </tr>\n",
       "    <tr>\n",
       "      <th>DIS</th>\n",
       "      <td>506.0000</td>\n",
       "      <td>3.7950</td>\n",
       "      <td>2.1057</td>\n",
       "      <td>1.1296</td>\n",
       "      <td>2.1002</td>\n",
       "      <td>3.2074</td>\n",
       "      <td>5.1884</td>\n",
       "      <td>12.1265</td>\n",
       "    </tr>\n",
       "    <tr>\n",
       "      <th>RAD</th>\n",
       "      <td>506.0000</td>\n",
       "      <td>9.5494</td>\n",
       "      <td>8.7073</td>\n",
       "      <td>1.0000</td>\n",
       "      <td>4.0000</td>\n",
       "      <td>5.0000</td>\n",
       "      <td>24.0000</td>\n",
       "      <td>24.0000</td>\n",
       "    </tr>\n",
       "    <tr>\n",
       "      <th>TAX</th>\n",
       "      <td>506.0000</td>\n",
       "      <td>408.2372</td>\n",
       "      <td>168.5371</td>\n",
       "      <td>187.0000</td>\n",
       "      <td>279.0000</td>\n",
       "      <td>330.0000</td>\n",
       "      <td>666.0000</td>\n",
       "      <td>711.0000</td>\n",
       "    </tr>\n",
       "    <tr>\n",
       "      <th>PTRATIO</th>\n",
       "      <td>506.0000</td>\n",
       "      <td>18.4555</td>\n",
       "      <td>2.1649</td>\n",
       "      <td>12.6000</td>\n",
       "      <td>17.4000</td>\n",
       "      <td>19.0500</td>\n",
       "      <td>20.2000</td>\n",
       "      <td>22.0000</td>\n",
       "    </tr>\n",
       "    <tr>\n",
       "      <th>B</th>\n",
       "      <td>506.0000</td>\n",
       "      <td>356.6740</td>\n",
       "      <td>91.2949</td>\n",
       "      <td>0.3200</td>\n",
       "      <td>375.3775</td>\n",
       "      <td>391.4400</td>\n",
       "      <td>396.2250</td>\n",
       "      <td>396.9000</td>\n",
       "    </tr>\n",
       "    <tr>\n",
       "      <th>LSTAT</th>\n",
       "      <td>506.0000</td>\n",
       "      <td>12.6531</td>\n",
       "      <td>7.1411</td>\n",
       "      <td>1.7300</td>\n",
       "      <td>6.9500</td>\n",
       "      <td>11.3600</td>\n",
       "      <td>16.9550</td>\n",
       "      <td>37.9700</td>\n",
       "    </tr>\n",
       "  </tbody>\n",
       "</table>\n",
       "</div>"
      ],
      "text/plain": [
       "           count     mean      std      min      25%      50%      75%      max\n",
       "MEDV    506.0000  22.5328   9.1971   5.0000  17.0250  21.2000  25.0000  50.0000\n",
       "CRIM    506.0000   3.6135   8.6015   0.0063   0.0820   0.2565   3.6771  88.9762\n",
       "ZN      506.0000  11.3636  23.3225   0.0000   0.0000   0.0000  12.5000 100.0000\n",
       "INDUS   506.0000  11.1368   6.8604   0.4600   5.1900   9.6900  18.1000  27.7400\n",
       "CHAS    506.0000   0.0692   0.2540   0.0000   0.0000   0.0000   0.0000   1.0000\n",
       "NOX     506.0000   0.5547   0.1159   0.3850   0.4490   0.5380   0.6240   0.8710\n",
       "RM      506.0000   6.2846   0.7026   3.5610   5.8855   6.2085   6.6235   8.7800\n",
       "AGE     506.0000  68.5749  28.1489   2.9000  45.0250  77.5000  94.0750 100.0000\n",
       "DIS     506.0000   3.7950   2.1057   1.1296   2.1002   3.2074   5.1884  12.1265\n",
       "RAD     506.0000   9.5494   8.7073   1.0000   4.0000   5.0000  24.0000  24.0000\n",
       "TAX     506.0000 408.2372 168.5371 187.0000 279.0000 330.0000 666.0000 711.0000\n",
       "PTRATIO 506.0000  18.4555   2.1649  12.6000  17.4000  19.0500  20.2000  22.0000\n",
       "B       506.0000 356.6740  91.2949   0.3200 375.3775 391.4400 396.2250 396.9000\n",
       "LSTAT   506.0000  12.6531   7.1411   1.7300   6.9500  11.3600  16.9550  37.9700"
      ]
     },
     "execution_count": 346,
     "metadata": {},
     "output_type": "execute_result"
    }
   ],
   "source": [
    "df.describe().T"
   ]
  },
  {
   "cell_type": "markdown",
   "metadata": {},
   "source": [
    "# Log 변환"
   ]
  },
  {
   "cell_type": "code",
   "execution_count": 495,
   "metadata": {},
   "outputs": [
    {
     "data": {
      "text/plain": [
       "Text(0.5, 1.0, 'log변환 전 MEDV 분포')"
      ]
     },
     "execution_count": 495,
     "metadata": {},
     "output_type": "execute_result"
    },
    {
     "data": {
      "image/png": "[encoded data removed]",
      "text/plain": [
       "<Figure size 504x360 with 1 Axes>"
      ]
     },
     "metadata": {
      "needs_background": "light"
     },
     "output_type": "display_data"
    }
   ],
   "source": [
    "plt.figure(figsize=(7, 5))\n",
    "sns.distplot((df['MEDV']),fit=norm)\n",
    "plt.title('log변환 전 MEDV 분포')"
   ]
  },
  {
   "cell_type": "code",
   "execution_count": 470,
   "metadata": {},
   "outputs": [
    {
     "data": {
      "text/plain": [
       "Text(0.5, 1.0, 'log변환 후 MEDV 분포')"
      ]
     },
     "execution_count": 470,
     "metadata": {},
     "output_type": "execute_result"
    },
    {
     "data": {
      "image/png": "[encoded data removed]",
      "text/plain": [
       "<Figure size 504x360 with 1 Axes>"
      ]
     },
     "metadata": {
      "needs_background": "light"
     },
     "output_type": "display_data"
    }
   ],
   "source": [
    "plt.figure(figsize=(7,5))\n",
    "sns.distplot(np.log(df['MEDV']),norm_hist =False, fit=norm)\n",
    "plt.title('log변환 후 MEDV 분포',)"
   ]
  },
  {
   "cell_type": "markdown",
   "metadata": {},
   "source": [
    "# 상관계수 확인"
   ]
  },
  {
   "cell_type": "code",
   "execution_count": 350,
   "metadata": {},
   "outputs": [
    {
     "data": {
      "text/html": [
       "<div>\n",
       "<style scoped>\n",
       "    .dataframe tbody tr th:only-of-type {\n",
       "        vertical-align: middle;\n",
       "    }\n",
       "\n",
       "    .dataframe tbody tr th {\n",
       "        vertical-align: top;\n",
       "    }\n",
       "\n",
       "    .dataframe thead th {\n",
       "        text-align: right;\n",
       "    }\n",
       "</style>\n",
       "<table border=\"1\" class=\"dataframe\">\n",
       "  <thead>\n",
       "    <tr style=\"text-align: right;\">\n",
       "      <th></th>\n",
       "      <th>index</th>\n",
       "      <th>MEDV</th>\n",
       "      <th>CRIM</th>\n",
       "      <th>ZN</th>\n",
       "      <th>INDUS</th>\n",
       "      <th>CHAS</th>\n",
       "      <th>NOX</th>\n",
       "      <th>RM</th>\n",
       "      <th>AGE</th>\n",
       "      <th>DIS</th>\n",
       "      <th>RAD</th>\n",
       "      <th>TAX</th>\n",
       "      <th>PTRATIO</th>\n",
       "      <th>B</th>\n",
       "      <th>LSTAT</th>\n",
       "    </tr>\n",
       "  </thead>\n",
       "  <tbody>\n",
       "    <tr>\n",
       "      <th>0</th>\n",
       "      <td>MEDV</td>\n",
       "      <td>1.0000</td>\n",
       "      <td>-0.3883</td>\n",
       "      <td>0.3604</td>\n",
       "      <td>-0.4837</td>\n",
       "      <td>0.1753</td>\n",
       "      <td>-0.4273</td>\n",
       "      <td>0.6954</td>\n",
       "      <td>-0.3770</td>\n",
       "      <td>0.2499</td>\n",
       "      <td>-0.3816</td>\n",
       "      <td>-0.4685</td>\n",
       "      <td>-0.5078</td>\n",
       "      <td>0.3335</td>\n",
       "      <td>-0.7377</td>\n",
       "    </tr>\n",
       "    <tr>\n",
       "      <th>1</th>\n",
       "      <td>CRIM</td>\n",
       "      <td>-0.3883</td>\n",
       "      <td>1.0000</td>\n",
       "      <td>-0.2005</td>\n",
       "      <td>0.4066</td>\n",
       "      <td>-0.0559</td>\n",
       "      <td>0.4210</td>\n",
       "      <td>-0.2192</td>\n",
       "      <td>0.3527</td>\n",
       "      <td>-0.3797</td>\n",
       "      <td>0.6255</td>\n",
       "      <td>0.5828</td>\n",
       "      <td>0.2899</td>\n",
       "      <td>-0.3851</td>\n",
       "      <td>0.4556</td>\n",
       "    </tr>\n",
       "    <tr>\n",
       "      <th>2</th>\n",
       "      <td>ZN</td>\n",
       "      <td>0.3604</td>\n",
       "      <td>-0.2005</td>\n",
       "      <td>1.0000</td>\n",
       "      <td>-0.5338</td>\n",
       "      <td>-0.0427</td>\n",
       "      <td>-0.5166</td>\n",
       "      <td>0.3120</td>\n",
       "      <td>-0.5695</td>\n",
       "      <td>0.6644</td>\n",
       "      <td>-0.3119</td>\n",
       "      <td>-0.3146</td>\n",
       "      <td>-0.3917</td>\n",
       "      <td>0.1755</td>\n",
       "      <td>-0.4130</td>\n",
       "    </tr>\n",
       "    <tr>\n",
       "      <th>3</th>\n",
       "      <td>INDUS</td>\n",
       "      <td>-0.4837</td>\n",
       "      <td>0.4066</td>\n",
       "      <td>-0.5338</td>\n",
       "      <td>1.0000</td>\n",
       "      <td>0.0629</td>\n",
       "      <td>0.7637</td>\n",
       "      <td>-0.3917</td>\n",
       "      <td>0.6448</td>\n",
       "      <td>-0.7080</td>\n",
       "      <td>0.5951</td>\n",
       "      <td>0.7208</td>\n",
       "      <td>0.3832</td>\n",
       "      <td>-0.3570</td>\n",
       "      <td>0.6038</td>\n",
       "    </tr>\n",
       "    <tr>\n",
       "      <th>4</th>\n",
       "      <td>CHAS</td>\n",
       "      <td>0.1753</td>\n",
       "      <td>-0.0559</td>\n",
       "      <td>-0.0427</td>\n",
       "      <td>0.0629</td>\n",
       "      <td>1.0000</td>\n",
       "      <td>0.0912</td>\n",
       "      <td>0.0913</td>\n",
       "      <td>0.0865</td>\n",
       "      <td>-0.0992</td>\n",
       "      <td>-0.0074</td>\n",
       "      <td>-0.0356</td>\n",
       "      <td>-0.1215</td>\n",
       "      <td>0.0488</td>\n",
       "      <td>-0.0539</td>\n",
       "    </tr>\n",
       "  </tbody>\n",
       "</table>\n",
       "</div>"
      ],
      "text/plain": [
       "   index    MEDV    CRIM      ZN   INDUS    CHAS     NOX      RM     AGE     DIS     RAD     TAX  PTRATIO       B   LSTAT\n",
       "0   MEDV  1.0000 -0.3883  0.3604 -0.4837  0.1753 -0.4273  0.6954 -0.3770  0.2499 -0.3816 -0.4685  -0.5078  0.3335 -0.7377\n",
       "1   CRIM -0.3883  1.0000 -0.2005  0.4066 -0.0559  0.4210 -0.2192  0.3527 -0.3797  0.6255  0.5828   0.2899 -0.3851  0.4556\n",
       "2     ZN  0.3604 -0.2005  1.0000 -0.5338 -0.0427 -0.5166  0.3120 -0.5695  0.6644 -0.3119 -0.3146  -0.3917  0.1755 -0.4130\n",
       "3  INDUS -0.4837  0.4066 -0.5338  1.0000  0.0629  0.7637 -0.3917  0.6448 -0.7080  0.5951  0.7208   0.3832 -0.3570  0.6038\n",
       "4   CHAS  0.1753 -0.0559 -0.0427  0.0629  1.0000  0.0912  0.0913  0.0865 -0.0992 -0.0074 -0.0356  -0.1215  0.0488 -0.0539"
      ]
     },
     "execution_count": 350,
     "metadata": {},
     "output_type": "execute_result"
    }
   ],
   "source": [
    "df_corr = df.corr().reset_index()\n",
    "df_corr.head()"
   ]
  },
  {
   "cell_type": "code",
   "execution_count": 464,
   "metadata": {},
   "outputs": [],
   "source": [
    "corr_medv = abs(df_corr[[\"MEDV\"]])"
   ]
  },
  {
   "cell_type": "code",
   "execution_count": 465,
   "metadata": {},
   "outputs": [],
   "source": [
    "corr_medv=corr_medv.sort_values(['MEDV']).reset_index(drop=True)"
   ]
  },
  {
   "cell_type": "code",
   "execution_count": 466,
   "metadata": {
    "scrolled": true
   },
   "outputs": [
    {
     "data": {
      "text/html": [
       "<div>\n",
       "<style scoped>\n",
       "    .dataframe tbody tr th:only-of-type {\n",
       "        vertical-align: middle;\n",
       "    }\n",
       "\n",
       "    .dataframe tbody tr th {\n",
       "        vertical-align: top;\n",
       "    }\n",
       "\n",
       "    .dataframe thead th {\n",
       "        text-align: right;\n",
       "    }\n",
       "</style>\n",
       "<table border=\"1\" class=\"dataframe\">\n",
       "  <thead>\n",
       "    <tr style=\"text-align: right;\">\n",
       "      <th></th>\n",
       "      <th>MEDV</th>\n",
       "    </tr>\n",
       "  </thead>\n",
       "  <tbody>\n",
       "    <tr>\n",
       "      <th>0</th>\n",
       "      <td>0.1753</td>\n",
       "    </tr>\n",
       "    <tr>\n",
       "      <th>1</th>\n",
       "      <td>0.2499</td>\n",
       "    </tr>\n",
       "    <tr>\n",
       "      <th>2</th>\n",
       "      <td>0.3335</td>\n",
       "    </tr>\n",
       "    <tr>\n",
       "      <th>3</th>\n",
       "      <td>0.3604</td>\n",
       "    </tr>\n",
       "    <tr>\n",
       "      <th>4</th>\n",
       "      <td>0.3770</td>\n",
       "    </tr>\n",
       "    <tr>\n",
       "      <th>5</th>\n",
       "      <td>0.3816</td>\n",
       "    </tr>\n",
       "    <tr>\n",
       "      <th>6</th>\n",
       "      <td>0.3883</td>\n",
       "    </tr>\n",
       "    <tr>\n",
       "      <th>7</th>\n",
       "      <td>0.4273</td>\n",
       "    </tr>\n",
       "    <tr>\n",
       "      <th>8</th>\n",
       "      <td>0.4685</td>\n",
       "    </tr>\n",
       "    <tr>\n",
       "      <th>9</th>\n",
       "      <td>0.4837</td>\n",
       "    </tr>\n",
       "    <tr>\n",
       "      <th>10</th>\n",
       "      <td>0.5078</td>\n",
       "    </tr>\n",
       "    <tr>\n",
       "      <th>11</th>\n",
       "      <td>0.6954</td>\n",
       "    </tr>\n",
       "    <tr>\n",
       "      <th>12</th>\n",
       "      <td>0.7377</td>\n",
       "    </tr>\n",
       "    <tr>\n",
       "      <th>13</th>\n",
       "      <td>1.0000</td>\n",
       "    </tr>\n",
       "  </tbody>\n",
       "</table>\n",
       "</div>"
      ],
      "text/plain": [
       "     MEDV\n",
       "0  0.1753\n",
       "1  0.2499\n",
       "2  0.3335\n",
       "3  0.3604\n",
       "4  0.3770\n",
       "5  0.3816\n",
       "6  0.3883\n",
       "7  0.4273\n",
       "8  0.4685\n",
       "9  0.4837\n",
       "10 0.5078\n",
       "11 0.6954\n",
       "12 0.7377\n",
       "13 1.0000"
      ]
     },
     "execution_count": 466,
     "metadata": {},
     "output_type": "execute_result"
    }
   ],
   "source": [
    "corr_medv"
   ]
  },
  {
   "cell_type": "code",
   "execution_count": 475,
   "metadata": {},
   "outputs": [],
   "source": [
    "df_corr = df.corr()"
   ]
  },
  {
   "cell_type": "code",
   "execution_count": 482,
   "metadata": {},
   "outputs": [
    {
     "data": {
      "text/html": [
       "<div>\n",
       "<style scoped>\n",
       "    .dataframe tbody tr th:only-of-type {\n",
       "        vertical-align: middle;\n",
       "    }\n",
       "\n",
       "    .dataframe tbody tr th {\n",
       "        vertical-align: top;\n",
       "    }\n",
       "\n",
       "    .dataframe thead th {\n",
       "        text-align: right;\n",
       "    }\n",
       "</style>\n",
       "<table border=\"1\" class=\"dataframe\">\n",
       "  <thead>\n",
       "    <tr style=\"text-align: right;\">\n",
       "      <th></th>\n",
       "      <th>MEDV</th>\n",
       "    </tr>\n",
       "  </thead>\n",
       "  <tbody>\n",
       "    <tr>\n",
       "      <th>CHAS</th>\n",
       "      <td>0.1753</td>\n",
       "    </tr>\n",
       "    <tr>\n",
       "      <th>DIS</th>\n",
       "      <td>0.2499</td>\n",
       "    </tr>\n",
       "    <tr>\n",
       "      <th>B</th>\n",
       "      <td>0.3335</td>\n",
       "    </tr>\n",
       "    <tr>\n",
       "      <th>ZN</th>\n",
       "      <td>0.3604</td>\n",
       "    </tr>\n",
       "    <tr>\n",
       "      <th>AGE</th>\n",
       "      <td>0.3770</td>\n",
       "    </tr>\n",
       "    <tr>\n",
       "      <th>RAD</th>\n",
       "      <td>0.3816</td>\n",
       "    </tr>\n",
       "    <tr>\n",
       "      <th>CRIM</th>\n",
       "      <td>0.3883</td>\n",
       "    </tr>\n",
       "    <tr>\n",
       "      <th>NOX</th>\n",
       "      <td>0.4273</td>\n",
       "    </tr>\n",
       "    <tr>\n",
       "      <th>TAX</th>\n",
       "      <td>0.4685</td>\n",
       "    </tr>\n",
       "    <tr>\n",
       "      <th>INDUS</th>\n",
       "      <td>0.4837</td>\n",
       "    </tr>\n",
       "    <tr>\n",
       "      <th>PTRATIO</th>\n",
       "      <td>0.5078</td>\n",
       "    </tr>\n",
       "    <tr>\n",
       "      <th>RM</th>\n",
       "      <td>0.6954</td>\n",
       "    </tr>\n",
       "    <tr>\n",
       "      <th>LSTAT</th>\n",
       "      <td>0.7377</td>\n",
       "    </tr>\n",
       "    <tr>\n",
       "      <th>MEDV</th>\n",
       "      <td>1.0000</td>\n",
       "    </tr>\n",
       "  </tbody>\n",
       "</table>\n",
       "</div>"
      ],
      "text/plain": [
       "          MEDV\n",
       "CHAS    0.1753\n",
       "DIS     0.2499\n",
       "B       0.3335\n",
       "ZN      0.3604\n",
       "AGE     0.3770\n",
       "RAD     0.3816\n",
       "CRIM    0.3883\n",
       "NOX     0.4273\n",
       "TAX     0.4685\n",
       "INDUS   0.4837\n",
       "PTRATIO 0.5078\n",
       "RM      0.6954\n",
       "LSTAT   0.7377\n",
       "MEDV    1.0000"
      ]
     },
     "execution_count": 482,
     "metadata": {},
     "output_type": "execute_result"
    }
   ],
   "source": [
    "cd = pd.DataFrame(abs(df_corr[[\"MEDV\"]][\"MEDV\"]).sort_values())\n",
    "cd"
   ]
  },
  {
   "cell_type": "code",
   "execution_count": 494,
   "metadata": {},
   "outputs": [
    {
     "data": {
      "image/png": "[encoded data removed]",
      "text/plain": [
       "<Figure size 1368x432 with 1 Axes>"
      ]
     },
     "metadata": {
      "needs_background": "light"
     },
     "output_type": "display_data"
    }
   ],
   "source": [
    "plt.figure(figsize=(19,6))\n",
    "\n",
    "ax = sns.barplot(x=cd.index, y=\"MEDV\", data=cd, palette='dark', )\n",
    "ax.set_ylabel('Correalation',fontsize=20)\n",
    "ax.set_xlabel('Features',fontsize=20)\n",
    "plt.rc('xtick',labelsize=20)"
   ]
  },
  {
   "cell_type": "code",
   "execution_count": 351,
   "metadata": {},
   "outputs": [],
   "source": [
    "corr_medv = pd.DataFrame(df.corr()[\"MEDV\"].sort_values(ascending=False))"
   ]
  },
  {
   "cell_type": "code",
   "execution_count": 352,
   "metadata": {},
   "outputs": [
    {
     "data": {
      "text/html": [
       "<div>\n",
       "<style scoped>\n",
       "    .dataframe tbody tr th:only-of-type {\n",
       "        vertical-align: middle;\n",
       "    }\n",
       "\n",
       "    .dataframe tbody tr th {\n",
       "        vertical-align: top;\n",
       "    }\n",
       "\n",
       "    .dataframe thead th {\n",
       "        text-align: right;\n",
       "    }\n",
       "</style>\n",
       "<table border=\"1\" class=\"dataframe\">\n",
       "  <thead>\n",
       "    <tr style=\"text-align: right;\">\n",
       "      <th></th>\n",
       "      <th>MEDV</th>\n",
       "    </tr>\n",
       "  </thead>\n",
       "  <tbody>\n",
       "    <tr>\n",
       "      <th>MEDV</th>\n",
       "      <td>1.0000</td>\n",
       "    </tr>\n",
       "    <tr>\n",
       "      <th>RM</th>\n",
       "      <td>0.6954</td>\n",
       "    </tr>\n",
       "    <tr>\n",
       "      <th>LSTAT</th>\n",
       "      <td>-0.7377</td>\n",
       "    </tr>\n",
       "  </tbody>\n",
       "</table>\n",
       "</div>"
      ],
      "text/plain": [
       "         MEDV\n",
       "MEDV   1.0000\n",
       "RM     0.6954\n",
       "LSTAT -0.7377"
      ]
     },
     "execution_count": 352,
     "metadata": {},
     "output_type": "execute_result"
    }
   ],
   "source": [
    "corr_medv[abs(corr_medv[\"MEDV\"]) > 0.65]"
   ]
  },
  {
   "cell_type": "code",
   "execution_count": 353,
   "metadata": {},
   "outputs": [
    {
     "data": {
      "text/plain": [
       "<matplotlib.axes._subplots.AxesSubplot at 0x7f91ec530240>"
      ]
     },
     "execution_count": 353,
     "metadata": {},
     "output_type": "execute_result"
    },
    {
     "data": {
      "image/png": "[encoded data removed]",
      "text/plain": [
       "<Figure size 432x288 with 1 Axes>"
      ]
     },
     "metadata": {
      "needs_background": "light"
     },
     "output_type": "display_data"
    }
   ],
   "source": []
  },
  {
   "cell_type": "code",
   "execution_count": 354,
   "metadata": {},
   "outputs": [],
   "source": [
    "cols = df.columns.tolist()"
   ]
  },
  {
   "cell_type": "code",
   "execution_count": 355,
   "metadata": {},
   "outputs": [],
   "source": [
    "box_cols = []\n",
    "no_unique = []\n",
    "for i in x :\n",
    "    if len(df[i].unique()) > 100:\n",
    "        box_cols.append(i)\n",
    "    else :\n",
    "        no_unique.append(i)"
   ]
  },
  {
   "cell_type": "code",
   "execution_count": 356,
   "metadata": {},
   "outputs": [
    {
     "name": "stdout",
     "output_type": "stream",
     "text": [
      "unique > 300 : ['CRIM', 'RM', 'AGE', 'DIS', 'B', 'LSTAT']\n",
      "unique < 300 : ['ZN', 'INDUS', 'CHAS', 'NOX', 'RAD', 'TAX', 'PTRATIO']\n"
     ]
    }
   ],
   "source": [
    "print('unique > 300 :',box_cols)\n",
    "print('unique < 300 :',no_unique)"
   ]
  },
  {
   "cell_type": "code",
   "execution_count": 357,
   "metadata": {
    "scrolled": false
   },
   "outputs": [
    {
     "data": {
      "image/png": "[encoded data removed]",
      "text/plain": [
       "<Figure size 1440x1440 with 8 Axes>"
      ]
     },
     "metadata": {
      "needs_background": "light"
     },
     "output_type": "display_data"
    }
   ],
   "source": [
    "rows = 2\n",
    "if((((len(box_cols) + 1) // rows) % rows) == 0): \n",
    "    cols = (len(box_cols)+1) // rows\n",
    "else:\n",
    "    cols = ((len(box_cols)+1) // rows) + ((len(box_cols) // rows) % rows)\n",
    "plt.rc('ytick',labelsize=15)\n",
    "\n",
    "fig, axs = plt.subplots(rows, cols, figsize=(20,20))\n",
    "fig.subplots_adjust(hspace = 0.05, wspace=0.3)\n",
    "axs = axs.ravel()\n",
    "for j,k in enumerate(box_cols):\n",
    "    b = sns.boxplot(y = k, data=df,ax = axs[j],)\n",
    "    b.set_ylabel(k,fontsize=20)\n"
   ]
  },
  {
   "cell_type": "markdown",
   "metadata": {},
   "source": [
    "### 이상치 확인"
   ]
  },
  {
   "cell_type": "code",
   "execution_count": 358,
   "metadata": {},
   "outputs": [
    {
     "data": {
      "text/html": [
       "<div>\n",
       "<style scoped>\n",
       "    .dataframe tbody tr th:only-of-type {\n",
       "        vertical-align: middle;\n",
       "    }\n",
       "\n",
       "    .dataframe tbody tr th {\n",
       "        vertical-align: top;\n",
       "    }\n",
       "\n",
       "    .dataframe thead th {\n",
       "        text-align: right;\n",
       "    }\n",
       "</style>\n",
       "<table border=\"1\" class=\"dataframe\">\n",
       "  <thead>\n",
       "    <tr style=\"text-align: right;\">\n",
       "      <th></th>\n",
       "      <th>MEDV</th>\n",
       "      <th>CRIM</th>\n",
       "      <th>ZN</th>\n",
       "      <th>INDUS</th>\n",
       "      <th>CHAS</th>\n",
       "      <th>NOX</th>\n",
       "      <th>RM</th>\n",
       "      <th>AGE</th>\n",
       "      <th>DIS</th>\n",
       "      <th>RAD</th>\n",
       "      <th>TAX</th>\n",
       "      <th>PTRATIO</th>\n",
       "      <th>B</th>\n",
       "      <th>LSTAT</th>\n",
       "    </tr>\n",
       "  </thead>\n",
       "  <tbody>\n",
       "    <tr>\n",
       "      <th>380</th>\n",
       "      <td>10.4000</td>\n",
       "      <td>88.9762</td>\n",
       "      <td>0.0000</td>\n",
       "      <td>18.1000</td>\n",
       "      <td>0</td>\n",
       "      <td>0.6710</td>\n",
       "      <td>6.9680</td>\n",
       "      <td>91.9000</td>\n",
       "      <td>1.4165</td>\n",
       "      <td>24</td>\n",
       "      <td>666</td>\n",
       "      <td>20.2000</td>\n",
       "      <td>396.9000</td>\n",
       "      <td>17.2100</td>\n",
       "    </tr>\n",
       "  </tbody>\n",
       "</table>\n",
       "</div>"
      ],
      "text/plain": [
       "       MEDV    CRIM     ZN   INDUS  CHAS    NOX     RM     AGE    DIS  RAD  TAX  PTRATIO        B   LSTAT\n",
       "380 10.4000 88.9762 0.0000 18.1000     0 0.6710 6.9680 91.9000 1.4165   24  666  20.2000 396.9000 17.2100"
      ]
     },
     "execution_count": 358,
     "metadata": {},
     "output_type": "execute_result"
    }
   ],
   "source": [
    "df[df[\"CRIM\"] > 80]"
   ]
  },
  {
   "cell_type": "code",
   "execution_count": 359,
   "metadata": {},
   "outputs": [
    {
     "data": {
      "text/html": [
       "<div>\n",
       "<style scoped>\n",
       "    .dataframe tbody tr th:only-of-type {\n",
       "        vertical-align: middle;\n",
       "    }\n",
       "\n",
       "    .dataframe tbody tr th {\n",
       "        vertical-align: top;\n",
       "    }\n",
       "\n",
       "    .dataframe thead th {\n",
       "        text-align: right;\n",
       "    }\n",
       "</style>\n",
       "<table border=\"1\" class=\"dataframe\">\n",
       "  <thead>\n",
       "    <tr style=\"text-align: right;\">\n",
       "      <th></th>\n",
       "      <th>MEDV</th>\n",
       "      <th>CRIM</th>\n",
       "      <th>ZN</th>\n",
       "      <th>INDUS</th>\n",
       "      <th>CHAS</th>\n",
       "      <th>NOX</th>\n",
       "      <th>RM</th>\n",
       "      <th>AGE</th>\n",
       "      <th>DIS</th>\n",
       "      <th>RAD</th>\n",
       "      <th>TAX</th>\n",
       "      <th>PTRATIO</th>\n",
       "      <th>B</th>\n",
       "      <th>LSTAT</th>\n",
       "    </tr>\n",
       "  </thead>\n",
       "  <tbody>\n",
       "    <tr>\n",
       "      <th>353</th>\n",
       "      <td>30.1000</td>\n",
       "      <td>0.0171</td>\n",
       "      <td>90.0000</td>\n",
       "      <td>2.0200</td>\n",
       "      <td>0</td>\n",
       "      <td>0.4100</td>\n",
       "      <td>6.7280</td>\n",
       "      <td>36.1000</td>\n",
       "      <td>12.1265</td>\n",
       "      <td>5</td>\n",
       "      <td>187</td>\n",
       "      <td>17.0000</td>\n",
       "      <td>384.4600</td>\n",
       "      <td>4.5000</td>\n",
       "    </tr>\n",
       "  </tbody>\n",
       "</table>\n",
       "</div>"
      ],
      "text/plain": [
       "       MEDV   CRIM      ZN  INDUS  CHAS    NOX     RM     AGE     DIS  RAD  TAX  PTRATIO        B  LSTAT\n",
       "353 30.1000 0.0171 90.0000 2.0200     0 0.4100 6.7280 36.1000 12.1265    5  187  17.0000 384.4600 4.5000"
      ]
     },
     "execution_count": 359,
     "metadata": {},
     "output_type": "execute_result"
    }
   ],
   "source": [
    "df[df[\"DIS\"] > 12]"
   ]
  },
  {
   "cell_type": "code",
   "execution_count": 360,
   "metadata": {
    "scrolled": true
   },
   "outputs": [],
   "source": [
    "df_40 = df[df[\"MEDV\"] > 40].sort_values(by=\"MEDV\", ascending = False)"
   ]
  },
  {
   "cell_type": "code",
   "execution_count": 361,
   "metadata": {},
   "outputs": [
    {
     "data": {
      "text/html": [
       "<div>\n",
       "<style scoped>\n",
       "    .dataframe tbody tr th:only-of-type {\n",
       "        vertical-align: middle;\n",
       "    }\n",
       "\n",
       "    .dataframe tbody tr th {\n",
       "        vertical-align: top;\n",
       "    }\n",
       "\n",
       "    .dataframe thead th {\n",
       "        text-align: right;\n",
       "    }\n",
       "</style>\n",
       "<table border=\"1\" class=\"dataframe\">\n",
       "  <thead>\n",
       "    <tr style=\"text-align: right;\">\n",
       "      <th></th>\n",
       "      <th>MEDV</th>\n",
       "      <th>CRIM</th>\n",
       "      <th>ZN</th>\n",
       "      <th>INDUS</th>\n",
       "      <th>CHAS</th>\n",
       "      <th>NOX</th>\n",
       "      <th>RM</th>\n",
       "      <th>AGE</th>\n",
       "      <th>DIS</th>\n",
       "      <th>RAD</th>\n",
       "      <th>TAX</th>\n",
       "      <th>PTRATIO</th>\n",
       "      <th>B</th>\n",
       "      <th>LSTAT</th>\n",
       "    </tr>\n",
       "  </thead>\n",
       "  <tbody>\n",
       "    <tr>\n",
       "      <th>372</th>\n",
       "      <td>50.0000</td>\n",
       "      <td>8.2673</td>\n",
       "      <td>0.0000</td>\n",
       "      <td>18.1000</td>\n",
       "      <td>1</td>\n",
       "      <td>0.6680</td>\n",
       "      <td>5.8750</td>\n",
       "      <td>89.6000</td>\n",
       "      <td>1.1296</td>\n",
       "      <td>24</td>\n",
       "      <td>666</td>\n",
       "      <td>20.2000</td>\n",
       "      <td>347.8800</td>\n",
       "      <td>8.8800</td>\n",
       "    </tr>\n",
       "    <tr>\n",
       "      <th>267</th>\n",
       "      <td>50.0000</td>\n",
       "      <td>0.5783</td>\n",
       "      <td>20.0000</td>\n",
       "      <td>3.9700</td>\n",
       "      <td>0</td>\n",
       "      <td>0.5750</td>\n",
       "      <td>8.2970</td>\n",
       "      <td>67.0000</td>\n",
       "      <td>2.4216</td>\n",
       "      <td>5</td>\n",
       "      <td>264</td>\n",
       "      <td>13.0000</td>\n",
       "      <td>384.5400</td>\n",
       "      <td>7.4400</td>\n",
       "    </tr>\n",
       "    <tr>\n",
       "      <th>161</th>\n",
       "      <td>50.0000</td>\n",
       "      <td>1.4634</td>\n",
       "      <td>0.0000</td>\n",
       "      <td>19.5800</td>\n",
       "      <td>0</td>\n",
       "      <td>0.6050</td>\n",
       "      <td>7.4890</td>\n",
       "      <td>90.8000</td>\n",
       "      <td>1.9709</td>\n",
       "      <td>5</td>\n",
       "      <td>403</td>\n",
       "      <td>14.7000</td>\n",
       "      <td>374.4300</td>\n",
       "      <td>1.7300</td>\n",
       "    </tr>\n",
       "    <tr>\n",
       "      <th>162</th>\n",
       "      <td>50.0000</td>\n",
       "      <td>1.8338</td>\n",
       "      <td>0.0000</td>\n",
       "      <td>19.5800</td>\n",
       "      <td>1</td>\n",
       "      <td>0.6050</td>\n",
       "      <td>7.8020</td>\n",
       "      <td>98.2000</td>\n",
       "      <td>2.0407</td>\n",
       "      <td>5</td>\n",
       "      <td>403</td>\n",
       "      <td>14.7000</td>\n",
       "      <td>389.6100</td>\n",
       "      <td>1.9200</td>\n",
       "    </tr>\n",
       "    <tr>\n",
       "      <th>163</th>\n",
       "      <td>50.0000</td>\n",
       "      <td>1.5190</td>\n",
       "      <td>0.0000</td>\n",
       "      <td>19.5800</td>\n",
       "      <td>1</td>\n",
       "      <td>0.6050</td>\n",
       "      <td>8.3750</td>\n",
       "      <td>93.9000</td>\n",
       "      <td>2.1620</td>\n",
       "      <td>5</td>\n",
       "      <td>403</td>\n",
       "      <td>14.7000</td>\n",
       "      <td>388.4500</td>\n",
       "      <td>3.3200</td>\n",
       "    </tr>\n",
       "  </tbody>\n",
       "</table>\n",
       "</div>"
      ],
      "text/plain": [
       "       MEDV   CRIM      ZN   INDUS  CHAS    NOX     RM     AGE    DIS  RAD  TAX  PTRATIO        B  LSTAT\n",
       "372 50.0000 8.2673  0.0000 18.1000     1 0.6680 5.8750 89.6000 1.1296   24  666  20.2000 347.8800 8.8800\n",
       "267 50.0000 0.5783 20.0000  3.9700     0 0.5750 8.2970 67.0000 2.4216    5  264  13.0000 384.5400 7.4400\n",
       "161 50.0000 1.4634  0.0000 19.5800     0 0.6050 7.4890 90.8000 1.9709    5  403  14.7000 374.4300 1.7300\n",
       "162 50.0000 1.8338  0.0000 19.5800     1 0.6050 7.8020 98.2000 2.0407    5  403  14.7000 389.6100 1.9200\n",
       "163 50.0000 1.5190  0.0000 19.5800     1 0.6050 8.3750 93.9000 2.1620    5  403  14.7000 388.4500 3.3200"
      ]
     },
     "execution_count": 361,
     "metadata": {},
     "output_type": "execute_result"
    }
   ],
   "source": [
    "df_40.head()"
   ]
  },
  {
   "cell_type": "code",
   "execution_count": 362,
   "metadata": {},
   "outputs": [],
   "source": [
    "df_50 = df[df[\"MEDV\"] > 49]"
   ]
  },
  {
   "cell_type": "code",
   "execution_count": 363,
   "metadata": {
    "scrolled": true
   },
   "outputs": [
    {
     "data": {
      "text/html": [
       "<div>\n",
       "<style scoped>\n",
       "    .dataframe tbody tr th:only-of-type {\n",
       "        vertical-align: middle;\n",
       "    }\n",
       "\n",
       "    .dataframe tbody tr th {\n",
       "        vertical-align: top;\n",
       "    }\n",
       "\n",
       "    .dataframe thead th {\n",
       "        text-align: right;\n",
       "    }\n",
       "</style>\n",
       "<table border=\"1\" class=\"dataframe\">\n",
       "  <thead>\n",
       "    <tr style=\"text-align: right;\">\n",
       "      <th></th>\n",
       "      <th>MEDV</th>\n",
       "      <th>CRIM</th>\n",
       "      <th>ZN</th>\n",
       "      <th>INDUS</th>\n",
       "      <th>CHAS</th>\n",
       "      <th>NOX</th>\n",
       "      <th>RM</th>\n",
       "      <th>AGE</th>\n",
       "      <th>DIS</th>\n",
       "      <th>RAD</th>\n",
       "      <th>TAX</th>\n",
       "      <th>PTRATIO</th>\n",
       "      <th>B</th>\n",
       "      <th>LSTAT</th>\n",
       "    </tr>\n",
       "  </thead>\n",
       "  <tbody>\n",
       "    <tr>\n",
       "      <th>161</th>\n",
       "      <td>50.0000</td>\n",
       "      <td>1.4634</td>\n",
       "      <td>0.0000</td>\n",
       "      <td>19.5800</td>\n",
       "      <td>0</td>\n",
       "      <td>0.6050</td>\n",
       "      <td>7.4890</td>\n",
       "      <td>90.8000</td>\n",
       "      <td>1.9709</td>\n",
       "      <td>5</td>\n",
       "      <td>403</td>\n",
       "      <td>14.7000</td>\n",
       "      <td>374.4300</td>\n",
       "      <td>1.7300</td>\n",
       "    </tr>\n",
       "    <tr>\n",
       "      <th>162</th>\n",
       "      <td>50.0000</td>\n",
       "      <td>1.8338</td>\n",
       "      <td>0.0000</td>\n",
       "      <td>19.5800</td>\n",
       "      <td>1</td>\n",
       "      <td>0.6050</td>\n",
       "      <td>7.8020</td>\n",
       "      <td>98.2000</td>\n",
       "      <td>2.0407</td>\n",
       "      <td>5</td>\n",
       "      <td>403</td>\n",
       "      <td>14.7000</td>\n",
       "      <td>389.6100</td>\n",
       "      <td>1.9200</td>\n",
       "    </tr>\n",
       "    <tr>\n",
       "      <th>163</th>\n",
       "      <td>50.0000</td>\n",
       "      <td>1.5190</td>\n",
       "      <td>0.0000</td>\n",
       "      <td>19.5800</td>\n",
       "      <td>1</td>\n",
       "      <td>0.6050</td>\n",
       "      <td>8.3750</td>\n",
       "      <td>93.9000</td>\n",
       "      <td>2.1620</td>\n",
       "      <td>5</td>\n",
       "      <td>403</td>\n",
       "      <td>14.7000</td>\n",
       "      <td>388.4500</td>\n",
       "      <td>3.3200</td>\n",
       "    </tr>\n",
       "    <tr>\n",
       "      <th>166</th>\n",
       "      <td>50.0000</td>\n",
       "      <td>2.0102</td>\n",
       "      <td>0.0000</td>\n",
       "      <td>19.5800</td>\n",
       "      <td>0</td>\n",
       "      <td>0.6050</td>\n",
       "      <td>7.9290</td>\n",
       "      <td>96.2000</td>\n",
       "      <td>2.0459</td>\n",
       "      <td>5</td>\n",
       "      <td>403</td>\n",
       "      <td>14.7000</td>\n",
       "      <td>369.3000</td>\n",
       "      <td>3.7000</td>\n",
       "    </tr>\n",
       "    <tr>\n",
       "      <th>186</th>\n",
       "      <td>50.0000</td>\n",
       "      <td>0.0560</td>\n",
       "      <td>0.0000</td>\n",
       "      <td>2.4600</td>\n",
       "      <td>0</td>\n",
       "      <td>0.4880</td>\n",
       "      <td>7.8310</td>\n",
       "      <td>53.6000</td>\n",
       "      <td>3.1992</td>\n",
       "      <td>3</td>\n",
       "      <td>193</td>\n",
       "      <td>17.8000</td>\n",
       "      <td>392.6300</td>\n",
       "      <td>4.4500</td>\n",
       "    </tr>\n",
       "  </tbody>\n",
       "</table>\n",
       "</div>"
      ],
      "text/plain": [
       "       MEDV   CRIM     ZN   INDUS  CHAS    NOX     RM     AGE    DIS  RAD  TAX  PTRATIO        B  LSTAT\n",
       "161 50.0000 1.4634 0.0000 19.5800     0 0.6050 7.4890 90.8000 1.9709    5  403  14.7000 374.4300 1.7300\n",
       "162 50.0000 1.8338 0.0000 19.5800     1 0.6050 7.8020 98.2000 2.0407    5  403  14.7000 389.6100 1.9200\n",
       "163 50.0000 1.5190 0.0000 19.5800     1 0.6050 8.3750 93.9000 2.1620    5  403  14.7000 388.4500 3.3200\n",
       "166 50.0000 2.0102 0.0000 19.5800     0 0.6050 7.9290 96.2000 2.0459    5  403  14.7000 369.3000 3.7000\n",
       "186 50.0000 0.0560 0.0000  2.4600     0 0.4880 7.8310 53.6000 3.1992    3  193  17.8000 392.6300 4.4500"
      ]
     },
     "execution_count": 363,
     "metadata": {},
     "output_type": "execute_result"
    }
   ],
   "source": [
    "df_50.head()"
   ]
  },
  {
   "cell_type": "markdown",
   "metadata": {},
   "source": [
    "## 유의 변수들 분포 확인"
   ]
  },
  {
   "cell_type": "code",
   "execution_count": 496,
   "metadata": {},
   "outputs": [],
   "source": [
    "from scipy.stats import norm"
   ]
  },
  {
   "cell_type": "code",
   "execution_count": 499,
   "metadata": {
    "scrolled": true
   },
   "outputs": [
    {
     "data": {
      "image/png": "[encoded data removed]",
      "text/plain": [
       "<Figure size 504x360 with 1 Axes>"
      ]
     },
     "metadata": {
      "needs_background": "light"
     },
     "output_type": "display_data"
    }
   ],
   "source": [
    "plt.figure(figsize=(7,5))\n",
    "plt.title('log변환 후 LSTAT 분포',)\n",
    "ax = sns.distplot(df[\"LSTAT\"], fit=norm)"
   ]
  },
  {
   "cell_type": "code",
   "execution_count": 500,
   "metadata": {},
   "outputs": [
    {
     "data": {
      "image/png": "[encoded data removed]",
      "text/plain": [
       "<Figure size 504x360 with 1 Axes>"
      ]
     },
     "metadata": {
      "needs_background": "light"
     },
     "output_type": "display_data"
    }
   ],
   "source": [
    "plt.figure(figsize=(7,5))\n",
    "plt.title('log변환 후 LSTAT 분포',)\n",
    "ax = sns.distplot(df[\"LSTAT\"], fit=norm)"
   ]
  },
  {
   "cell_type": "markdown",
   "metadata": {},
   "source": [
    "# 이상치 제거"
   ]
  },
  {
   "cell_type": "code",
   "execution_count": 367,
   "metadata": {},
   "outputs": [
    {
     "name": "stdout",
     "output_type": "stream",
     "text": [
      "<class 'pandas.core.frame.DataFrame'>\n",
      "RangeIndex: 506 entries, 0 to 505\n",
      "Data columns (total 14 columns):\n",
      "MEDV       506 non-null float64\n",
      "CRIM       506 non-null float64\n",
      "ZN         506 non-null float64\n",
      "INDUS      506 non-null float64\n",
      "CHAS       506 non-null int64\n",
      "NOX        506 non-null float64\n",
      "RM         506 non-null float64\n",
      "AGE        506 non-null float64\n",
      "DIS        506 non-null float64\n",
      "RAD        506 non-null int64\n",
      "TAX        506 non-null int64\n",
      "PTRATIO    506 non-null float64\n",
      "B          506 non-null float64\n",
      "LSTAT      506 non-null float64\n",
      "dtypes: float64(11), int64(3)\n",
      "memory usage: 55.4 KB\n"
     ]
    }
   ],
   "source": [
    "df.info()"
   ]
  },
  {
   "cell_type": "code",
   "execution_count": 368,
   "metadata": {},
   "outputs": [
    {
     "name": "stdout",
     "output_type": "stream",
     "text": [
      "504\n"
     ]
    },
    {
     "data": {
      "text/html": [
       "<div>\n",
       "<style scoped>\n",
       "    .dataframe tbody tr th:only-of-type {\n",
       "        vertical-align: middle;\n",
       "    }\n",
       "\n",
       "    .dataframe tbody tr th {\n",
       "        vertical-align: top;\n",
       "    }\n",
       "\n",
       "    .dataframe thead th {\n",
       "        text-align: right;\n",
       "    }\n",
       "</style>\n",
       "<table border=\"1\" class=\"dataframe\">\n",
       "  <thead>\n",
       "    <tr style=\"text-align: right;\">\n",
       "      <th></th>\n",
       "      <th>MEDV</th>\n",
       "      <th>CRIM</th>\n",
       "      <th>ZN</th>\n",
       "      <th>INDUS</th>\n",
       "      <th>CHAS</th>\n",
       "      <th>NOX</th>\n",
       "      <th>RM</th>\n",
       "      <th>AGE</th>\n",
       "      <th>DIS</th>\n",
       "      <th>RAD</th>\n",
       "      <th>TAX</th>\n",
       "      <th>PTRATIO</th>\n",
       "      <th>B</th>\n",
       "      <th>LSTAT</th>\n",
       "    </tr>\n",
       "  </thead>\n",
       "  <tbody>\n",
       "    <tr>\n",
       "      <th>0</th>\n",
       "      <td>24.0000</td>\n",
       "      <td>0.0063</td>\n",
       "      <td>18.0000</td>\n",
       "      <td>2.3100</td>\n",
       "      <td>0</td>\n",
       "      <td>0.5380</td>\n",
       "      <td>6.5750</td>\n",
       "      <td>65.2000</td>\n",
       "      <td>4.0900</td>\n",
       "      <td>1</td>\n",
       "      <td>296</td>\n",
       "      <td>15.3000</td>\n",
       "      <td>396.9000</td>\n",
       "      <td>4.9800</td>\n",
       "    </tr>\n",
       "    <tr>\n",
       "      <th>1</th>\n",
       "      <td>21.6000</td>\n",
       "      <td>0.0273</td>\n",
       "      <td>0.0000</td>\n",
       "      <td>7.0700</td>\n",
       "      <td>0</td>\n",
       "      <td>0.4690</td>\n",
       "      <td>6.4210</td>\n",
       "      <td>78.9000</td>\n",
       "      <td>4.9671</td>\n",
       "      <td>2</td>\n",
       "      <td>242</td>\n",
       "      <td>17.8000</td>\n",
       "      <td>396.9000</td>\n",
       "      <td>9.1400</td>\n",
       "    </tr>\n",
       "    <tr>\n",
       "      <th>2</th>\n",
       "      <td>34.7000</td>\n",
       "      <td>0.0273</td>\n",
       "      <td>0.0000</td>\n",
       "      <td>7.0700</td>\n",
       "      <td>0</td>\n",
       "      <td>0.4690</td>\n",
       "      <td>7.1850</td>\n",
       "      <td>61.1000</td>\n",
       "      <td>4.9671</td>\n",
       "      <td>2</td>\n",
       "      <td>242</td>\n",
       "      <td>17.8000</td>\n",
       "      <td>392.8300</td>\n",
       "      <td>4.0300</td>\n",
       "    </tr>\n",
       "    <tr>\n",
       "      <th>3</th>\n",
       "      <td>33.4000</td>\n",
       "      <td>0.0324</td>\n",
       "      <td>0.0000</td>\n",
       "      <td>2.1800</td>\n",
       "      <td>0</td>\n",
       "      <td>0.4580</td>\n",
       "      <td>6.9980</td>\n",
       "      <td>45.8000</td>\n",
       "      <td>6.0622</td>\n",
       "      <td>3</td>\n",
       "      <td>222</td>\n",
       "      <td>18.7000</td>\n",
       "      <td>394.6300</td>\n",
       "      <td>2.9400</td>\n",
       "    </tr>\n",
       "    <tr>\n",
       "      <th>4</th>\n",
       "      <td>36.2000</td>\n",
       "      <td>0.0690</td>\n",
       "      <td>0.0000</td>\n",
       "      <td>2.1800</td>\n",
       "      <td>0</td>\n",
       "      <td>0.4580</td>\n",
       "      <td>7.1470</td>\n",
       "      <td>54.2000</td>\n",
       "      <td>6.0622</td>\n",
       "      <td>3</td>\n",
       "      <td>222</td>\n",
       "      <td>18.7000</td>\n",
       "      <td>396.9000</td>\n",
       "      <td>5.3300</td>\n",
       "    </tr>\n",
       "  </tbody>\n",
       "</table>\n",
       "</div>"
      ],
      "text/plain": [
       "     MEDV   CRIM      ZN  INDUS  CHAS    NOX     RM     AGE    DIS  RAD  TAX  PTRATIO        B  LSTAT\n",
       "0 24.0000 0.0063 18.0000 2.3100     0 0.5380 6.5750 65.2000 4.0900    1  296  15.3000 396.9000 4.9800\n",
       "1 21.6000 0.0273  0.0000 7.0700     0 0.4690 6.4210 78.9000 4.9671    2  242  17.8000 396.9000 9.1400\n",
       "2 34.7000 0.0273  0.0000 7.0700     0 0.4690 7.1850 61.1000 4.9671    2  242  17.8000 392.8300 4.0300\n",
       "3 33.4000 0.0324  0.0000 2.1800     0 0.4580 6.9980 45.8000 6.0622    3  222  18.7000 394.6300 2.9400\n",
       "4 36.2000 0.0690  0.0000 2.1800     0 0.4580 7.1470 54.2000 6.0622    3  222  18.7000 396.9000 5.3300"
      ]
     },
     "execution_count": 368,
     "metadata": {},
     "output_type": "execute_result"
    }
   ],
   "source": [
    "df_after_outlier = df[df[\"CRIM\"] < 79]\n",
    "df_after_outlier = df_after_outlier[df_after_outlier[\"DIS\"] < 11]\n",
    "print(len(df_after_outlier))\n",
    "df_after_outlier.head()"
   ]
  },
  {
   "cell_type": "markdown",
   "metadata": {},
   "source": [
    "# 표준화 & 더미화"
   ]
  },
  {
   "cell_type": "markdown",
   "metadata": {},
   "source": [
    "### 표준화"
   ]
  },
  {
   "cell_type": "code",
   "execution_count": 369,
   "metadata": {},
   "outputs": [],
   "source": [
    "x = df_after_outlier.drop('MEDV', axis = 1)\n",
    "y = df_after_outlier['MEDV']"
   ]
  },
  {
   "cell_type": "code",
   "execution_count": 370,
   "metadata": {},
   "outputs": [],
   "source": [
    "from sklearn.preprocessing import Normalizer"
   ]
  },
  {
   "cell_type": "code",
   "execution_count": 371,
   "metadata": {},
   "outputs": [],
   "source": [
    "nm = Normalizer()"
   ]
  },
  {
   "cell_type": "code",
   "execution_count": 372,
   "metadata": {},
   "outputs": [],
   "source": [
    "normal_col = x.columns.tolist()"
   ]
  },
  {
   "cell_type": "code",
   "execution_count": 373,
   "metadata": {},
   "outputs": [],
   "source": [
    "normal_col.remove(\"CHAS\")"
   ]
  },
  {
   "cell_type": "code",
   "execution_count": 374,
   "metadata": {},
   "outputs": [],
   "source": [
    "d = nm.fit(x[normal_col])"
   ]
  },
  {
   "cell_type": "code",
   "execution_count": 375,
   "metadata": {},
   "outputs": [],
   "source": [
    "x[normal_col] = d.transform(x[normal_col])"
   ]
  },
  {
   "cell_type": "code",
   "execution_count": 376,
   "metadata": {},
   "outputs": [
    {
     "data": {
      "text/html": [
       "<div>\n",
       "<style scoped>\n",
       "    .dataframe tbody tr th:only-of-type {\n",
       "        vertical-align: middle;\n",
       "    }\n",
       "\n",
       "    .dataframe tbody tr th {\n",
       "        vertical-align: top;\n",
       "    }\n",
       "\n",
       "    .dataframe thead th {\n",
       "        text-align: right;\n",
       "    }\n",
       "</style>\n",
       "<table border=\"1\" class=\"dataframe\">\n",
       "  <thead>\n",
       "    <tr style=\"text-align: right;\">\n",
       "      <th></th>\n",
       "      <th>CRIM</th>\n",
       "      <th>ZN</th>\n",
       "      <th>INDUS</th>\n",
       "      <th>CHAS</th>\n",
       "      <th>NOX</th>\n",
       "      <th>RM</th>\n",
       "      <th>AGE</th>\n",
       "      <th>DIS</th>\n",
       "      <th>RAD</th>\n",
       "      <th>TAX</th>\n",
       "      <th>PTRATIO</th>\n",
       "      <th>B</th>\n",
       "      <th>LSTAT</th>\n",
       "    </tr>\n",
       "  </thead>\n",
       "  <tbody>\n",
       "    <tr>\n",
       "      <th>0</th>\n",
       "      <td>0.0000</td>\n",
       "      <td>0.0360</td>\n",
       "      <td>0.0046</td>\n",
       "      <td>0</td>\n",
       "      <td>0.0011</td>\n",
       "      <td>0.0131</td>\n",
       "      <td>0.1304</td>\n",
       "      <td>0.0082</td>\n",
       "      <td>0.0020</td>\n",
       "      <td>0.5919</td>\n",
       "      <td>0.0306</td>\n",
       "      <td>0.7937</td>\n",
       "      <td>0.0100</td>\n",
       "    </tr>\n",
       "    <tr>\n",
       "      <th>1</th>\n",
       "      <td>0.0001</td>\n",
       "      <td>0.0000</td>\n",
       "      <td>0.0150</td>\n",
       "      <td>0</td>\n",
       "      <td>0.0010</td>\n",
       "      <td>0.0136</td>\n",
       "      <td>0.1671</td>\n",
       "      <td>0.0105</td>\n",
       "      <td>0.0042</td>\n",
       "      <td>0.5126</td>\n",
       "      <td>0.0377</td>\n",
       "      <td>0.8408</td>\n",
       "      <td>0.0194</td>\n",
       "    </tr>\n",
       "    <tr>\n",
       "      <th>2</th>\n",
       "      <td>0.0001</td>\n",
       "      <td>0.0000</td>\n",
       "      <td>0.0152</td>\n",
       "      <td>0</td>\n",
       "      <td>0.0010</td>\n",
       "      <td>0.0154</td>\n",
       "      <td>0.1311</td>\n",
       "      <td>0.0107</td>\n",
       "      <td>0.0043</td>\n",
       "      <td>0.5194</td>\n",
       "      <td>0.0382</td>\n",
       "      <td>0.8431</td>\n",
       "      <td>0.0086</td>\n",
       "    </tr>\n",
       "    <tr>\n",
       "      <th>3</th>\n",
       "      <td>0.0001</td>\n",
       "      <td>0.0000</td>\n",
       "      <td>0.0048</td>\n",
       "      <td>0</td>\n",
       "      <td>0.0010</td>\n",
       "      <td>0.0154</td>\n",
       "      <td>0.1005</td>\n",
       "      <td>0.0133</td>\n",
       "      <td>0.0066</td>\n",
       "      <td>0.4873</td>\n",
       "      <td>0.0410</td>\n",
       "      <td>0.8662</td>\n",
       "      <td>0.0065</td>\n",
       "    </tr>\n",
       "    <tr>\n",
       "      <th>4</th>\n",
       "      <td>0.0002</td>\n",
       "      <td>0.0000</td>\n",
       "      <td>0.0048</td>\n",
       "      <td>0</td>\n",
       "      <td>0.0010</td>\n",
       "      <td>0.0156</td>\n",
       "      <td>0.1182</td>\n",
       "      <td>0.0132</td>\n",
       "      <td>0.0065</td>\n",
       "      <td>0.4842</td>\n",
       "      <td>0.0408</td>\n",
       "      <td>0.8656</td>\n",
       "      <td>0.0116</td>\n",
       "    </tr>\n",
       "  </tbody>\n",
       "</table>\n",
       "</div>"
      ],
      "text/plain": [
       "    CRIM     ZN  INDUS  CHAS    NOX     RM    AGE    DIS    RAD    TAX  PTRATIO      B  LSTAT\n",
       "0 0.0000 0.0360 0.0046     0 0.0011 0.0131 0.1304 0.0082 0.0020 0.5919   0.0306 0.7937 0.0100\n",
       "1 0.0001 0.0000 0.0150     0 0.0010 0.0136 0.1671 0.0105 0.0042 0.5126   0.0377 0.8408 0.0194\n",
       "2 0.0001 0.0000 0.0152     0 0.0010 0.0154 0.1311 0.0107 0.0043 0.5194   0.0382 0.8431 0.0086\n",
       "3 0.0001 0.0000 0.0048     0 0.0010 0.0154 0.1005 0.0133 0.0066 0.4873   0.0410 0.8662 0.0065\n",
       "4 0.0002 0.0000 0.0048     0 0.0010 0.0156 0.1182 0.0132 0.0065 0.4842   0.0408 0.8656 0.0116"
      ]
     },
     "execution_count": 376,
     "metadata": {},
     "output_type": "execute_result"
    }
   ],
   "source": [
    "x.head()"
   ]
  },
  {
   "cell_type": "markdown",
   "metadata": {},
   "source": [
    "### 더미화"
   ]
  },
  {
   "cell_type": "code",
   "execution_count": 377,
   "metadata": {},
   "outputs": [],
   "source": [
    "cate_cols = [\"CHAS\"]"
   ]
  },
  {
   "cell_type": "code",
   "execution_count": 378,
   "metadata": {},
   "outputs": [],
   "source": [
    "x_d = pd.get_dummies(x, columns=[\"CHAS\"], prefix=\"CHAS\")"
   ]
  },
  {
   "cell_type": "code",
   "execution_count": 379,
   "metadata": {},
   "outputs": [
    {
     "data": {
      "text/html": [
       "<div>\n",
       "<style scoped>\n",
       "    .dataframe tbody tr th:only-of-type {\n",
       "        vertical-align: middle;\n",
       "    }\n",
       "\n",
       "    .dataframe tbody tr th {\n",
       "        vertical-align: top;\n",
       "    }\n",
       "\n",
       "    .dataframe thead th {\n",
       "        text-align: right;\n",
       "    }\n",
       "</style>\n",
       "<table border=\"1\" class=\"dataframe\">\n",
       "  <thead>\n",
       "    <tr style=\"text-align: right;\">\n",
       "      <th></th>\n",
       "      <th>CRIM</th>\n",
       "      <th>ZN</th>\n",
       "      <th>INDUS</th>\n",
       "      <th>NOX</th>\n",
       "      <th>RM</th>\n",
       "      <th>AGE</th>\n",
       "      <th>DIS</th>\n",
       "      <th>RAD</th>\n",
       "      <th>TAX</th>\n",
       "      <th>PTRATIO</th>\n",
       "      <th>B</th>\n",
       "      <th>LSTAT</th>\n",
       "      <th>CHAS_0</th>\n",
       "      <th>CHAS_1</th>\n",
       "    </tr>\n",
       "  </thead>\n",
       "  <tbody>\n",
       "    <tr>\n",
       "      <th>0</th>\n",
       "      <td>0.0000</td>\n",
       "      <td>0.0360</td>\n",
       "      <td>0.0046</td>\n",
       "      <td>0.0011</td>\n",
       "      <td>0.0131</td>\n",
       "      <td>0.1304</td>\n",
       "      <td>0.0082</td>\n",
       "      <td>0.0020</td>\n",
       "      <td>0.5919</td>\n",
       "      <td>0.0306</td>\n",
       "      <td>0.7937</td>\n",
       "      <td>0.0100</td>\n",
       "      <td>1</td>\n",
       "      <td>0</td>\n",
       "    </tr>\n",
       "    <tr>\n",
       "      <th>1</th>\n",
       "      <td>0.0001</td>\n",
       "      <td>0.0000</td>\n",
       "      <td>0.0150</td>\n",
       "      <td>0.0010</td>\n",
       "      <td>0.0136</td>\n",
       "      <td>0.1671</td>\n",
       "      <td>0.0105</td>\n",
       "      <td>0.0042</td>\n",
       "      <td>0.5126</td>\n",
       "      <td>0.0377</td>\n",
       "      <td>0.8408</td>\n",
       "      <td>0.0194</td>\n",
       "      <td>1</td>\n",
       "      <td>0</td>\n",
       "    </tr>\n",
       "    <tr>\n",
       "      <th>2</th>\n",
       "      <td>0.0001</td>\n",
       "      <td>0.0000</td>\n",
       "      <td>0.0152</td>\n",
       "      <td>0.0010</td>\n",
       "      <td>0.0154</td>\n",
       "      <td>0.1311</td>\n",
       "      <td>0.0107</td>\n",
       "      <td>0.0043</td>\n",
       "      <td>0.5194</td>\n",
       "      <td>0.0382</td>\n",
       "      <td>0.8431</td>\n",
       "      <td>0.0086</td>\n",
       "      <td>1</td>\n",
       "      <td>0</td>\n",
       "    </tr>\n",
       "    <tr>\n",
       "      <th>3</th>\n",
       "      <td>0.0001</td>\n",
       "      <td>0.0000</td>\n",
       "      <td>0.0048</td>\n",
       "      <td>0.0010</td>\n",
       "      <td>0.0154</td>\n",
       "      <td>0.1005</td>\n",
       "      <td>0.0133</td>\n",
       "      <td>0.0066</td>\n",
       "      <td>0.4873</td>\n",
       "      <td>0.0410</td>\n",
       "      <td>0.8662</td>\n",
       "      <td>0.0065</td>\n",
       "      <td>1</td>\n",
       "      <td>0</td>\n",
       "    </tr>\n",
       "    <tr>\n",
       "      <th>4</th>\n",
       "      <td>0.0002</td>\n",
       "      <td>0.0000</td>\n",
       "      <td>0.0048</td>\n",
       "      <td>0.0010</td>\n",
       "      <td>0.0156</td>\n",
       "      <td>0.1182</td>\n",
       "      <td>0.0132</td>\n",
       "      <td>0.0065</td>\n",
       "      <td>0.4842</td>\n",
       "      <td>0.0408</td>\n",
       "      <td>0.8656</td>\n",
       "      <td>0.0116</td>\n",
       "      <td>1</td>\n",
       "      <td>0</td>\n",
       "    </tr>\n",
       "  </tbody>\n",
       "</table>\n",
       "</div>"
      ],
      "text/plain": [
       "    CRIM     ZN  INDUS    NOX     RM    AGE    DIS    RAD    TAX  PTRATIO      B  LSTAT  CHAS_0  CHAS_1\n",
       "0 0.0000 0.0360 0.0046 0.0011 0.0131 0.1304 0.0082 0.0020 0.5919   0.0306 0.7937 0.0100       1       0\n",
       "1 0.0001 0.0000 0.0150 0.0010 0.0136 0.1671 0.0105 0.0042 0.5126   0.0377 0.8408 0.0194       1       0\n",
       "2 0.0001 0.0000 0.0152 0.0010 0.0154 0.1311 0.0107 0.0043 0.5194   0.0382 0.8431 0.0086       1       0\n",
       "3 0.0001 0.0000 0.0048 0.0010 0.0154 0.1005 0.0133 0.0066 0.4873   0.0410 0.8662 0.0065       1       0\n",
       "4 0.0002 0.0000 0.0048 0.0010 0.0156 0.1182 0.0132 0.0065 0.4842   0.0408 0.8656 0.0116       1       0"
      ]
     },
     "execution_count": 379,
     "metadata": {},
     "output_type": "execute_result"
    }
   ],
   "source": [
    "x_d.head()"
   ]
  },
  {
   "cell_type": "markdown",
   "metadata": {},
   "source": [
    "# MODELING"
   ]
  },
  {
   "cell_type": "code",
   "execution_count": 380,
   "metadata": {},
   "outputs": [
    {
     "name": "stderr",
     "output_type": "stream",
     "text": [
      "/home/pirl/anaconda3/envs/py36/lib/python3.6/site-packages/numpy/core/fromnumeric.py:2389: FutureWarning: Method .ptp is deprecated and will be removed in a future version. Use numpy.ptp instead.\n",
      "  return ptp(axis=axis, out=out, **kwargs)\n"
     ]
    },
    {
     "data": {
      "text/html": [
       "<div>\n",
       "<style scoped>\n",
       "    .dataframe tbody tr th:only-of-type {\n",
       "        vertical-align: middle;\n",
       "    }\n",
       "\n",
       "    .dataframe tbody tr th {\n",
       "        vertical-align: top;\n",
       "    }\n",
       "\n",
       "    .dataframe thead th {\n",
       "        text-align: right;\n",
       "    }\n",
       "</style>\n",
       "<table border=\"1\" class=\"dataframe\">\n",
       "  <thead>\n",
       "    <tr style=\"text-align: right;\">\n",
       "      <th></th>\n",
       "      <th>const</th>\n",
       "      <th>CRIM</th>\n",
       "      <th>ZN</th>\n",
       "      <th>INDUS</th>\n",
       "      <th>CHAS</th>\n",
       "      <th>NOX</th>\n",
       "      <th>RM</th>\n",
       "      <th>AGE</th>\n",
       "      <th>DIS</th>\n",
       "      <th>RAD</th>\n",
       "      <th>TAX</th>\n",
       "      <th>PTRATIO</th>\n",
       "      <th>B</th>\n",
       "      <th>LSTAT</th>\n",
       "    </tr>\n",
       "  </thead>\n",
       "  <tbody>\n",
       "    <tr>\n",
       "      <th>0</th>\n",
       "      <td>1.0000</td>\n",
       "      <td>0.0000</td>\n",
       "      <td>0.0360</td>\n",
       "      <td>0.0046</td>\n",
       "      <td>0</td>\n",
       "      <td>0.0011</td>\n",
       "      <td>0.0131</td>\n",
       "      <td>0.1304</td>\n",
       "      <td>0.0082</td>\n",
       "      <td>0.0020</td>\n",
       "      <td>0.5919</td>\n",
       "      <td>0.0306</td>\n",
       "      <td>0.7937</td>\n",
       "      <td>0.0100</td>\n",
       "    </tr>\n",
       "    <tr>\n",
       "      <th>1</th>\n",
       "      <td>1.0000</td>\n",
       "      <td>0.0001</td>\n",
       "      <td>0.0000</td>\n",
       "      <td>0.0150</td>\n",
       "      <td>0</td>\n",
       "      <td>0.0010</td>\n",
       "      <td>0.0136</td>\n",
       "      <td>0.1671</td>\n",
       "      <td>0.0105</td>\n",
       "      <td>0.0042</td>\n",
       "      <td>0.5126</td>\n",
       "      <td>0.0377</td>\n",
       "      <td>0.8408</td>\n",
       "      <td>0.0194</td>\n",
       "    </tr>\n",
       "    <tr>\n",
       "      <th>2</th>\n",
       "      <td>1.0000</td>\n",
       "      <td>0.0001</td>\n",
       "      <td>0.0000</td>\n",
       "      <td>0.0152</td>\n",
       "      <td>0</td>\n",
       "      <td>0.0010</td>\n",
       "      <td>0.0154</td>\n",
       "      <td>0.1311</td>\n",
       "      <td>0.0107</td>\n",
       "      <td>0.0043</td>\n",
       "      <td>0.5194</td>\n",
       "      <td>0.0382</td>\n",
       "      <td>0.8431</td>\n",
       "      <td>0.0086</td>\n",
       "    </tr>\n",
       "    <tr>\n",
       "      <th>3</th>\n",
       "      <td>1.0000</td>\n",
       "      <td>0.0001</td>\n",
       "      <td>0.0000</td>\n",
       "      <td>0.0048</td>\n",
       "      <td>0</td>\n",
       "      <td>0.0010</td>\n",
       "      <td>0.0154</td>\n",
       "      <td>0.1005</td>\n",
       "      <td>0.0133</td>\n",
       "      <td>0.0066</td>\n",
       "      <td>0.4873</td>\n",
       "      <td>0.0410</td>\n",
       "      <td>0.8662</td>\n",
       "      <td>0.0065</td>\n",
       "    </tr>\n",
       "    <tr>\n",
       "      <th>4</th>\n",
       "      <td>1.0000</td>\n",
       "      <td>0.0002</td>\n",
       "      <td>0.0000</td>\n",
       "      <td>0.0048</td>\n",
       "      <td>0</td>\n",
       "      <td>0.0010</td>\n",
       "      <td>0.0156</td>\n",
       "      <td>0.1182</td>\n",
       "      <td>0.0132</td>\n",
       "      <td>0.0065</td>\n",
       "      <td>0.4842</td>\n",
       "      <td>0.0408</td>\n",
       "      <td>0.8656</td>\n",
       "      <td>0.0116</td>\n",
       "    </tr>\n",
       "  </tbody>\n",
       "</table>\n",
       "</div>"
      ],
      "text/plain": [
       "   const   CRIM     ZN  INDUS  CHAS    NOX     RM    AGE    DIS    RAD    TAX  PTRATIO      B  LSTAT\n",
       "0 1.0000 0.0000 0.0360 0.0046     0 0.0011 0.0131 0.1304 0.0082 0.0020 0.5919   0.0306 0.7937 0.0100\n",
       "1 1.0000 0.0001 0.0000 0.0150     0 0.0010 0.0136 0.1671 0.0105 0.0042 0.5126   0.0377 0.8408 0.0194\n",
       "2 1.0000 0.0001 0.0000 0.0152     0 0.0010 0.0154 0.1311 0.0107 0.0043 0.5194   0.0382 0.8431 0.0086\n",
       "3 1.0000 0.0001 0.0000 0.0048     0 0.0010 0.0154 0.1005 0.0133 0.0066 0.4873   0.0410 0.8662 0.0065\n",
       "4 1.0000 0.0002 0.0000 0.0048     0 0.0010 0.0156 0.1182 0.0132 0.0065 0.4842   0.0408 0.8656 0.0116"
      ]
     },
     "execution_count": 380,
     "metadata": {},
     "output_type": "execute_result"
    }
   ],
   "source": [
    "# 절편 추가\n",
    "x_const = sm.add_constant(x)\n",
    "x_const.head()\n"
   ]
  },
  {
   "cell_type": "code",
   "execution_count": 381,
   "metadata": {},
   "outputs": [
    {
     "name": "stdout",
     "output_type": "stream",
     "text": [
      "                            OLS Regression Results                            \n",
      "==============================================================================\n",
      "Dep. Variable:                   MEDV   R-squared:                       0.746\n",
      "Model:                            OLS   Adj. R-squared:                  0.739\n",
      "Method:                 Least Squares   F-statistic:                     110.8\n",
      "Date:                Thu, 31 Jan 2019   Prob (F-statistic):          1.33e-136\n",
      "Time:                        14:25:29   Log-Likelihood:                -1487.2\n",
      "No. Observations:                 504   AIC:                             3002.\n",
      "Df Residuals:                     490   BIC:                             3062.\n",
      "Df Model:                          13                                         \n",
      "Covariance Type:            nonrobust                                         \n",
      "==============================================================================\n",
      "                 coef    std err          t      P>|t|      [0.025      0.975]\n",
      "------------------------------------------------------------------------------\n",
      "const          7.9615      8.835      0.901      0.368      -9.397      25.320\n",
      "CRIM         -75.5167     27.495     -2.747      0.006    -129.539     -21.494\n",
      "ZN            15.1286      6.959      2.174      0.030       1.456      28.801\n",
      "INDUS         24.9085     30.453      0.818      0.414     -34.926      84.743\n",
      "CHAS           3.1367      0.849      3.695      0.000       1.469       4.805\n",
      "NOX        -6428.0263   1740.921     -3.692      0.000   -9848.617   -3007.435\n",
      "RM          2789.6515    187.909     14.846      0.000    2420.444    3158.859\n",
      "AGE           -2.2209      6.714     -0.331      0.741     -15.413      10.971\n",
      "DIS         -559.0658     95.703     -5.842      0.000    -747.104    -371.028\n",
      "RAD          134.1354     41.437      3.237      0.001      52.719     215.552\n",
      "TAX            2.6868      6.048      0.444      0.657      -9.197      14.570\n",
      "PTRATIO     -390.8424     58.964     -6.629      0.000    -506.696    -274.989\n",
      "B             10.4312      3.898      2.676      0.008       2.773      18.090\n",
      "LSTAT       -238.4164     27.992     -8.517      0.000    -293.415    -183.418\n",
      "==============================================================================\n",
      "Omnibus:                      253.760   Durbin-Watson:                   0.948\n",
      "Prob(Omnibus):                  0.000   Jarque-Bera (JB):             2072.328\n",
      "Skew:                           2.039   Prob(JB):                         0.00\n",
      "Kurtosis:                      12.059   Cond. No.                     1.16e+04\n",
      "==============================================================================\n",
      "\n",
      "Warnings:\n",
      "[1] Standard Errors assume that the covariance matrix of the errors is correctly specified.\n",
      "[2] The condition number is large, 1.16e+04. This might indicate that there are\n",
      "strong multicollinearity or other numerical problems.\n"
     ]
    }
   ],
   "source": [
    "reg_multi_model = sm.OLS((y), x_const)\n",
    "#적합\n",
    "reg_multi_results = reg_multi_model.fit()\n",
    "print(reg_multi_results.summary())"
   ]
  },
  {
   "cell_type": "markdown",
   "metadata": {},
   "source": [
    "# 변수 선택"
   ]
  },
  {
   "cell_type": "code",
   "execution_count": 340,
   "metadata": {
    "scrolled": true
   },
   "outputs": [
    {
     "data": {
      "text/html": [
       "<div>\n",
       "<style scoped>\n",
       "    .dataframe tbody tr th:only-of-type {\n",
       "        vertical-align: middle;\n",
       "    }\n",
       "\n",
       "    .dataframe tbody tr th {\n",
       "        vertical-align: top;\n",
       "    }\n",
       "\n",
       "    .dataframe thead th {\n",
       "        text-align: right;\n",
       "    }\n",
       "</style>\n",
       "<table border=\"1\" class=\"dataframe\">\n",
       "  <thead>\n",
       "    <tr style=\"text-align: right;\">\n",
       "      <th></th>\n",
       "      <th>variable</th>\n",
       "      <th>VIF</th>\n",
       "    </tr>\n",
       "  </thead>\n",
       "  <tbody>\n",
       "    <tr>\n",
       "      <th>4</th>\n",
       "      <td>CHAS</td>\n",
       "      <td>1.0660</td>\n",
       "    </tr>\n",
       "    <tr>\n",
       "      <th>1</th>\n",
       "      <td>CRIM</td>\n",
       "      <td>1.9590</td>\n",
       "    </tr>\n",
       "    <tr>\n",
       "      <th>13</th>\n",
       "      <td>LSTAT</td>\n",
       "      <td>2.2920</td>\n",
       "    </tr>\n",
       "    <tr>\n",
       "      <th>2</th>\n",
       "      <td>ZN</td>\n",
       "      <td>2.3630</td>\n",
       "    </tr>\n",
       "    <tr>\n",
       "      <th>3</th>\n",
       "      <td>INDUS</td>\n",
       "      <td>2.4190</td>\n",
       "    </tr>\n",
       "    <tr>\n",
       "      <th>7</th>\n",
       "      <td>AGE</td>\n",
       "      <td>2.4230</td>\n",
       "    </tr>\n",
       "    <tr>\n",
       "      <th>5</th>\n",
       "      <td>NOX</td>\n",
       "      <td>2.4870</td>\n",
       "    </tr>\n",
       "    <tr>\n",
       "      <th>11</th>\n",
       "      <td>PTRATIO</td>\n",
       "      <td>2.8160</td>\n",
       "    </tr>\n",
       "    <tr>\n",
       "      <th>8</th>\n",
       "      <td>DIS</td>\n",
       "      <td>4.2360</td>\n",
       "    </tr>\n",
       "    <tr>\n",
       "      <th>9</th>\n",
       "      <td>RAD</td>\n",
       "      <td>4.5260</td>\n",
       "    </tr>\n",
       "    <tr>\n",
       "      <th>6</th>\n",
       "      <td>RM</td>\n",
       "      <td>5.7840</td>\n",
       "    </tr>\n",
       "    <tr>\n",
       "      <th>12</th>\n",
       "      <td>B</td>\n",
       "      <td>15.3860</td>\n",
       "    </tr>\n",
       "    <tr>\n",
       "      <th>10</th>\n",
       "      <td>TAX</td>\n",
       "      <td>19.1390</td>\n",
       "    </tr>\n",
       "    <tr>\n",
       "      <th>0</th>\n",
       "      <td>const</td>\n",
       "      <td>1786.3720</td>\n",
       "    </tr>\n",
       "  </tbody>\n",
       "</table>\n",
       "</div>"
      ],
      "text/plain": [
       "   variable       VIF\n",
       "4      CHAS    1.0660\n",
       "1      CRIM    1.9590\n",
       "13    LSTAT    2.2920\n",
       "2        ZN    2.3630\n",
       "3     INDUS    2.4190\n",
       "7       AGE    2.4230\n",
       "5       NOX    2.4870\n",
       "11  PTRATIO    2.8160\n",
       "8       DIS    4.2360\n",
       "9       RAD    4.5260\n",
       "6        RM    5.7840\n",
       "12        B   15.3860\n",
       "10      TAX   19.1390\n",
       "0     const 1786.3720"
      ]
     },
     "execution_count": 340,
     "metadata": {},
     "output_type": "execute_result"
    }
   ],
   "source": [
    "ds_vif = pd.DataFrame()\n",
    "ds_vif['variable'] = x_const.columns\n",
    "ds_vif[\"VIF\"] = [variance_inflation_factor(x_const.values, i) for i in range(x_const.shape[1])]\n",
    "ds_vif.sort_values(\"VIF\", inplace=True)\n",
    "ds_vif.round(3)"
   ]
  },
  {
   "cell_type": "markdown",
   "metadata": {},
   "source": [
    "### VIF로 변수 선택해서 다시 돌리기"
   ]
  },
  {
   "cell_type": "code",
   "execution_count": 326,
   "metadata": {},
   "outputs": [],
   "source": [
    "new_x = x.drop(['B','TAX'], axis = 1)"
   ]
  },
  {
   "cell_type": "code",
   "execution_count": 327,
   "metadata": {},
   "outputs": [
    {
     "name": "stderr",
     "output_type": "stream",
     "text": [
      "/home/pirl/anaconda3/envs/py36/lib/python3.6/site-packages/numpy/core/fromnumeric.py:2389: FutureWarning: Method .ptp is deprecated and will be removed in a future version. Use numpy.ptp instead.\n",
      "  return ptp(axis=axis, out=out, **kwargs)\n"
     ]
    },
    {
     "data": {
      "text/html": [
       "<div>\n",
       "<style scoped>\n",
       "    .dataframe tbody tr th:only-of-type {\n",
       "        vertical-align: middle;\n",
       "    }\n",
       "\n",
       "    .dataframe tbody tr th {\n",
       "        vertical-align: top;\n",
       "    }\n",
       "\n",
       "    .dataframe thead th {\n",
       "        text-align: right;\n",
       "    }\n",
       "</style>\n",
       "<table border=\"1\" class=\"dataframe\">\n",
       "  <thead>\n",
       "    <tr style=\"text-align: right;\">\n",
       "      <th></th>\n",
       "      <th>const</th>\n",
       "      <th>CRIM</th>\n",
       "      <th>ZN</th>\n",
       "      <th>INDUS</th>\n",
       "      <th>CHAS</th>\n",
       "      <th>NOX</th>\n",
       "      <th>RM</th>\n",
       "      <th>AGE</th>\n",
       "      <th>DIS</th>\n",
       "      <th>RAD</th>\n",
       "      <th>TAX</th>\n",
       "      <th>PTRATIO</th>\n",
       "      <th>B</th>\n",
       "      <th>LSTAT</th>\n",
       "    </tr>\n",
       "  </thead>\n",
       "  <tbody>\n",
       "    <tr>\n",
       "      <th>0</th>\n",
       "      <td>1.0000</td>\n",
       "      <td>0.0000</td>\n",
       "      <td>0.0360</td>\n",
       "      <td>0.0046</td>\n",
       "      <td>0</td>\n",
       "      <td>0.0011</td>\n",
       "      <td>0.0131</td>\n",
       "      <td>0.1304</td>\n",
       "      <td>0.0082</td>\n",
       "      <td>0.0020</td>\n",
       "      <td>0.5919</td>\n",
       "      <td>0.0306</td>\n",
       "      <td>0.7937</td>\n",
       "      <td>0.0100</td>\n",
       "    </tr>\n",
       "    <tr>\n",
       "      <th>1</th>\n",
       "      <td>1.0000</td>\n",
       "      <td>0.0001</td>\n",
       "      <td>0.0000</td>\n",
       "      <td>0.0150</td>\n",
       "      <td>0</td>\n",
       "      <td>0.0010</td>\n",
       "      <td>0.0136</td>\n",
       "      <td>0.1671</td>\n",
       "      <td>0.0105</td>\n",
       "      <td>0.0042</td>\n",
       "      <td>0.5126</td>\n",
       "      <td>0.0377</td>\n",
       "      <td>0.8408</td>\n",
       "      <td>0.0194</td>\n",
       "    </tr>\n",
       "    <tr>\n",
       "      <th>2</th>\n",
       "      <td>1.0000</td>\n",
       "      <td>0.0001</td>\n",
       "      <td>0.0000</td>\n",
       "      <td>0.0152</td>\n",
       "      <td>0</td>\n",
       "      <td>0.0010</td>\n",
       "      <td>0.0154</td>\n",
       "      <td>0.1311</td>\n",
       "      <td>0.0107</td>\n",
       "      <td>0.0043</td>\n",
       "      <td>0.5194</td>\n",
       "      <td>0.0382</td>\n",
       "      <td>0.8431</td>\n",
       "      <td>0.0086</td>\n",
       "    </tr>\n",
       "    <tr>\n",
       "      <th>3</th>\n",
       "      <td>1.0000</td>\n",
       "      <td>0.0001</td>\n",
       "      <td>0.0000</td>\n",
       "      <td>0.0048</td>\n",
       "      <td>0</td>\n",
       "      <td>0.0010</td>\n",
       "      <td>0.0154</td>\n",
       "      <td>0.1005</td>\n",
       "      <td>0.0133</td>\n",
       "      <td>0.0066</td>\n",
       "      <td>0.4873</td>\n",
       "      <td>0.0410</td>\n",
       "      <td>0.8662</td>\n",
       "      <td>0.0065</td>\n",
       "    </tr>\n",
       "    <tr>\n",
       "      <th>4</th>\n",
       "      <td>1.0000</td>\n",
       "      <td>0.0002</td>\n",
       "      <td>0.0000</td>\n",
       "      <td>0.0048</td>\n",
       "      <td>0</td>\n",
       "      <td>0.0010</td>\n",
       "      <td>0.0156</td>\n",
       "      <td>0.1182</td>\n",
       "      <td>0.0132</td>\n",
       "      <td>0.0065</td>\n",
       "      <td>0.4842</td>\n",
       "      <td>0.0408</td>\n",
       "      <td>0.8656</td>\n",
       "      <td>0.0116</td>\n",
       "    </tr>\n",
       "  </tbody>\n",
       "</table>\n",
       "</div>"
      ],
      "text/plain": [
       "   const   CRIM     ZN  INDUS  CHAS    NOX     RM    AGE    DIS    RAD    TAX  PTRATIO      B  LSTAT\n",
       "0 1.0000 0.0000 0.0360 0.0046     0 0.0011 0.0131 0.1304 0.0082 0.0020 0.5919   0.0306 0.7937 0.0100\n",
       "1 1.0000 0.0001 0.0000 0.0150     0 0.0010 0.0136 0.1671 0.0105 0.0042 0.5126   0.0377 0.8408 0.0194\n",
       "2 1.0000 0.0001 0.0000 0.0152     0 0.0010 0.0154 0.1311 0.0107 0.0043 0.5194   0.0382 0.8431 0.0086\n",
       "3 1.0000 0.0001 0.0000 0.0048     0 0.0010 0.0154 0.1005 0.0133 0.0066 0.4873   0.0410 0.8662 0.0065\n",
       "4 1.0000 0.0002 0.0000 0.0048     0 0.0010 0.0156 0.1182 0.0132 0.0065 0.4842   0.0408 0.8656 0.0116"
      ]
     },
     "execution_count": 327,
     "metadata": {},
     "output_type": "execute_result"
    }
   ],
   "source": [
    "# 절편 추가\n",
    "x_const_new = sm.add_constant(x)\n",
    "x_const_new.head()"
   ]
  },
  {
   "cell_type": "code",
   "execution_count": 328,
   "metadata": {},
   "outputs": [],
   "source": [
    "x_const_new['LSTAT'] = np.log(x_const_new[\"LSTAT\"])"
   ]
  },
  {
   "cell_type": "markdown",
   "metadata": {},
   "source": [
    "### 변수 전부에 y랑 LSTATS에 log 변환"
   ]
  },
  {
   "cell_type": "code",
   "execution_count": 329,
   "metadata": {},
   "outputs": [
    {
     "name": "stdout",
     "output_type": "stream",
     "text": [
      "                            OLS Regression Results                            \n",
      "==============================================================================\n",
      "Dep. Variable:                   MEDV   R-squared:                       0.790\n",
      "Model:                            OLS   Adj. R-squared:                  0.784\n",
      "Method:                 Least Squares   F-statistic:                     141.8\n",
      "Date:                Thu, 31 Jan 2019   Prob (F-statistic):          1.27e-156\n",
      "Time:                        14:10:27   Log-Likelihood:                 130.36\n",
      "No. Observations:                 504   AIC:                            -232.7\n",
      "Df Residuals:                     490   BIC:                            -173.6\n",
      "Df Model:                          13                                         \n",
      "Covariance Type:            nonrobust                                         \n",
      "==============================================================================\n",
      "                 coef    std err          t      P>|t|      [0.025      0.975]\n",
      "------------------------------------------------------------------------------\n",
      "const          1.4009      0.353      3.964      0.000       0.707       2.095\n",
      "CRIM          -9.0932      1.105     -8.228      0.000     -11.265      -6.922\n",
      "ZN            -0.0109      0.281     -0.039      0.969      -0.564       0.542\n",
      "INDUS          0.4590      1.224      0.375      0.708      -1.946       2.864\n",
      "CHAS           0.0929      0.034      2.703      0.007       0.025       0.161\n",
      "NOX         -111.3615     70.514     -1.579      0.115    -249.909      27.186\n",
      "RM            68.2304      8.048      8.478      0.000      52.418      84.043\n",
      "AGE            0.2259      0.271      0.833      0.405      -0.307       0.759\n",
      "DIS          -11.2308      3.879     -2.895      0.004     -18.853      -3.609\n",
      "RAD            4.2273      1.675      2.524      0.012       0.937       7.518\n",
      "TAX           -0.3029      0.246     -1.230      0.219      -0.787       0.181\n",
      "PTRATIO      -10.6647      2.387     -4.468      0.000     -15.354      -5.975\n",
      "B              0.2384      0.159      1.503      0.133      -0.073       0.550\n",
      "LSTAT         -0.3509      0.025    -13.979      0.000      -0.400      -0.302\n",
      "==============================================================================\n",
      "Omnibus:                       58.694   Durbin-Watson:                   0.971\n",
      "Prob(Omnibus):                  0.000   Jarque-Bera (JB):              378.404\n",
      "Skew:                           0.204   Prob(JB):                     6.77e-83\n",
      "Kurtosis:                       7.225   Cond. No.                     3.53e+04\n",
      "==============================================================================\n",
      "\n",
      "Warnings:\n",
      "[1] Standard Errors assume that the covariance matrix of the errors is correctly specified.\n",
      "[2] The condition number is large, 3.53e+04. This might indicate that there are\n",
      "strong multicollinearity or other numerical problems.\n"
     ]
    }
   ],
   "source": [
    "# Log 변환 -> LSTAT\n",
    "reg_multi_model = sm.OLS(np.log(y), x_const_new)\n",
    "#적합\n",
    "reg_multi_results = reg_multi_model.fit()\n",
    "print(reg_multi_results.summary())"
   ]
  },
  {
   "cell_type": "code",
   "execution_count": 337,
   "metadata": {},
   "outputs": [
    {
     "name": "stdout",
     "output_type": "stream",
     "text": [
      "                            OLS Regression Results                            \n",
      "==============================================================================\n",
      "Dep. Variable:                   MEDV   R-squared:                       0.797\n",
      "Model:                            OLS   Adj. R-squared:                  0.791\n",
      "Method:                 Least Squares   F-statistic:                     147.8\n",
      "Date:                Thu, 31 Jan 2019   Prob (F-statistic):          4.18e-160\n",
      "Time:                        14:24:42   Log-Likelihood:                -1431.2\n",
      "No. Observations:                 504   AIC:                             2890.\n",
      "Df Residuals:                     490   BIC:                             2950.\n",
      "Df Model:                          13                                         \n",
      "Covariance Type:            nonrobust                                         \n",
      "==============================================================================\n",
      "                 coef    std err          t      P>|t|      [0.025      0.975]\n",
      "------------------------------------------------------------------------------\n",
      "const        -17.9242      7.832     -2.289      0.023     -33.312      -2.536\n",
      "CRIM         -77.7953     24.492     -3.176      0.002    -125.918     -29.672\n",
      "ZN             7.6535      6.237      1.227      0.220      -4.601      19.908\n",
      "INDUS          6.9698     27.124      0.257      0.797     -46.324      60.263\n",
      "CHAS           2.3641      0.762      3.102      0.002       0.867       3.861\n",
      "NOX        -4006.1416   1562.651     -2.564      0.011   -7076.465    -935.818\n",
      "RM          2086.8719    178.343     11.701      0.000    1736.460    2437.284\n",
      "AGE            8.7343      6.013      1.453      0.147      -3.080      20.549\n",
      "DIS         -449.4667     85.970     -5.228      0.000    -618.383    -280.551\n",
      "RAD          113.3121     37.111      3.053      0.002      40.395     186.229\n",
      "TAX           -5.5090      5.458     -1.009      0.313     -16.234       5.216\n",
      "PTRATIO     -329.9988     52.890     -6.239      0.000    -433.919    -226.079\n",
      "B              5.4069      3.514      1.539      0.125      -1.498      12.312\n",
      "LSTAT         -8.1104      0.556    -14.582      0.000      -9.203      -7.018\n",
      "==============================================================================\n",
      "Omnibus:                      191.569   Durbin-Watson:                   1.064\n",
      "Prob(Omnibus):                  0.000   Jarque-Bera (JB):             1248.022\n",
      "Skew:                           1.509   Prob(JB):                    9.90e-272\n",
      "Kurtosis:                      10.094   Cond. No.                     3.53e+04\n",
      "==============================================================================\n",
      "\n",
      "Warnings:\n",
      "[1] Standard Errors assume that the covariance matrix of the errors is correctly specified.\n",
      "[2] The condition number is large, 3.53e+04. This might indicate that there are\n",
      "strong multicollinearity or other numerical problems.\n"
     ]
    }
   ],
   "source": [
    "#LSTAT에 로그 취하구 y에는 안 취하고\n",
    "reg_multi_model = sm.OLS((y), x_const_new)\n",
    "#적합\n",
    "reg_multi_results = reg_multi_model.fit()\n",
    "print(reg_multi_results.summary())"
   ]
  },
  {
   "cell_type": "code",
   "execution_count": 336,
   "metadata": {},
   "outputs": [
    {
     "data": {
      "text/plain": [
       "<matplotlib.axes._subplots.AxesSubplot at 0x7f91ec888320>"
      ]
     },
     "execution_count": 336,
     "metadata": {},
     "output_type": "execute_result"
    },
    {
     "data": {
      "image/png": "[encoded data removed]",
      "text/plain": [
       "<Figure size 720x576 with 1 Axes>"
      ]
     },
     "metadata": {
      "needs_background": "light"
     },
     "output_type": "display_data"
    }
   ],
   "source": [
    "plt.figure(figsize = (10,8))\n",
    "coef = pd.DataFrame({\"Coef\":reg_multi_results.params.values[1:]},\n",
    "                           index=reg_multi_model.exog_names[1:])\n",
    "\n",
    "# ds_reg_coef.plot.barh(y='Coef', legend = True, )\n",
    "sns.barplot(data=coef, x = 'Coef', y =coef.index)"
   ]
  },
  {
   "cell_type": "code",
   "execution_count": 260,
   "metadata": {},
   "outputs": [
    {
     "name": "stdout",
     "output_type": "stream",
     "text": [
      "                            OLS Regression Results                            \n",
      "==============================================================================\n",
      "Dep. Variable:                   MEDV   R-squared:                       0.762\n",
      "Model:                            OLS   Adj. R-squared:                  0.755\n",
      "Method:                 Least Squares   F-statistic:                     120.4\n",
      "Date:                Thu, 31 Jan 2019   Prob (F-statistic):          3.33e-143\n",
      "Time:                        12:14:26   Log-Likelihood:                 98.378\n",
      "No. Observations:                 504   AIC:                            -168.8\n",
      "Df Residuals:                     490   BIC:                            -109.6\n",
      "Df Model:                          13                                         \n",
      "Covariance Type:            nonrobust                                         \n",
      "==============================================================================\n",
      "                 coef    std err          t      P>|t|      [0.025      0.975]\n",
      "------------------------------------------------------------------------------\n",
      "const          2.6603      0.380      6.999      0.000       1.913       3.407\n",
      "CRIM          -8.7019      1.183     -7.356      0.000     -11.026      -6.378\n",
      "ZN             0.3296      0.299      1.101      0.271      -0.259       0.918\n",
      "INDUS          1.5029      1.310      1.147      0.252      -1.071       4.077\n",
      "CHAS           0.1244      0.037      3.407      0.001       0.053       0.196\n",
      "NOX         -172.9398     74.898     -2.309      0.021    -320.101     -25.778\n",
      "RM            90.0833      8.084     11.143      0.000      74.199     105.967\n",
      "AGE           -0.0339      0.289     -0.117      0.907      -0.601       0.534\n",
      "DIS          -14.2601      4.117     -3.463      0.001     -22.350      -6.170\n",
      "RAD            4.8291      1.783      2.709      0.007       1.326       8.332\n",
      "TAX           -0.0410      0.260     -0.158      0.875      -0.552       0.470\n",
      "PTRATIO      -12.2754      2.537     -4.839      0.000     -17.260      -7.291\n",
      "B              0.3968      0.168      2.366      0.018       0.067       0.726\n",
      "LSTAT        -12.8417      1.204    -10.663      0.000     -15.208     -10.475\n",
      "==============================================================================\n",
      "Omnibus:                       88.301   Durbin-Watson:                   0.913\n",
      "Prob(Omnibus):                  0.000   Jarque-Bera (JB):              524.178\n",
      "Skew:                           0.597   Prob(JB):                    1.50e-114\n",
      "Kurtosis:                       7.851   Cond. No.                     1.16e+04\n",
      "==============================================================================\n",
      "\n",
      "Warnings:\n",
      "[1] Standard Errors assume that the covariance matrix of the errors is correctly specified.\n",
      "[2] The condition number is large, 1.16e+04. This might indicate that there are\n",
      "strong multicollinearity or other numerical problems.\n"
     ]
    }
   ],
   "source": [
    "# LSTAT로그 취하기전\n",
    "reg_multi_model = sm.OLS(np.log(y), x_const_new)\n",
    "#적합\n",
    "reg_multi_results = reg_multi_model.fit()\n",
    "print(reg_multi_results.summary())"
   ]
  },
  {
   "cell_type": "code",
   "execution_count": 338,
   "metadata": {
    "scrolled": true
   },
   "outputs": [
    {
     "name": "stdout",
     "output_type": "stream",
     "text": [
      "Selected features:Index(['NOX', 'RM', 'DIS', 'PTRATIO', 'LSTAT'], dtype='object')\n",
      "Removed features:Index(['CRIM', 'ZN', 'INDUS', 'CHAS', 'AGE', 'RAD', 'TAX', 'B'], dtype='object')\n"
     ]
    }
   ],
   "source": [
    "model = LinearRegression()\n",
    "rfe = RFE(estimator= model, n_features_to_select=5).fit(x, (y))\n",
    "\n",
    "#선택된 변수\n",
    "selected_cols = x.columns[rfe.support_]\n",
    "removed_cols = x.columns[~rfe.support_]\n",
    "\n",
    "print(\"Selected features:{}\".format(selected_cols))\n",
    "print(\"Removed features:{}\".format(removed_cols))      "
   ]
  },
  {
   "cell_type": "code",
   "execution_count": 339,
   "metadata": {},
   "outputs": [
    {
     "name": "stdout",
     "output_type": "stream",
     "text": [
      "                            OLS Regression Results                            \n",
      "==============================================================================\n",
      "Dep. Variable:                   MEDV   R-squared:                       0.717\n",
      "Model:                            OLS   Adj. R-squared:                  0.714\n",
      "Method:                 Least Squares   F-statistic:                     251.9\n",
      "Date:                Thu, 31 Jan 2019   Prob (F-statistic):          7.50e-134\n",
      "Time:                        14:24:58   Log-Likelihood:                -1514.9\n",
      "No. Observations:                 504   AIC:                             3042.\n",
      "Df Residuals:                     498   BIC:                             3067.\n",
      "Df Model:                           5                                         \n",
      "Covariance Type:            nonrobust                                         \n",
      "==============================================================================\n",
      "                 coef    std err          t      P>|t|      [0.025      0.975]\n",
      "------------------------------------------------------------------------------\n",
      "const         18.3378      1.559     11.765      0.000      15.275      21.400\n",
      "NOX        -6928.3582   1632.751     -4.243      0.000   -1.01e+04   -3720.430\n",
      "RM          2981.2197    147.260     20.245      0.000    2691.893    3270.547\n",
      "DIS         -448.3290     73.524     -6.098      0.000    -592.785    -303.873\n",
      "PTRATIO     -425.1048     51.020     -8.332      0.000    -525.345    -324.864\n",
      "LSTAT       -267.4440     26.349    -10.150      0.000    -319.212    -215.676\n",
      "==============================================================================\n",
      "Omnibus:                      259.607   Durbin-Watson:                   0.850\n",
      "Prob(Omnibus):                  0.000   Jarque-Bera (JB):             2266.471\n",
      "Skew:                           2.073   Prob(JB):                         0.00\n",
      "Kurtosis:                      12.526   Cond. No.                     7.47e+03\n",
      "==============================================================================\n",
      "\n",
      "Warnings:\n",
      "[1] Standard Errors assume that the covariance matrix of the errors is correctly specified.\n",
      "[2] The condition number is large, 7.47e+03. This might indicate that there are\n",
      "strong multicollinearity or other numerical problems.\n"
     ]
    },
    {
     "name": "stderr",
     "output_type": "stream",
     "text": [
      "/home/pirl/anaconda3/envs/py36/lib/python3.6/site-packages/numpy/core/fromnumeric.py:2389: FutureWarning: Method .ptp is deprecated and will be removed in a future version. Use numpy.ptp instead.\n",
      "  return ptp(axis=axis, out=out, **kwargs)\n"
     ]
    }
   ],
   "source": [
    "x_rfe = sm.add_constant(x_const[selected_cols])\n",
    "reg_multi_rfe_model = sm.OLS(y, x_rfe)\n",
    "reg_multi_rfe_results = reg_multi_rfe_model.fit()\n",
    "print(reg_multi_rfe_results.summary())\n"
   ]
  },
  {
   "cell_type": "code",
   "execution_count": 333,
   "metadata": {},
   "outputs": [
    {
     "data": {
      "text/plain": [
       "<matplotlib.axes._subplots.AxesSubplot at 0x7f91ec894208>"
      ]
     },
     "execution_count": 333,
     "metadata": {},
     "output_type": "execute_result"
    },
    {
     "data": {
      "image/png": "[encoded data removed]",
      "text/plain": [
       "<Figure size 432x288 with 1 Axes>"
      ]
     },
     "metadata": {
      "needs_background": "light"
     },
     "output_type": "display_data"
    }
   ],
   "source": [
    "\n",
    "ds_reg_coef = pd.DataFrame({\"Coef\":reg_multi_rfe_results.params.values[1:]},\n",
    "                           index=reg_multi_rfe_model.exog_names[1:])\n",
    "\n",
    "# ds_reg_coef.plot.barh(y='Coef', legend = True, )\n",
    "sns.barplot(data=ds_reg_coef, x = 'Coef', y =ds_reg_coef.index)"
   ]
  },
  {
   "cell_type": "code",
   "execution_count": null,
   "metadata": {},
   "outputs": [],
   "source": []
  }
 ],
 "metadata": {
  "kernelspec": {
   "display_name": "py36",
   "language": "python",
   "name": "py36"
  },
  "language_info": {
   "codemirror_mode": {
    "name": "ipython",
    "version": 3
   },
   "file_extension": ".py",
   "mimetype": "text/x-python",
   "name": "python",
   "nbconvert_exporter": "python",
   "pygments_lexer": "ipython3",
   "version": "3.6.8"
  }
 },
 "nbformat": 4,
 "nbformat_minor": 2
}
