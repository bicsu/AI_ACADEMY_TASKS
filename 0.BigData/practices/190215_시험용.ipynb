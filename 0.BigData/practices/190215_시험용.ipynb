{
 "cells": [
  {
   "cell_type": "code",
   "execution_count": 1,
   "metadata": {},
   "outputs": [],
   "source": [
    "from sklearn.preprocessing import minmax_scale\n"
   ]
  },
  {
   "cell_type": "code",
   "execution_count": 2,
   "metadata": {},
   "outputs": [
    {
     "data": {
      "text/plain": [
       "array([1.        , 0.33333333, 0.66666667, 0.        ])"
      ]
     },
     "execution_count": 2,
     "metadata": {},
     "output_type": "execute_result"
    }
   ],
   "source": [
    "x = [10,4,7,1]\n",
    "minmax_scale(x)"
   ]
  },
  {
   "cell_type": "code",
   "execution_count": 19,
   "metadata": {},
   "outputs": [],
   "source": [
    "import pandas as pd\n",
    "from mlxtend.preprocessing import TransactionEncoder\n",
    "from mlxtend.frequent_patterns import association_rules\n",
    "from mlxtend.frequent_patterns import apriori\n",
    "\n",
    "ds_asso = [['우유','라면',],\n",
    "          ['라면',],\n",
    "          ['아이스크림', '우유',],\n",
    "          ['과자','라면',],\n",
    "           ['과자','라면',],\n",
    "           ['아이스크림']]\n"
   ]
  },
  {
   "cell_type": "code",
   "execution_count": 24,
   "metadata": {},
   "outputs": [
    {
     "name": "stdout",
     "output_type": "stream",
     "text": [
      "      과자     라면  아이스크림     우유\n",
      "0  False   True  False   True\n",
      "1  False   True  False  False\n",
      "2  False  False   True   True\n",
      "3   True   True  False  False\n",
      "4   True   True  False  False\n",
      "5  False  False   True  False\n",
      "===========================================\n",
      "    support itemsets\n",
      "0  0.666667     (라면)\n"
     ]
    }
   ],
   "source": [
    "\n",
    "enc = TransactionEncoder()\n",
    "arr = enc.fit_transform(X=ds_asso)\n",
    "ds_pre = pd.DataFrame(arr, columns= enc.columns_)\n",
    "\n",
    "\n",
    "min_support = 0.001\n",
    "ds_freq = apriori(ds_pre, min_support = 0.5, use_colnames = True)\n",
    "print(ds_pre)\n",
    "print('===========================================')\n",
    "print(ds_freq)\n"
   ]
  },
  {
   "cell_type": "code",
   "execution_count": 7,
   "metadata": {},
   "outputs": [
    {
     "data": {
      "text/html": [
       "<div>\n",
       "<style scoped>\n",
       "    .dataframe tbody tr th:only-of-type {\n",
       "        vertical-align: middle;\n",
       "    }\n",
       "\n",
       "    .dataframe tbody tr th {\n",
       "        vertical-align: top;\n",
       "    }\n",
       "\n",
       "    .dataframe thead th {\n",
       "        text-align: right;\n",
       "    }\n",
       "</style>\n",
       "<table border=\"1\" class=\"dataframe\">\n",
       "  <thead>\n",
       "    <tr style=\"text-align: right;\">\n",
       "      <th></th>\n",
       "      <th>antecedents</th>\n",
       "      <th>consequents</th>\n",
       "      <th>antecedent support</th>\n",
       "      <th>consequent support</th>\n",
       "      <th>support</th>\n",
       "      <th>confidence</th>\n",
       "      <th>lift</th>\n",
       "      <th>leverage</th>\n",
       "      <th>conviction</th>\n",
       "    </tr>\n",
       "  </thead>\n",
       "  <tbody>\n",
       "  </tbody>\n",
       "</table>\n",
       "</div>"
      ],
      "text/plain": [
       "Empty DataFrame\n",
       "Columns: [antecedents, consequents, antecedent support, consequent support, support, confidence, lift, leverage, conviction]\n",
       "Index: []"
      ]
     },
     "execution_count": 7,
     "metadata": {},
     "output_type": "execute_result"
    }
   ],
   "source": [
    "# 기준 = 신뢰도, 최소 신뢰도 = 0.5\n",
    "ds_asso_rule = association_rules(ds_freq, metric = \"confidence\", min_threshold=0.01)\n",
    "ds_asso_rule.round(3)"
   ]
  },
  {
   "cell_type": "code",
   "execution_count": 25,
   "metadata": {},
   "outputs": [],
   "source": [
    "from sklearn.tree import DecisionTreeClassifier"
   ]
  },
  {
   "cell_type": "code",
   "execution_count": 36,
   "metadata": {},
   "outputs": [],
   "source": [
    "data = pd.read_csv('./csvfiles/IRIS.csv')"
   ]
  },
  {
   "cell_type": "code",
   "execution_count": 37,
   "metadata": {},
   "outputs": [
    {
     "data": {
      "text/plain": [
       "0"
      ]
     },
     "execution_count": 37,
     "metadata": {},
     "output_type": "execute_result"
    }
   ],
   "source": [
    "data.isnull().sum().sum()"
   ]
  },
  {
   "cell_type": "code",
   "execution_count": 38,
   "metadata": {},
   "outputs": [
    {
     "data": {
      "text/plain": [
       "array(['setosa', 'versicolor', 'virginica'], dtype=object)"
      ]
     },
     "execution_count": 38,
     "metadata": {},
     "output_type": "execute_result"
    }
   ],
   "source": [
    "data['SPECIES'].unique()"
   ]
  },
  {
   "cell_type": "code",
   "execution_count": 39,
   "metadata": {},
   "outputs": [],
   "source": [
    "z = {'setosa' :1, 'versicolor' : 2, 'virginica':3}\n",
    "data['SPECIES'] = data['SPECIES'].map(z)"
   ]
  },
  {
   "cell_type": "code",
   "execution_count": 40,
   "metadata": {},
   "outputs": [],
   "source": [
    "from sklearn.model_selection import train_test_split\n",
    "x = data.drop('SPECIES', axis = 1)\n",
    "y = data[\"SPECIES\"]\n",
    "\n",
    "x_train, x_test, y_train, y_test = train_test_split(x,y, test_size=0.3, random_state=1234)"
   ]
  },
  {
   "cell_type": "code",
   "execution_count": 41,
   "metadata": {},
   "outputs": [],
   "source": [
    "dt_gini = DecisionTreeClassifier(min_samples_leaf=5, min_samples_split=10, criterion='gini')\n",
    "dt_entropy = DecisionTreeClassifier(min_samples_leaf=5, min_samples_split=10, criterion='entropy')"
   ]
  },
  {
   "cell_type": "code",
   "execution_count": 42,
   "metadata": {},
   "outputs": [
    {
     "data": {
      "text/plain": [
       "DecisionTreeClassifier(class_weight=None, criterion='entropy', max_depth=None,\n",
       "            max_features=None, max_leaf_nodes=None,\n",
       "            min_impurity_decrease=0.0, min_impurity_split=None,\n",
       "            min_samples_leaf=5, min_samples_split=10,\n",
       "            min_weight_fraction_leaf=0.0, presort=False, random_state=None,\n",
       "            splitter='best')"
      ]
     },
     "execution_count": 42,
     "metadata": {},
     "output_type": "execute_result"
    }
   ],
   "source": [
    "dt_gini.fit(x_train, y_train)\n",
    "dt_entropy.fit(x_train, y_train)"
   ]
  },
  {
   "cell_type": "code",
   "execution_count": 66,
   "metadata": {},
   "outputs": [
    {
     "name": "stdout",
     "output_type": "stream",
     "text": [
      "gini 0.9619047619047619\n",
      "entropy 0.9619047619047619\n",
      "gini 0.9555555555555556\n",
      "entropy 0.9555555555555556\n"
     ]
    }
   ],
   "source": [
    "print('gini', dt_gini.score(x_train, y_train))\n",
    "print('entropy',dt_entropy.score(x_train, y_train))\n",
    "\n",
    "print('gini', dt_gini.score(x_test, y_test))\n",
    "print('entropy',dt_entropy.score(x_test, y_test))"
   ]
  },
  {
   "cell_type": "markdown",
   "metadata": {},
   "source": [
    "# 주성분"
   ]
  },
  {
   "cell_type": "code",
   "execution_count": 64,
   "metadata": {},
   "outputs": [],
   "source": [
    "from sklearn.decomposition import PCA\n",
    "from scipy import stats\n",
    "from sklearn.preprocessing import StandardScaler\n",
    "import numpy as np\n",
    "import matplotlib.pyplot as plt"
   ]
  },
  {
   "cell_type": "code",
   "execution_count": 54,
   "metadata": {},
   "outputs": [],
   "source": [
    "pca_data = pd.read_csv('./csvfiles/체질검사.csv')"
   ]
  },
  {
   "cell_type": "code",
   "execution_count": 55,
   "metadata": {},
   "outputs": [],
   "source": [
    "x = pca_data.drop('FAT', axis = 1)\n",
    "y = pca_data['FAT']"
   ]
  },
  {
   "cell_type": "code",
   "execution_count": null,
   "metadata": {},
   "outputs": [],
   "source": []
  },
  {
   "cell_type": "code",
   "execution_count": 57,
   "metadata": {},
   "outputs": [
    {
     "name": "stdout",
     "output_type": "stream",
     "text": [
      "Scaled data :\n",
      "    AGE  WEIGHT  HEIGHT  NECK  CHEST  ABDOMEN    HIP  THIGH  KNEE  ANKLE  \\\n",
      "0   46  363.15   72.25  51.2  136.2    148.1  147.7   87.3  49.1   29.6   \n",
      "1   27  168.00   71.25  38.1   93.0     79.1   94.5   57.3  36.2   24.5   \n",
      "2   69  177.75   68.50  38.7  102.0     95.0   98.3   55.0  38.3   21.8   \n",
      "3   57  147.75   65.75  35.2   99.6     86.4   90.1   53.0  35.0   21.3   \n",
      "4   51  219.00   64.00  41.2  119.8    122.1  112.8   62.5  36.9   23.6   \n",
      "\n",
      "   BICEPS  FOREARM  WRIST  \n",
      "0    45.0     29.0   21.4  \n",
      "1    29.0     30.0   18.8  \n",
      "2    30.8     25.7   18.8  \n",
      "3    31.7     27.3   16.9  \n",
      "4    34.7     29.1   18.4  \n",
      "Shape :\n",
      " (252, 13)\n",
      "PCA Data :\n",
      " [[15.14078652  0.74918006  1.73038829  2.97562799 -1.20140416  1.91649244]\n",
      " [-1.25745311 -1.79805793 -0.60359147 -0.4059414   1.33324667  0.82223682]\n",
      " [-0.72744205  2.31886158 -0.89209681  0.68258035 -0.50328047  0.60020938]\n",
      " [-3.21015592  1.46511228  0.45790754 -0.57563715  0.01977212 -0.17880332]\n",
      " [ 3.24650172  2.29304235  1.82833929 -0.02336594 -0.40697879  1.14656798]]\n",
      "Shape :\n",
      " (252, 6)\n"
     ]
    },
    {
     "name": "stderr",
     "output_type": "stream",
     "text": [
      "/home/pirl/anaconda3/envs/py36/lib/python3.6/site-packages/sklearn/preprocessing/data.py:625: DataConversionWarning: Data with input dtype int64, float64 were all converted to float64 by StandardScaler.\n",
      "  return self.partial_fit(X, y)\n",
      "/home/pirl/anaconda3/envs/py36/lib/python3.6/site-packages/sklearn/base.py:462: DataConversionWarning: Data with input dtype int64, float64 were all converted to float64 by StandardScaler.\n",
      "  return self.fit(X, **fit_params).transform(X)\n"
     ]
    }
   ],
   "source": [
    "scaler = StandardScaler()\n",
    "x_scale = scaler.fit_transform(x)\n",
    "print(\"Scaled data :\\n {}\".format(x[:5].round(3)))\n",
    "print(\"Shape :\\n {}\".format(x_scale.shape))\n",
    "\n",
    "pca = PCA(n_components=6)\n",
    "\n",
    "x_pca = pca.fit_transform(x_scale)\n",
    "print(\"PCA Data :\\n {}\".format(x_pca[:5]))\n",
    "print(\"Shape :\\n {}\".format(x_pca.shape))\n",
    "ds_x_pca = pd.DataFrame(x_pca, columns=[\"Prin1\",\"Prin2\",\"Prin3\",\"Prin4\",\"Prin5\",\"Prin6\",])\n",
    "\n",
    "##### 고유값 확인\n"
   ]
  },
  {
   "cell_type": "code",
   "execution_count": 59,
   "metadata": {},
   "outputs": [],
   "source": [
    "\n",
    "ds_pca = pd.DataFrame()\n",
    "# 주성분 분석 모델의 주성분 번호, Eigenvalue, Eigenvalue ratio 등을 데이터 프레임의 형태로 저장\n",
    "ds_pca[\"Prin\"] = [i for i in range(1,7)]\n",
    "ds_pca[\"EigenValues\"] = pca.explained_variance_ \n",
    "ds_pca[\"EigenValueRatio\"] = pca.explained_variance_ratio_\n",
    "ds_pca[\"CumsumEigenValueratio\"] = np.cumsum(pca.explained_variance_ratio_)\n",
    "ds_pca.round(3)\n",
    "\n",
    "ds_feature = pd.DataFrame({\"Feature\" : x.columns})\n"
   ]
  },
  {
   "cell_type": "code",
   "execution_count": 68,
   "metadata": {},
   "outputs": [
    {
     "data": {
      "text/html": [
       "<div>\n",
       "<style scoped>\n",
       "    .dataframe tbody tr th:only-of-type {\n",
       "        vertical-align: middle;\n",
       "    }\n",
       "\n",
       "    .dataframe tbody tr th {\n",
       "        vertical-align: top;\n",
       "    }\n",
       "\n",
       "    .dataframe thead th {\n",
       "        text-align: right;\n",
       "    }\n",
       "</style>\n",
       "<table border=\"1\" class=\"dataframe\">\n",
       "  <thead>\n",
       "    <tr style=\"text-align: right;\">\n",
       "      <th></th>\n",
       "      <th>Prin</th>\n",
       "      <th>EigenValues</th>\n",
       "      <th>EigenValueRatio</th>\n",
       "      <th>CumsumEigenValueratio</th>\n",
       "    </tr>\n",
       "  </thead>\n",
       "  <tbody>\n",
       "    <tr>\n",
       "      <th>0</th>\n",
       "      <td>1</td>\n",
       "      <td>8.072219</td>\n",
       "      <td>0.618476</td>\n",
       "      <td>0.618476</td>\n",
       "    </tr>\n",
       "    <tr>\n",
       "      <th>1</th>\n",
       "      <td>2</td>\n",
       "      <td>1.360474</td>\n",
       "      <td>0.104237</td>\n",
       "      <td>0.722712</td>\n",
       "    </tr>\n",
       "    <tr>\n",
       "      <th>2</th>\n",
       "      <td>3</td>\n",
       "      <td>1.006311</td>\n",
       "      <td>0.077101</td>\n",
       "      <td>0.799814</td>\n",
       "    </tr>\n",
       "    <tr>\n",
       "      <th>3</th>\n",
       "      <td>4</td>\n",
       "      <td>0.670153</td>\n",
       "      <td>0.051346</td>\n",
       "      <td>0.851160</td>\n",
       "    </tr>\n",
       "    <tr>\n",
       "      <th>4</th>\n",
       "      <td>5</td>\n",
       "      <td>0.601199</td>\n",
       "      <td>0.046063</td>\n",
       "      <td>0.897222</td>\n",
       "    </tr>\n",
       "    <tr>\n",
       "      <th>5</th>\n",
       "      <td>6</td>\n",
       "      <td>0.315004</td>\n",
       "      <td>0.024135</td>\n",
       "      <td>0.921357</td>\n",
       "    </tr>\n",
       "  </tbody>\n",
       "</table>\n",
       "</div>"
      ],
      "text/plain": [
       "   Prin  EigenValues  EigenValueRatio  CumsumEigenValueratio\n",
       "0     1     8.072219         0.618476               0.618476\n",
       "1     2     1.360474         0.104237               0.722712\n",
       "2     3     1.006311         0.077101               0.799814\n",
       "3     4     0.670153         0.051346               0.851160\n",
       "4     5     0.601199         0.046063               0.897222\n",
       "5     6     0.315004         0.024135               0.921357"
      ]
     },
     "execution_count": 68,
     "metadata": {},
     "output_type": "execute_result"
    }
   ],
   "source": [
    "ds_pca"
   ]
  },
  {
   "cell_type": "code",
   "execution_count": 62,
   "metadata": {},
   "outputs": [],
   "source": [
    "temp_col = []\n",
    "for i in range(len(x.columns)):\n",
    "    temp_col.append('prin'+str(i+1))\n",
    "    "
   ]
  },
  {
   "cell_type": "code",
   "execution_count": 65,
   "metadata": {},
   "outputs": [
    {
     "data": {
      "text/plain": [
       "<matplotlib.legend.Legend at 0x7fa38ded5208>"
      ]
     },
     "execution_count": 65,
     "metadata": {},
     "output_type": "execute_result"
    },
    {
     "data": {
      "image/png": "[encoded data removed]",
      "text/plain": [
       "<Figure size 432x288 with 1 Axes>"
      ]
     },
     "metadata": {
      "needs_background": "light"
     },
     "output_type": "display_data"
    }
   ],
   "source": [
    "# 주성분 Prin 1~6까지의 고유벡터 저장\n",
    "ds_eigenvectors = pd.concat([ds_feature,pd.DataFrame(pca.components_, columns=[temp_col])], axis = 1)\n",
    "ds_eigenvectors\n",
    "\n",
    "plt.plot(ds_pca[\"Prin\"], ds_pca[\"EigenValueRatio\"], label = \"Ratio\")\n",
    "# 누적된 고유값 비율 그래프 생성\n",
    "plt.plot(ds_pca[\"Prin\"], ds_pca[\"CumsumEigenValueratio\"], label = \"Cumsum Ratio\")\n",
    "\n",
    "plt.ylabel(\"Eigen Value Ratio\")\n",
    "plt.xlabel(\"Prin\")\n",
    "plt.legend(loc=\"best\")"
   ]
  },
  {
   "cell_type": "code",
   "execution_count": null,
   "metadata": {},
   "outputs": [],
   "source": []
  }
 ],
 "metadata": {
  "kernelspec": {
   "display_name": "py36",
   "language": "python",
   "name": "py36"
  },
  "language_info": {
   "codemirror_mode": {
    "name": "ipython",
    "version": 3
   },
   "file_extension": ".py",
   "mimetype": "text/x-python",
   "name": "python",
   "nbconvert_exporter": "python",
   "pygments_lexer": "ipython3",
   "version": "3.6.8"
  }
 },
 "nbformat": 4,
 "nbformat_minor": 2
}
