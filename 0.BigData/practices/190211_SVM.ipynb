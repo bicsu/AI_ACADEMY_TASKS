{
 "cells": [
  {
   "cell_type": "code",
   "execution_count": 9,
   "metadata": {},
   "outputs": [],
   "source": [
    "import pandas as pd\n",
    "import seaborn as sns\n",
    "import matplotlib.pyplot as plt\n",
    "import os\n",
    "import graphviz\n",
    "import numpy as np\n",
    "from sklearn.svm import SVC\n",
    "from sklearn.preprocessing import scale\n",
    "import warnings\n",
    "warnings.filterwarnings('ignore')"
   ]
  },
  {
   "cell_type": "code",
   "execution_count": 10,
   "metadata": {
    "scrolled": true
   },
   "outputs": [
    {
     "name": "stdout",
     "output_type": "stream",
     "text": [
      "train data X size: (2604, 18)\n",
      "train data y size: (2604,)\n",
      "test data X size: (1144, 18)\n",
      "test data y size: (1144,)\n"
     ]
    }
   ],
   "source": [
    "# To use 한글 font in graphs\n",
    "plt.rc('font', family='NanumBarunGothic')\n",
    "plt.rcParams['axes.unicode_minus']=False\n",
    "\n",
    "ds_hmeq = pd.read_csv(\"./csvfiles/HMEQ.csv\")\n",
    "\n",
    "ds_hmeq.isnull().sum()\n",
    "\n",
    "ds_hmeq[\"JOB\"].fillna(\"Other\", inplace = True)\n",
    "ds_hmeq.fillna(ds_hmeq.mean(), inplace = True)\n",
    "\n",
    "ds_hmeq_dummy = pd.get_dummies(ds_hmeq)\n",
    "ds_hmeq_dummy.head()\n",
    "\n",
    "np.random.seed(seed = 1234)\n",
    "msk = np.random.rand(ds_hmeq_dummy.shape[0]) < 0.7\n",
    "ds_hmeq_train = ds_hmeq_dummy[msk]\n",
    "ds_hmeq_test = ds_hmeq_dummy[~msk]\n",
    "\n",
    "ds_hmeq_train_y = ds_hmeq_train[\"BAD\"]\n",
    "ds_hmeq_train_x = ds_hmeq_train.drop(\"BAD\", axis = 1)\n",
    "ds_hmeq_test_y = ds_hmeq_test[\"BAD\"]\n",
    "ds_hmeq_test_x = ds_hmeq_test.drop(\"BAD\", axis = 1)\n",
    "\n",
    "print(\"train data X size:\", ds_hmeq_train_x.shape)\n",
    "print(\"train data y size:\", ds_hmeq_train_y.shape)\n",
    "print(\"test data X size:\", ds_hmeq_test_x.shape)\n",
    "print(\"test data y size:\", ds_hmeq_test_y.shape)\n",
    "\n"
   ]
  },
  {
   "cell_type": "code",
   "execution_count": 11,
   "metadata": {},
   "outputs": [],
   "source": [
    "ds_hmeq_train_x_scaled = scale(ds_hmeq_train_x, axis = 0)\n",
    "ds_hmeq_test_x_scaled = scale(ds_hmeq_test_x, axis = 0)"
   ]
  },
  {
   "cell_type": "code",
   "execution_count": 12,
   "metadata": {},
   "outputs": [
    {
     "name": "stdout",
     "output_type": "stream",
     "text": [
      "Accuracy on training set : 0.941\n"
     ]
    }
   ],
   "source": [
    "# 새로운 scv 모형 생성\n",
    "svm_uncustomized_scaled = SVC(random_state=1234)\n",
    "svm_uncustomized_scaled.fit(ds_hmeq_train_x_scaled,ds_hmeq_train_y)\n",
    "# train 데이터 셋 정확도\n",
    "print(\"Accuracy on training set : {:.3f}\".format(svm_uncustomized_scaled.score(ds_hmeq_train_x_scaled,ds_hmeq_train_y)))\n"
   ]
  },
  {
   "cell_type": "code",
   "execution_count": 13,
   "metadata": {},
   "outputs": [
    {
     "data": {
      "text/plain": [
       "SVC(C=1.0, cache_size=200, class_weight=None, coef0=0.0,\n",
       "  decision_function_shape='ovr', degree=3, gamma='auto_deprecated',\n",
       "  kernel='rbf', max_iter=-1, probability=False, random_state=1234,\n",
       "  shrinking=True, tol=0.001, verbose=False)"
      ]
     },
     "execution_count": 13,
     "metadata": {},
     "output_type": "execute_result"
    }
   ],
   "source": [
    "svm_uncustomized_scaled"
   ]
  },
  {
   "cell_type": "code",
   "execution_count": 28,
   "metadata": {},
   "outputs": [
    {
     "data": {
      "text/html": [
       "<div>\n",
       "<style scoped>\n",
       "    .dataframe tbody tr th:only-of-type {\n",
       "        vertical-align: middle;\n",
       "    }\n",
       "\n",
       "    .dataframe tbody tr th {\n",
       "        vertical-align: top;\n",
       "    }\n",
       "\n",
       "    .dataframe thead th {\n",
       "        text-align: right;\n",
       "    }\n",
       "</style>\n",
       "<table border=\"1\" class=\"dataframe\">\n",
       "  <thead>\n",
       "    <tr style=\"text-align: right;\">\n",
       "      <th></th>\n",
       "      <th>C</th>\n",
       "      <th>TrainAccuracy</th>\n",
       "      <th>TestAccuracy</th>\n",
       "    </tr>\n",
       "  </thead>\n",
       "  <tbody>\n",
       "    <tr>\n",
       "      <th>0</th>\n",
       "      <td>0.1</td>\n",
       "      <td>0.907</td>\n",
       "      <td>0.910</td>\n",
       "    </tr>\n",
       "    <tr>\n",
       "      <th>1</th>\n",
       "      <td>0.2</td>\n",
       "      <td>0.908</td>\n",
       "      <td>0.911</td>\n",
       "    </tr>\n",
       "    <tr>\n",
       "      <th>2</th>\n",
       "      <td>0.3</td>\n",
       "      <td>0.921</td>\n",
       "      <td>0.914</td>\n",
       "    </tr>\n",
       "    <tr>\n",
       "      <th>3</th>\n",
       "      <td>0.4</td>\n",
       "      <td>0.930</td>\n",
       "      <td>0.920</td>\n",
       "    </tr>\n",
       "    <tr>\n",
       "      <th>4</th>\n",
       "      <td>0.5</td>\n",
       "      <td>0.933</td>\n",
       "      <td>0.925</td>\n",
       "    </tr>\n",
       "    <tr>\n",
       "      <th>5</th>\n",
       "      <td>0.6</td>\n",
       "      <td>0.936</td>\n",
       "      <td>0.925</td>\n",
       "    </tr>\n",
       "    <tr>\n",
       "      <th>6</th>\n",
       "      <td>0.7</td>\n",
       "      <td>0.937</td>\n",
       "      <td>0.927</td>\n",
       "    </tr>\n",
       "    <tr>\n",
       "      <th>7</th>\n",
       "      <td>0.8</td>\n",
       "      <td>0.939</td>\n",
       "      <td>0.928</td>\n",
       "    </tr>\n",
       "    <tr>\n",
       "      <th>8</th>\n",
       "      <td>0.9</td>\n",
       "      <td>0.940</td>\n",
       "      <td>0.929</td>\n",
       "    </tr>\n",
       "    <tr>\n",
       "      <th>9</th>\n",
       "      <td>1.0</td>\n",
       "      <td>0.941</td>\n",
       "      <td>0.934</td>\n",
       "    </tr>\n",
       "  </tbody>\n",
       "</table>\n",
       "</div>"
      ],
      "text/plain": [
       "     C  TrainAccuracy  TestAccuracy\n",
       "0  0.1          0.907         0.910\n",
       "1  0.2          0.908         0.911\n",
       "2  0.3          0.921         0.914\n",
       "3  0.4          0.930         0.920\n",
       "4  0.5          0.933         0.925\n",
       "5  0.6          0.936         0.925\n",
       "6  0.7          0.937         0.927\n",
       "7  0.8          0.939         0.928\n",
       "8  0.9          0.940         0.929\n",
       "9  1.0          0.941         0.934"
      ]
     },
     "execution_count": 28,
     "metadata": {},
     "output_type": "execute_result"
    }
   ],
   "source": [
    "# C 조절하기\n",
    "#train 및 test정확도 결과 저장용\n",
    "train_accuracy = []\n",
    "test_accuracy = []\n",
    "para_C = []\n",
    "# C를 0.1부터 1까지 0.1단위로 조정\n",
    "for i in range(10):\n",
    "    svm1 = SVC(C=(i+1)/10, random_state=1234)\n",
    "    svm1.fit(ds_hmeq_train_x_scaled, ds_hmeq_train_y)\n",
    "    para_C.append((i+1)/10)\n",
    "    train_accuracy.append(svm1.score(ds_hmeq_train_x_scaled, ds_hmeq_train_y))\n",
    "    test_accuracy.append(svm1.score(ds_hmeq_test_x_scaled, ds_hmeq_test_y))\n",
    "    \n",
    "#저장된 모델의 criterion 및 train/test 데이터 분류 정확도 테이블 생성\n",
    "\n",
    "ds_accuracy1 = pd.DataFrame()\n",
    "ds_accuracy1[\"C\"] = para_C\n",
    "ds_accuracy1[\"TrainAccuracy\"] = train_accuracy\n",
    "ds_accuracy1[\"TestAccuracy\"] = test_accuracy\n",
    "ds_accuracy1.round(3)\n"
   ]
  },
  {
   "cell_type": "code",
   "execution_count": 29,
   "metadata": {},
   "outputs": [
    {
     "data": {
      "text/plain": [
       "<matplotlib.axes._subplots.AxesSubplot at 0x7f07f86493c8>"
      ]
     },
     "execution_count": 29,
     "metadata": {},
     "output_type": "execute_result"
    },
    {
     "data": {
      "image/png": "[encoded data removed]",
      "text/plain": [
       "<Figure size 432x288 with 1 Axes>"
      ]
     },
     "metadata": {
      "needs_background": "light"
     },
     "output_type": "display_data"
    }
   ],
   "source": [
    "ds_accuracy1.set_index(\"C\").plot.line()"
   ]
  },
  {
   "cell_type": "code",
   "execution_count": 26,
   "metadata": {},
   "outputs": [
    {
     "data": {
      "text/html": [
       "<div>\n",
       "<style scoped>\n",
       "    .dataframe tbody tr th:only-of-type {\n",
       "        vertical-align: middle;\n",
       "    }\n",
       "\n",
       "    .dataframe tbody tr th {\n",
       "        vertical-align: top;\n",
       "    }\n",
       "\n",
       "    .dataframe thead th {\n",
       "        text-align: right;\n",
       "    }\n",
       "</style>\n",
       "<table border=\"1\" class=\"dataframe\">\n",
       "  <thead>\n",
       "    <tr style=\"text-align: right;\">\n",
       "      <th></th>\n",
       "      <th>Gamma</th>\n",
       "      <th>TrainAccuracy</th>\n",
       "      <th>TestAccuracy</th>\n",
       "    </tr>\n",
       "  </thead>\n",
       "  <tbody>\n",
       "    <tr>\n",
       "      <th>0</th>\n",
       "      <td>0.1</td>\n",
       "      <td>0.957</td>\n",
       "      <td>0.941</td>\n",
       "    </tr>\n",
       "    <tr>\n",
       "      <th>1</th>\n",
       "      <td>0.2</td>\n",
       "      <td>0.970</td>\n",
       "      <td>0.931</td>\n",
       "    </tr>\n",
       "    <tr>\n",
       "      <th>2</th>\n",
       "      <td>0.3</td>\n",
       "      <td>0.978</td>\n",
       "      <td>0.922</td>\n",
       "    </tr>\n",
       "    <tr>\n",
       "      <th>3</th>\n",
       "      <td>0.4</td>\n",
       "      <td>0.981</td>\n",
       "      <td>0.920</td>\n",
       "    </tr>\n",
       "    <tr>\n",
       "      <th>4</th>\n",
       "      <td>0.5</td>\n",
       "      <td>0.985</td>\n",
       "      <td>0.920</td>\n",
       "    </tr>\n",
       "    <tr>\n",
       "      <th>5</th>\n",
       "      <td>0.6</td>\n",
       "      <td>0.987</td>\n",
       "      <td>0.920</td>\n",
       "    </tr>\n",
       "    <tr>\n",
       "      <th>6</th>\n",
       "      <td>0.7</td>\n",
       "      <td>0.989</td>\n",
       "      <td>0.920</td>\n",
       "    </tr>\n",
       "    <tr>\n",
       "      <th>7</th>\n",
       "      <td>0.8</td>\n",
       "      <td>0.991</td>\n",
       "      <td>0.919</td>\n",
       "    </tr>\n",
       "    <tr>\n",
       "      <th>8</th>\n",
       "      <td>0.9</td>\n",
       "      <td>0.992</td>\n",
       "      <td>0.919</td>\n",
       "    </tr>\n",
       "  </tbody>\n",
       "</table>\n",
       "</div>"
      ],
      "text/plain": [
       "   Gamma  TrainAccuracy  TestAccuracy\n",
       "0    0.1          0.957         0.941\n",
       "1    0.2          0.970         0.931\n",
       "2    0.3          0.978         0.922\n",
       "3    0.4          0.981         0.920\n",
       "4    0.5          0.985         0.920\n",
       "5    0.6          0.987         0.920\n",
       "6    0.7          0.989         0.920\n",
       "7    0.8          0.991         0.919\n",
       "8    0.9          0.992         0.919"
      ]
     },
     "execution_count": 26,
     "metadata": {},
     "output_type": "execute_result"
    }
   ],
   "source": [
    "#train 및 test정확도 결과 저장용\n",
    "train_accuracy = []\n",
    "test_accuracy = []\n",
    "para_gamma = []\n",
    "# C를 0.1부터 1까지 0.1단위로 조정\n",
    "for i in range(1,10):\n",
    "    svm2 = SVC(gamma=i/10, random_state=1234)\n",
    "    svm2.fit(ds_hmeq_train_x_scaled, ds_hmeq_train_y)\n",
    "    para_gamma.append(i/10)\n",
    "    train_accuracy.append(svm2.score(ds_hmeq_train_x_scaled, ds_hmeq_train_y))\n",
    "    test_accuracy.append(svm2.score(ds_hmeq_test_x_scaled, ds_hmeq_test_y))\n",
    "    \n",
    "#저장된 모델의 criterion 및 train/test 데이터 분류 정확도 테이블 생성\n",
    "\n",
    "ds_accuracy2 = pd.DataFrame()\n",
    "ds_accuracy2[\"Gamma\"] = para_gamma\n",
    "ds_accuracy2[\"TrainAccuracy\"] = train_accuracy\n",
    "ds_accuracy2[\"TestAccuracy\"] = test_accuracy\n",
    "ds_accuracy2.round(3)\n"
   ]
  },
  {
   "cell_type": "code",
   "execution_count": 27,
   "metadata": {},
   "outputs": [
    {
     "data": {
      "text/plain": [
       "<matplotlib.axes._subplots.AxesSubplot at 0x7f0816112278>"
      ]
     },
     "execution_count": 27,
     "metadata": {},
     "output_type": "execute_result"
    },
    {
     "data": {
      "image/png": "[encoded data removed]",
      "text/plain": [
       "<Figure size 432x288 with 1 Axes>"
      ]
     },
     "metadata": {
      "needs_background": "light"
     },
     "output_type": "display_data"
    }
   ],
   "source": [
    "ds_accuracy2.set_index(\"Gamma\").plot.line()"
   ]
  },
  {
   "cell_type": "code",
   "execution_count": null,
   "metadata": {},
   "outputs": [],
   "source": []
  }
 ],
 "metadata": {
  "kernelspec": {
   "display_name": "py36",
   "language": "python",
   "name": "py36"
  },
  "language_info": {
   "codemirror_mode": {
    "name": "ipython",
    "version": 3
   },
   "file_extension": ".py",
   "mimetype": "text/x-python",
   "name": "python",
   "nbconvert_exporter": "python",
   "pygments_lexer": "ipython3",
   "version": "3.6.8"
  }
 },
 "nbformat": 4,
 "nbformat_minor": 2
}
