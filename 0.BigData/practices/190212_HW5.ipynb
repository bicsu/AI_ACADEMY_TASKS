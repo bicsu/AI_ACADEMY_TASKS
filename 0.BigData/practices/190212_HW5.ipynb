{
 "cells": [
  {
   "cell_type": "markdown",
   "metadata": {},
   "source": [
    "# 최적의 매개변수를 찾고 최종 서포트 벡터 머신 모델을 만들어라. \n",
    "# 그리고 sklearn의 roc_curve 함수를 이용하여 roc curve를 그리고 결과를 해석하라."
   ]
  },
  {
   "cell_type": "code",
   "execution_count": 1,
   "metadata": {},
   "outputs": [],
   "source": [
    "import pandas as pd\n",
    "import seaborn as sns\n",
    "import matplotlib.pyplot as plt\n",
    "import numpy as np\n",
    "import warnings\n",
    "warnings.filterwarnings('ignore')\n",
    "from sklearn.svm import SVC\n",
    "from sklearn.preprocessing import scale"
   ]
  },
  {
   "cell_type": "code",
   "execution_count": 19,
   "metadata": {
    "scrolled": true
   },
   "outputs": [
    {
     "name": "stdout",
     "output_type": "stream",
     "text": [
      "악성(0)의 개수 : 212\n",
      "양성(1)의 개수 : 357\n",
      "결측치의 개수 : 0\n"
     ]
    }
   ],
   "source": [
    "# Loading csv\n",
    "\n",
    "data = pd.read_csv(\"./csvfiles/유방암.csv\",encoding='cp949')\n",
    "\n",
    "data.head()\n",
    "\n",
    "## check target\n",
    "\n",
    "data['diagnosis'].describe()\n",
    "\n",
    "# 0이 악성\n",
    "print('악성(0)의 개수 :', len(data[data['diagnosis']==0]))\n",
    "\n",
    "# 1이 양성\n",
    "print('양성(1)의 개수 :', len(data[data['diagnosis']==1]))\n",
    "#0,1로 구성된 data확인, 분류 기법으로 예측 필요 확인\n",
    "print('결측치의 개수 :',data.isna().any().sum())\n",
    "#결측치는 없음.\n"
   ]
  },
  {
   "cell_type": "markdown",
   "metadata": {},
   "source": [
    "# X, Y로 모델링 준비하기"
   ]
  },
  {
   "cell_type": "code",
   "execution_count": 20,
   "metadata": {},
   "outputs": [
    {
     "name": "stdout",
     "output_type": "stream",
     "text": [
      "train data X size: (398, 30)\n",
      "train data y size: (398,)\n",
      "test data X size: (171, 30)\n",
      "test data y size: (171,)\n"
     ]
    }
   ],
   "source": [
    "from sklearn.model_selection import train_test_split\n",
    "\n",
    "y = data[\"diagnosis\"]\n",
    "x = data.drop(\"diagnosis\", axis = 1)\n",
    "\n",
    "# np.random.seed(seed = 1234)\n",
    "# msk = np.random.rand(data.shape[0]) < 0.7\n",
    "# ds_hmeq_train = data[msk]\n",
    "# ds_hmeq_test = data[~msk]\n",
    "\n",
    "# train_y = ds_hmeq_train[\"diagnosis\"]\n",
    "# train_x = ds_hmeq_train.drop(\"diagnosis\", axis = 1)\n",
    "# test_y = ds_hmeq_test[\"diagnosis\"]\n",
    "# test_x = ds_hmeq_test.drop(\"diagnosis\", axis = 1)\n",
    "\n",
    "train_x, test_x, train_y, test_y = train_test_split(x, y, test_size=0.3, random_state=1234)\n",
    "print(\"train data X size:\", train_x.shape)\n",
    "print(\"train data y size:\", train_y.shape)\n",
    "print(\"test data X size:\", test_x.shape)\n",
    "print(\"test data y size:\", test_y.shape)\n"
   ]
  },
  {
   "cell_type": "code",
   "execution_count": 21,
   "metadata": {},
   "outputs": [],
   "source": [
    "train_x_scaled = scale(train_x, axis = 0)\n",
    "test_x_scaled = scale(test_x, axis = 0)"
   ]
  },
  {
   "cell_type": "markdown",
   "metadata": {},
   "source": [
    "# 최적의 매개변수 찾기"
   ]
  },
  {
   "cell_type": "code",
   "execution_count": 22,
   "metadata": {},
   "outputs": [],
   "source": [
    "from sklearn.model_selection import GridSearchCV"
   ]
  },
  {
   "cell_type": "code",
   "execution_count": 23,
   "metadata": {},
   "outputs": [
    {
     "name": "stdout",
     "output_type": "stream",
     "text": [
      "Accuracy on test set : 0.953\n",
      "<bound method BaseEstimator.get_params of SVC(C=1.0, cache_size=200, class_weight=None, coef0=0.0,\n",
      "  decision_function_shape='ovr', degree=3, gamma='auto_deprecated',\n",
      "  kernel='rbf', max_iter=-1, probability=False, random_state=None,\n",
      "  shrinking=True, tol=0.001, verbose=False)>\n"
     ]
    }
   ],
   "source": [
    "# 새로운 scv 모형 생성\n",
    "SVM = SVC()\n",
    "SVM.fit(train_x_scaled,train_y)\n",
    "# train 데이터 셋 정확도\n",
    "print(\"Accuracy on test set : {:.3f}\".format(SVM.score(test_x_scaled,test_y)))\n",
    "\n",
    "print(SVM.get_params);"
   ]
  },
  {
   "cell_type": "markdown",
   "metadata": {},
   "source": [
    "##### GridSearchCV로 파타미터 찾기"
   ]
  },
  {
   "cell_type": "code",
   "execution_count": 26,
   "metadata": {},
   "outputs": [],
   "source": [
    "C = [i for i in range(1,11)]\n",
    "gamma = [i*0.1 for i in range(0,50)]\n",
    "kernel = ['rbf', 'linear', 'poly', 'sigmoid']\n",
    "\n",
    "parameters = {'C':C,'gamma':gamma, 'kernel':kernel, 'probability':[True]}"
   ]
  },
  {
   "cell_type": "code",
   "execution_count": 27,
   "metadata": {},
   "outputs": [],
   "source": [
    "Gird_model = GridSearchCV(estimator = SVM, param_grid = parameters, \n",
    "                               cv = 10, n_jobs=-1, )"
   ]
  },
  {
   "cell_type": "code",
   "execution_count": 28,
   "metadata": {},
   "outputs": [
    {
     "name": "stderr",
     "output_type": "stream",
     "text": [
      "/home/pirl/anaconda3/envs/py36/lib/python3.6/site-packages/sklearn/model_selection/_search.py:841: DeprecationWarning: The default of the `iid` parameter will change from True to False in version 0.22 and will be removed in 0.24. This will change numeric results when test-set sizes are unequal.\n",
      "  DeprecationWarning)\n"
     ]
    },
    {
     "data": {
      "text/plain": [
       "{'C': 1, 'gamma': 0.0, 'kernel': 'linear', 'probability': True}"
      ]
     },
     "execution_count": 28,
     "metadata": {},
     "output_type": "execute_result"
    }
   ],
   "source": [
    "Gird_model.fit(train_x_scaled, train_y)\n",
    "params = Gird_model.best_params_\n",
    "params"
   ]
  },
  {
   "cell_type": "markdown",
   "metadata": {},
   "source": [
    "* Best parameters를 찾았다."
   ]
  },
  {
   "cell_type": "code",
   "execution_count": 29,
   "metadata": {},
   "outputs": [
    {
     "name": "stdout",
     "output_type": "stream",
     "text": [
      "Accuracy by model with best parameters:0.965\n"
     ]
    }
   ],
   "source": [
    "print(\"Accuracy by model with best parameters:{:.3f}\".format(Gird_model.score(test_x_scaled, test_y)))"
   ]
  },
  {
   "cell_type": "markdown",
   "metadata": {},
   "source": [
    "* Grid Search결과 accuracy가 95.3% -> 96.5%로 늘어난 것을 볼 수 있다."
   ]
  },
  {
   "cell_type": "code",
   "execution_count": 30,
   "metadata": {},
   "outputs": [],
   "source": [
    "best_param = {'C': 1, 'gamma': 0.0, 'kernel': 'linear'}"
   ]
  },
  {
   "cell_type": "code",
   "execution_count": 31,
   "metadata": {},
   "outputs": [],
   "source": [
    "SVM = SVC(C=1, gamma='auto', kernel='linear', probability=True)"
   ]
  },
  {
   "cell_type": "code",
   "execution_count": 32,
   "metadata": {},
   "outputs": [
    {
     "data": {
      "text/plain": [
       "SVC(C=1, cache_size=200, class_weight=None, coef0=0.0,\n",
       "  decision_function_shape='ovr', degree=3, gamma='auto', kernel='linear',\n",
       "  max_iter=-1, probability=True, random_state=None, shrinking=True,\n",
       "  tol=0.001, verbose=False)"
      ]
     },
     "execution_count": 32,
     "metadata": {},
     "output_type": "execute_result"
    }
   ],
   "source": [
    "SVM.fit(train_x_scaled, train_y)"
   ]
  },
  {
   "cell_type": "code",
   "execution_count": 36,
   "metadata": {},
   "outputs": [
    {
     "name": "stdout",
     "output_type": "stream",
     "text": [
      "96.5 %\n"
     ]
    }
   ],
   "source": [
    "print(SVM.score(test_x_scaled, test_y).round(3)*100,'%')"
   ]
  },
  {
   "cell_type": "markdown",
   "metadata": {},
   "source": [
    "# ROC Curve 그리기"
   ]
  },
  {
   "cell_type": "code",
   "execution_count": 37,
   "metadata": {},
   "outputs": [],
   "source": [
    "from sklearn.metrics import roc_curve, auc, roc_auc_score"
   ]
  },
  {
   "cell_type": "code",
   "execution_count": 38,
   "metadata": {},
   "outputs": [],
   "source": [
    "predictions = SVM.predict_proba(test_x_scaled)"
   ]
  },
  {
   "cell_type": "code",
   "execution_count": 39,
   "metadata": {},
   "outputs": [],
   "source": [
    "fpr, tpr, _ = roc_curve(test_y, predictions[:,1])"
   ]
  },
  {
   "cell_type": "code",
   "execution_count": 40,
   "metadata": {},
   "outputs": [
    {
     "data": {
      "text/plain": [
       "<Figure size 432x288 with 0 Axes>"
      ]
     },
     "metadata": {},
     "output_type": "display_data"
    },
    {
     "data": {
      "image/png": "[encoded data removed]",
      "text/plain": [
       "<Figure size 504x504 with 1 Axes>"
      ]
     },
     "metadata": {
      "needs_background": "light"
     },
     "output_type": "display_data"
    }
   ],
   "source": [
    "plt.clf()\n",
    "plt.figure(figsize=(7,7))\n",
    "plt.plot(fpr, tpr, c='y')\n",
    "plt.xlabel('FPR')\n",
    "plt.ylabel('TPR')\n",
    "plt.title('ROC curve')\n",
    "plt.show()"
   ]
  },
  {
   "cell_type": "markdown",
   "metadata": {},
   "source": [
    "# 해석\n",
    "* Grid Search결과 accuracy가 기존 모델의 95.3% -> 96.5%로 늘어난 것을 볼 수 있다.\n",
    "* ROC curve를 그려보니 면적이 거의 1에 가까운 것을 볼 수 있고 모델의 성능이 뛰어난 것을 확인했다."
   ]
  },
  {
   "cell_type": "code",
   "execution_count": null,
   "metadata": {},
   "outputs": [],
   "source": []
  }
 ],
 "metadata": {
  "kernelspec": {
   "display_name": "py36",
   "language": "python",
   "name": "py36"
  },
  "language_info": {
   "codemirror_mode": {
    "name": "ipython",
    "version": 3
   },
   "file_extension": ".py",
   "mimetype": "text/x-python",
   "name": "python",
   "nbconvert_exporter": "python",
   "pygments_lexer": "ipython3",
   "version": "3.6.8"
  }
 },
 "nbformat": 4,
 "nbformat_minor": 2
}
