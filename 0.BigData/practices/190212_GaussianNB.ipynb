{
 "cells": [
  {
   "cell_type": "code",
   "execution_count": 20,
   "metadata": {},
   "outputs": [],
   "source": [
    "import pandas as pd\n",
    "import numpy as np\n",
    "from sklearn.naive_bayes import GaussianNB\n",
    "import matplotlib.pyplot as plt\n",
    "import warnings\n",
    "warnings.filterwarnings('ignore')"
   ]
  },
  {
   "cell_type": "code",
   "execution_count": 14,
   "metadata": {},
   "outputs": [],
   "source": [
    "# To use 한글 font in graphs\n",
    "plt.rc('font', family='NanumBarunGothic')\n",
    "plt.rcParams['axes.unicode_minus']=False\n",
    "\n",
    "ds_hmeq = pd.read_csv(\"./csvfiles/HMEQ.csv\")"
   ]
  },
  {
   "cell_type": "code",
   "execution_count": 15,
   "metadata": {},
   "outputs": [
    {
     "name": "stdout",
     "output_type": "stream",
     "text": [
      "train data X size: (2604, 10)\n",
      "train data y size: (2604,)\n",
      "test data X size: (1144, 10)\n",
      "test data y size: (1144,)\n"
     ]
    }
   ],
   "source": [
    "ds_hmeq.fillna(ds_hmeq.mean(), inplace=True)\n",
    "ds_numeric = ds_hmeq.select_dtypes(exclude =['object'])\n",
    "\n",
    "np.random.seed(seed = 1234)\n",
    "msk = np.random.rand(ds_hmeq.shape[0]) < 0.7\n",
    "ds_hmeq_train = ds_numeric[msk]\n",
    "ds_hmeq_test = ds_numeric[~msk]\n",
    "\n",
    "ds_hmeq_train_y = ds_hmeq_train[\"BAD\"]\n",
    "ds_hmeq_train_x = ds_hmeq_train.drop(\"BAD\", axis = 1)\n",
    "ds_hmeq_test_y = ds_hmeq_test[\"BAD\"]\n",
    "ds_hmeq_test_x = ds_hmeq_test.drop(\"BAD\", axis = 1)\n",
    "\n",
    "print(\"train data X size:\", ds_hmeq_train_x.shape)\n",
    "print(\"train data y size:\", ds_hmeq_train_y.shape)\n",
    "print(\"test data X size:\", ds_hmeq_test_x.shape)\n",
    "print(\"test data y size:\", ds_hmeq_test_y.shape)\n",
    "\n"
   ]
  },
  {
   "cell_type": "code",
   "execution_count": 16,
   "metadata": {},
   "outputs": [
    {
     "data": {
      "text/plain": [
       "GaussianNB(priors=None, var_smoothing=1e-09)"
      ]
     },
     "execution_count": 16,
     "metadata": {},
     "output_type": "execute_result"
    }
   ],
   "source": [
    "naive_model = GaussianNB()\n",
    "naive_model.fit(X = ds_hmeq_train_x, y = ds_hmeq_train_y)"
   ]
  },
  {
   "cell_type": "code",
   "execution_count": 17,
   "metadata": {},
   "outputs": [
    {
     "data": {
      "text/plain": [
       "array([0.907, 0.093])"
      ]
     },
     "execution_count": 17,
     "metadata": {},
     "output_type": "execute_result"
    }
   ],
   "source": [
    "naive_model.class_prior_.round(3)"
   ]
  },
  {
   "cell_type": "code",
   "execution_count": 22,
   "metadata": {},
   "outputs": [
    {
     "name": "stdout",
     "output_type": "stream",
     "text": [
      "Accuracy : 0.922\n"
     ]
    }
   ],
   "source": [
    "print(\"Accuracy : {:.3f}\".format(naive_model.score(ds_hmeq_test_x,ds_hmeq_test_y)))"
   ]
  },
  {
   "cell_type": "code",
   "execution_count": null,
   "metadata": {},
   "outputs": [],
   "source": []
  }
 ],
 "metadata": {
  "kernelspec": {
   "display_name": "py36",
   "language": "python",
   "name": "py36"
  },
  "language_info": {
   "codemirror_mode": {
    "name": "ipython",
    "version": 3
   },
   "file_extension": ".py",
   "mimetype": "text/x-python",
   "name": "python",
   "nbconvert_exporter": "python",
   "pygments_lexer": "ipython3",
   "version": "3.6.8"
  }
 },
 "nbformat": 4,
 "nbformat_minor": 2
}
