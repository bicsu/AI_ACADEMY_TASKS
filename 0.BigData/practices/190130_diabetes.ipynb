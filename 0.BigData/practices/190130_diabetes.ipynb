{
 "cells": [
  {
   "cell_type": "code",
   "execution_count": 1,
   "metadata": {},
   "outputs": [],
   "source": [
    "from statsmodels.stats.outliers_influence import variance_inflation_factor\n",
    "from sklearn.linear_model import LinearRegression\n",
    "from sklearn.feature_selection import RFE\n",
    "from sklearn.preprocessing import scale\n",
    "import pandas as pd\n",
    "import seaborn as sns\n",
    "import matplotlib.pyplot as plt\n",
    "import scipy.stats as stats\n",
    "import statsmodels.api as sm"
   ]
  },
  {
   "cell_type": "code",
   "execution_count": 2,
   "metadata": {},
   "outputs": [
    {
     "data": {
      "text/plain": [
       "'/home/pirl/anaconda3/envs/tensorflow/bin/python'"
      ]
     },
     "execution_count": 2,
     "metadata": {},
     "output_type": "execute_result"
    }
   ],
   "source": [
    "import sys\n",
    "sys.executable"
   ]
  },
  {
   "cell_type": "code",
   "execution_count": null,
   "metadata": {},
   "outputs": [],
   "source": [
    "data = pd.read_csv('./csvfiles/DIABETEST.csv')"
   ]
  },
  {
   "cell_type": "code",
   "execution_count": null,
   "metadata": {},
   "outputs": [],
   "source": [
    "data.head()"
   ]
  },
  {
   "cell_type": "code",
   "execution_count": null,
   "metadata": {},
   "outputs": [],
   "source": [
    "data.info()"
   ]
  },
  {
   "cell_type": "code",
   "execution_count": null,
   "metadata": {},
   "outputs": [],
   "source": [
    "data[\"GENDER\"]=data[\"GENDER\"].map(lambda x : 0 if x == 2 else 1)"
   ]
  },
  {
   "cell_type": "code",
   "execution_count": null,
   "metadata": {},
   "outputs": [],
   "source": [
    "data.head()"
   ]
  },
  {
   "cell_type": "code",
   "execution_count": null,
   "metadata": {},
   "outputs": [],
   "source": [
    "data.corr()['Y'].sort_values(ascending=False)"
   ]
  },
  {
   "cell_type": "code",
   "execution_count": null,
   "metadata": {},
   "outputs": [],
   "source": [
    "x = data.drop('Y', axis =1)"
   ]
  },
  {
   "cell_type": "code",
   "execution_count": null,
   "metadata": {},
   "outputs": [],
   "source": [
    "y = data['Y']"
   ]
  },
  {
   "cell_type": "code",
   "execution_count": null,
   "metadata": {},
   "outputs": [],
   "source": [
    "data.describe().T"
   ]
  },
  {
   "cell_type": "code",
   "execution_count": null,
   "metadata": {},
   "outputs": [],
   "source": [
    "x_dummies = pd.get_dummies(x, columns=['GENDER'], prefix='Y').reset_index(drop=True)"
   ]
  },
  {
   "cell_type": "code",
   "execution_count": null,
   "metadata": {},
   "outputs": [],
   "source": [
    "# 절편 추가\n",
    "x_const = sm.add_constant(x)\n",
    "x_const.head()"
   ]
  },
  {
   "cell_type": "code",
   "execution_count": null,
   "metadata": {},
   "outputs": [],
   "source": [
    "# 회귀 모델 생성 (더미로)\n",
    "reg_multi_model = sm.OLS(y, x)\n",
    "#적합\n",
    "reg_multi_results = reg_multi_model.fit()\n",
    "print(reg_multi_results.summary())"
   ]
  },
  {
   "cell_type": "code",
   "execution_count": null,
   "metadata": {},
   "outputs": [],
   "source": [
    "# 회귀 모델 생성\n",
    "reg_multi_model = sm.OLS(y, x_dummies)\n",
    "#적합\n",
    "reg_multi_results = reg_multi_model.fit()\n",
    "print(reg_multi_results.summary())"
   ]
  },
  {
   "cell_type": "code",
   "execution_count": null,
   "metadata": {},
   "outputs": [],
   "source": [
    "ds_vif = pd.DataFrame()\n",
    "ds_vif['variable'] = x_const.columns\n",
    "ds_vif[\"VIF\"] = [variance_inflation_factor(x_const.values, i) for i in range(x_const.shape[1])]\n",
    "ds_vif.sort_values(\"VIF\", inplace=True)\n",
    "ds_vif.round(3)"
   ]
  },
  {
   "cell_type": "code",
   "execution_count": null,
   "metadata": {},
   "outputs": [],
   "source": [
    "model = LinearRegression()\n",
    "rfe = RFE(estimator= model, n_features_to_select=6).fit(x_dummies, y)\n",
    "\n",
    "#선택된 변수\n",
    "selected_cols = x.columns[rfe.support_]\n",
    "removed_cols = x.columns[~rfe.support_]\n",
    "\n",
    "print(\"Selected features:{}\".format(selected_cols))\n",
    "print(\"Removed features:{}\".format(removed_cols))      "
   ]
  },
  {
   "cell_type": "code",
   "execution_count": null,
   "metadata": {},
   "outputs": [],
   "source": [
    "x_rfe = sm.add_constant(x_const[selected_cols])\n",
    "reg_multi_rfe_model = sm.OLS(y, x_rfe)\n",
    "reg_multi_rfe_results = reg_multi_rfe_model.fit()\n",
    "print(reg_multi_rfe_results.summary())"
   ]
  },
  {
   "cell_type": "code",
   "execution_count": null,
   "metadata": {},
   "outputs": [],
   "source": [
    "ds_reg_coef = pd.DataFrame({\"Coef\":reg_multi_rfe_results.params.values[1:]},\n",
    "                           index=reg_multi_rfe_model.exog_names[1:])\n",
    "\n",
    "# ds_reg_coef.plot.barh(y='Coef', legend = True, )\n",
    "sns.barplot(data=ds_reg_coef, x = 'Coef', y =ds_reg_coef.index)"
   ]
  },
  {
   "cell_type": "code",
   "execution_count": null,
   "metadata": {},
   "outputs": [],
   "source": []
  }
 ],
 "metadata": {
  "kernelspec": {
   "display_name": "Python 3",
   "language": "python",
   "name": "python3"
  },
  "language_info": {
   "codemirror_mode": {
    "name": "ipython",
    "version": 3
   },
   "file_extension": ".py",
   "mimetype": "text/x-python",
   "name": "python",
   "nbconvert_exporter": "python",
   "pygments_lexer": "ipython3",
   "version": "3.6.8"
  }
 },
 "nbformat": 4,
 "nbformat_minor": 2
}
