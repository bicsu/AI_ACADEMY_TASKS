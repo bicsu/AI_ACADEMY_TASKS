{
 "cells": [
  {
   "cell_type": "code",
   "execution_count": 3,
   "metadata": {},
   "outputs": [],
   "source": [
    "import pandas as pd\n",
    "import seaborn as sns\n",
    "import matplotlib.pyplot as plt\n",
    "import os\n",
    "import graphviz\n",
    "import numpy as np\n",
    "from sklearn.ensemble import GradientBoostingClassifier"
   ]
  },
  {
   "cell_type": "code",
   "execution_count": 2,
   "metadata": {},
   "outputs": [
    {
     "name": "stdout",
     "output_type": "stream",
     "text": [
      "train data X size: (2604, 18)\n",
      "train data y size: (2604,)\n",
      "test data X size: (1144, 18)\n",
      "test data y size: (1144,)\n"
     ]
    }
   ],
   "source": [
    "# To use 한글 font in graphs\n",
    "plt.rc('font', family='NanumBarunGothic')\n",
    "plt.rcParams['axes.unicode_minus']=False\n",
    "\n",
    "ds_hmeq = pd.read_csv(\"./csvfiles/HMEQ.csv\")\n",
    "\n",
    "ds_hmeq.isnull().sum()\n",
    "\n",
    "ds_hmeq[\"JOB\"].fillna(\"Other\", inplace = True)\n",
    "ds_hmeq.fillna(ds_hmeq.mean(), inplace = True)\n",
    "\n",
    "ds_hmeq_dummy = pd.get_dummies(ds_hmeq)\n",
    "ds_hmeq_dummy.head()\n",
    "\n",
    "np.random.seed(seed = 1234)\n",
    "msk = np.random.rand(ds_hmeq_dummy.shape[0]) < 0.7\n",
    "ds_hmeq_train = ds_hmeq_dummy[msk]\n",
    "ds_hmeq_test = ds_hmeq_dummy[~msk]\n",
    "\n",
    "ds_hmeq_train_y = ds_hmeq_train[\"BAD\"]\n",
    "ds_hmeq_train_x = ds_hmeq_train.drop(\"BAD\", axis = 1)\n",
    "ds_hmeq_test_y = ds_hmeq_test[\"BAD\"]\n",
    "ds_hmeq_test_x = ds_hmeq_test.drop(\"BAD\", axis = 1)\n",
    "\n",
    "print(\"train data X size:\", ds_hmeq_train_x.shape)\n",
    "print(\"train data y size:\", ds_hmeq_train_y.shape)\n",
    "print(\"test data X size:\", ds_hmeq_test_x.shape)\n",
    "print(\"test data y size:\", ds_hmeq_test_y.shape)\n",
    "\n"
   ]
  },
  {
   "cell_type": "code",
   "execution_count": 4,
   "metadata": {},
   "outputs": [
    {
     "name": "stdout",
     "output_type": "stream",
     "text": [
      "Accuray on training set:0.959\n",
      "Accuray on test set:0.944\n"
     ]
    }
   ],
   "source": [
    "gbm = GradientBoostingClassifier(random_state=1234)\n",
    "gbm.fit(ds_hmeq_train_x, ds_hmeq_train_y)\n",
    "\n",
    "# 훈련 데이터 정확도\n",
    "print(\"Accuray on training set:{:.3f}\".format(gbm.score(ds_hmeq_train_x, ds_hmeq_train_y)))\n",
    "\n",
    "# test 데이터 정확도\n",
    "print(\"Accuray on test set:{:.3f}\".format(gbm.score(ds_hmeq_test_x, ds_hmeq_test_y)))"
   ]
  },
  {
   "cell_type": "code",
   "execution_count": 8,
   "metadata": {},
   "outputs": [
    {
     "data": {
      "text/html": [
       "<div>\n",
       "<style scoped>\n",
       "    .dataframe tbody tr th:only-of-type {\n",
       "        vertical-align: middle;\n",
       "    }\n",
       "\n",
       "    .dataframe tbody tr th {\n",
       "        vertical-align: top;\n",
       "    }\n",
       "\n",
       "    .dataframe thead th {\n",
       "        text-align: right;\n",
       "    }\n",
       "</style>\n",
       "<table border=\"1\" class=\"dataframe\">\n",
       "  <thead>\n",
       "    <tr style=\"text-align: right;\">\n",
       "      <th></th>\n",
       "      <th>LearningRate</th>\n",
       "      <th>TrainAccuracy</th>\n",
       "      <th>TestAccuracy</th>\n",
       "    </tr>\n",
       "  </thead>\n",
       "  <tbody>\n",
       "    <tr>\n",
       "      <th>0</th>\n",
       "      <td>0.01</td>\n",
       "      <td>0.931</td>\n",
       "      <td>0.934</td>\n",
       "    </tr>\n",
       "    <tr>\n",
       "      <th>1</th>\n",
       "      <td>0.06</td>\n",
       "      <td>0.952</td>\n",
       "      <td>0.941</td>\n",
       "    </tr>\n",
       "    <tr>\n",
       "      <th>2</th>\n",
       "      <td>0.11</td>\n",
       "      <td>0.964</td>\n",
       "      <td>0.943</td>\n",
       "    </tr>\n",
       "    <tr>\n",
       "      <th>3</th>\n",
       "      <td>0.16</td>\n",
       "      <td>0.974</td>\n",
       "      <td>0.943</td>\n",
       "    </tr>\n",
       "    <tr>\n",
       "      <th>4</th>\n",
       "      <td>0.21</td>\n",
       "      <td>0.982</td>\n",
       "      <td>0.943</td>\n",
       "    </tr>\n",
       "    <tr>\n",
       "      <th>5</th>\n",
       "      <td>0.26</td>\n",
       "      <td>0.990</td>\n",
       "      <td>0.941</td>\n",
       "    </tr>\n",
       "    <tr>\n",
       "      <th>6</th>\n",
       "      <td>0.31</td>\n",
       "      <td>0.992</td>\n",
       "      <td>0.941</td>\n",
       "    </tr>\n",
       "    <tr>\n",
       "      <th>7</th>\n",
       "      <td>0.36</td>\n",
       "      <td>0.997</td>\n",
       "      <td>0.944</td>\n",
       "    </tr>\n",
       "    <tr>\n",
       "      <th>8</th>\n",
       "      <td>0.41</td>\n",
       "      <td>0.998</td>\n",
       "      <td>0.942</td>\n",
       "    </tr>\n",
       "    <tr>\n",
       "      <th>9</th>\n",
       "      <td>0.46</td>\n",
       "      <td>0.999</td>\n",
       "      <td>0.941</td>\n",
       "    </tr>\n",
       "    <tr>\n",
       "      <th>10</th>\n",
       "      <td>0.51</td>\n",
       "      <td>1.000</td>\n",
       "      <td>0.943</td>\n",
       "    </tr>\n",
       "    <tr>\n",
       "      <th>11</th>\n",
       "      <td>0.56</td>\n",
       "      <td>1.000</td>\n",
       "      <td>0.945</td>\n",
       "    </tr>\n",
       "    <tr>\n",
       "      <th>12</th>\n",
       "      <td>0.61</td>\n",
       "      <td>1.000</td>\n",
       "      <td>0.937</td>\n",
       "    </tr>\n",
       "    <tr>\n",
       "      <th>13</th>\n",
       "      <td>0.66</td>\n",
       "      <td>1.000</td>\n",
       "      <td>0.942</td>\n",
       "    </tr>\n",
       "    <tr>\n",
       "      <th>14</th>\n",
       "      <td>0.71</td>\n",
       "      <td>1.000</td>\n",
       "      <td>0.938</td>\n",
       "    </tr>\n",
       "    <tr>\n",
       "      <th>15</th>\n",
       "      <td>0.76</td>\n",
       "      <td>1.000</td>\n",
       "      <td>0.942</td>\n",
       "    </tr>\n",
       "    <tr>\n",
       "      <th>16</th>\n",
       "      <td>0.81</td>\n",
       "      <td>0.998</td>\n",
       "      <td>0.941</td>\n",
       "    </tr>\n",
       "    <tr>\n",
       "      <th>17</th>\n",
       "      <td>0.86</td>\n",
       "      <td>1.000</td>\n",
       "      <td>0.949</td>\n",
       "    </tr>\n",
       "    <tr>\n",
       "      <th>18</th>\n",
       "      <td>0.91</td>\n",
       "      <td>1.000</td>\n",
       "      <td>0.946</td>\n",
       "    </tr>\n",
       "    <tr>\n",
       "      <th>19</th>\n",
       "      <td>0.96</td>\n",
       "      <td>1.000</td>\n",
       "      <td>0.945</td>\n",
       "    </tr>\n",
       "  </tbody>\n",
       "</table>\n",
       "</div>"
      ],
      "text/plain": [
       "    LearningRate  TrainAccuracy  TestAccuracy\n",
       "0           0.01          0.931         0.934\n",
       "1           0.06          0.952         0.941\n",
       "2           0.11          0.964         0.943\n",
       "3           0.16          0.974         0.943\n",
       "4           0.21          0.982         0.943\n",
       "5           0.26          0.990         0.941\n",
       "6           0.31          0.992         0.941\n",
       "7           0.36          0.997         0.944\n",
       "8           0.41          0.998         0.942\n",
       "9           0.46          0.999         0.941\n",
       "10          0.51          1.000         0.943\n",
       "11          0.56          1.000         0.945\n",
       "12          0.61          1.000         0.937\n",
       "13          0.66          1.000         0.942\n",
       "14          0.71          1.000         0.938\n",
       "15          0.76          1.000         0.942\n",
       "16          0.81          0.998         0.941\n",
       "17          0.86          1.000         0.949\n",
       "18          0.91          1.000         0.946\n",
       "19          0.96          1.000         0.945"
      ]
     },
     "execution_count": 8,
     "metadata": {},
     "output_type": "execute_result"
    }
   ],
   "source": [
    "#train 및 test정확도 결과 저장용\n",
    "train_accuracy = []\n",
    "test_accuracy = []\n",
    "\n",
    "# 0.01부터 1까지 0.05 단위로 학습률 조정\n",
    "\n",
    "for i in range(1, 100, 5):\n",
    "    gb1 = GradientBoostingClassifier(learning_rate=i/100, random_state=1234)\n",
    "    gb1.fit(ds_hmeq_train_x, ds_hmeq_train_y)\n",
    "    train_accuracy.append(gb1.score(ds_hmeq_train_x, ds_hmeq_train_y))\n",
    "    test_accuracy.append(gb1.score(ds_hmeq_test_x, ds_hmeq_test_y))\n",
    "    \n",
    "#저장된 모델의 criterion 및 train/test 데이터 분류 정확도 테이블 생성\n",
    "ds_accuracy1 = pd.DataFrame()\n",
    "ds_accuracy1[\"LearningRate\"] = [i/100 for i in range(1, 100, 5)]\n",
    "ds_accuracy1[\"TrainAccuracy\"] = train_accuracy\n",
    "ds_accuracy1[\"TestAccuracy\"] = test_accuracy\n",
    "ds_accuracy1.round(3)\n"
   ]
  },
  {
   "cell_type": "code",
   "execution_count": 9,
   "metadata": {},
   "outputs": [
    {
     "data": {
      "text/plain": [
       "<matplotlib.axes._subplots.AxesSubplot at 0x7f68cc356f98>"
      ]
     },
     "execution_count": 9,
     "metadata": {},
     "output_type": "execute_result"
    },
    {
     "data": {
      "image/png": "[encoded data removed]",
      "text/plain": [
       "<Figure size 432x288 with 1 Axes>"
      ]
     },
     "metadata": {
      "needs_background": "light"
     },
     "output_type": "display_data"
    }
   ],
   "source": [
    "ds_accuracy1.set_index(\"LearningRate\").plot.line()"
   ]
  },
  {
   "cell_type": "code",
   "execution_count": 15,
   "metadata": {},
   "outputs": [
    {
     "data": {
      "text/html": [
       "<div>\n",
       "<style scoped>\n",
       "    .dataframe tbody tr th:only-of-type {\n",
       "        vertical-align: middle;\n",
       "    }\n",
       "\n",
       "    .dataframe tbody tr th {\n",
       "        vertical-align: top;\n",
       "    }\n",
       "\n",
       "    .dataframe thead th {\n",
       "        text-align: right;\n",
       "    }\n",
       "</style>\n",
       "<table border=\"1\" class=\"dataframe\">\n",
       "  <thead>\n",
       "    <tr style=\"text-align: right;\">\n",
       "      <th></th>\n",
       "      <th>Estimators</th>\n",
       "      <th>TrainAccuracy</th>\n",
       "      <th>TestAccuracy</th>\n",
       "    </tr>\n",
       "  </thead>\n",
       "  <tbody>\n",
       "    <tr>\n",
       "      <th>0</th>\n",
       "      <td>50</td>\n",
       "      <td>0.966</td>\n",
       "      <td>0.947</td>\n",
       "    </tr>\n",
       "    <tr>\n",
       "      <th>1</th>\n",
       "      <td>60</td>\n",
       "      <td>0.971</td>\n",
       "      <td>0.945</td>\n",
       "    </tr>\n",
       "    <tr>\n",
       "      <th>2</th>\n",
       "      <td>70</td>\n",
       "      <td>0.973</td>\n",
       "      <td>0.942</td>\n",
       "    </tr>\n",
       "    <tr>\n",
       "      <th>3</th>\n",
       "      <td>80</td>\n",
       "      <td>0.977</td>\n",
       "      <td>0.941</td>\n",
       "    </tr>\n",
       "    <tr>\n",
       "      <th>4</th>\n",
       "      <td>90</td>\n",
       "      <td>0.980</td>\n",
       "      <td>0.942</td>\n",
       "    </tr>\n",
       "    <tr>\n",
       "      <th>5</th>\n",
       "      <td>100</td>\n",
       "      <td>0.983</td>\n",
       "      <td>0.941</td>\n",
       "    </tr>\n",
       "    <tr>\n",
       "      <th>6</th>\n",
       "      <td>110</td>\n",
       "      <td>0.983</td>\n",
       "      <td>0.942</td>\n",
       "    </tr>\n",
       "    <tr>\n",
       "      <th>7</th>\n",
       "      <td>120</td>\n",
       "      <td>0.985</td>\n",
       "      <td>0.942</td>\n",
       "    </tr>\n",
       "    <tr>\n",
       "      <th>8</th>\n",
       "      <td>130</td>\n",
       "      <td>0.988</td>\n",
       "      <td>0.941</td>\n",
       "    </tr>\n",
       "    <tr>\n",
       "      <th>9</th>\n",
       "      <td>140</td>\n",
       "      <td>0.989</td>\n",
       "      <td>0.942</td>\n",
       "    </tr>\n",
       "  </tbody>\n",
       "</table>\n",
       "</div>"
      ],
      "text/plain": [
       "   Estimators  TrainAccuracy  TestAccuracy\n",
       "0          50          0.966         0.947\n",
       "1          60          0.971         0.945\n",
       "2          70          0.973         0.942\n",
       "3          80          0.977         0.941\n",
       "4          90          0.980         0.942\n",
       "5         100          0.983         0.941\n",
       "6         110          0.983         0.942\n",
       "7         120          0.985         0.942\n",
       "8         130          0.988         0.941\n",
       "9         140          0.989         0.942"
      ]
     },
     "execution_count": 15,
     "metadata": {},
     "output_type": "execute_result"
    }
   ],
   "source": [
    "# 트리수 : 50~150까지 10단위로 증가 및 학습률 : 0.2로 고정\n",
    "para_estimators = [estimators for estimators in range(50,150,10)]\n",
    "lr = 0.2\n",
    "#train 및 test정확도 결과 저장용\n",
    "train_accuracy = []\n",
    "test_accuracy = []\n",
    "\n",
    "# 트리 개수 (1~30) GBM 모델 생성 및 정확도 값 저장\n",
    "for i in para_estimators:\n",
    "    gb2 = GradientBoostingClassifier(learning_rate=0.2, random_state=1234,\n",
    "                                     n_estimators=i)\n",
    "    gb2.fit(ds_hmeq_train_x, ds_hmeq_train_y)\n",
    "    train_accuracy.append(gb2.score(ds_hmeq_train_x, ds_hmeq_train_y))\n",
    "    test_accuracy.append(gb2.score(ds_hmeq_test_x, ds_hmeq_test_y))\n",
    "    \n",
    "#저장된 모델의 criterion 및 train/test 데이터 분류 정확도 테이블 생성\n",
    "\n",
    "ds_accuracy2 = pd.DataFrame()\n",
    "ds_accuracy2[\"Estimators\"] = para_estimators\n",
    "ds_accuracy2[\"TrainAccuracy\"] = train_accuracy\n",
    "ds_accuracy2[\"TestAccuracy\"] = test_accuracy\n",
    "ds_accuracy2.round(3)\n"
   ]
  },
  {
   "cell_type": "code",
   "execution_count": 16,
   "metadata": {},
   "outputs": [
    {
     "data": {
      "text/plain": [
       "<matplotlib.axes._subplots.AxesSubplot at 0x7f68c59959e8>"
      ]
     },
     "execution_count": 16,
     "metadata": {},
     "output_type": "execute_result"
    },
    {
     "data": {
      "image/png": "[encoded data removed]",
      "text/plain": [
       "<Figure size 432x288 with 1 Axes>"
      ]
     },
     "metadata": {
      "needs_background": "light"
     },
     "output_type": "display_data"
    }
   ],
   "source": [
    "ds_accuracy2.set_index(\"Estimators\").plot.line()"
   ]
  },
  {
   "cell_type": "code",
   "execution_count": null,
   "metadata": {},
   "outputs": [],
   "source": []
  }
 ],
 "metadata": {
  "kernelspec": {
   "display_name": "py36",
   "language": "python",
   "name": "py36"
  },
  "language_info": {
   "codemirror_mode": {
    "name": "ipython",
    "version": 3
   },
   "file_extension": ".py",
   "mimetype": "text/x-python",
   "name": "python",
   "nbconvert_exporter": "python",
   "pygments_lexer": "ipython3",
   "version": "3.6.8"
  }
 },
 "nbformat": 4,
 "nbformat_minor": 2
}
