{
 "cells": [
  {
   "cell_type": "code",
   "execution_count": 1,
   "metadata": {},
   "outputs": [],
   "source": [
    "import pandas as pd\n",
    "import numpy as np\n",
    "import matplotlib.pyplot as plt\n",
    "import seaborn as sns\n",
    "import scipy.stats as stats\n",
    "import statsmodels.api as sm\n",
    "# from statsmodels.formula.api import ols\n",
    "# from statsmodels.tools.eval_measures import rmse\n",
    "%matplotlib inline"
   ]
  },
  {
   "cell_type": "code",
   "execution_count": 2,
   "metadata": {},
   "outputs": [],
   "source": [
    "ds_repair = pd.read_csv(\"./csvfiles/부품수리시간.csv\", encoding='cp949')"
   ]
  },
  {
   "cell_type": "code",
   "execution_count": 62,
   "metadata": {},
   "outputs": [
    {
     "data": {
      "text/plain": [
       "<matplotlib.axes._subplots.AxesSubplot at 0x7eff0bbbe668>"
      ]
     },
     "execution_count": 62,
     "metadata": {},
     "output_type": "execute_result"
    },
    {
     "data": {
      "image/png": "[encoded data removed]",
      "text/plain": [
       "<Figure size 432x288 with 1 Axes>"
      ]
     },
     "metadata": {
      "needs_background": "light"
     },
     "output_type": "display_data"
    }
   ],
   "source": [
    "ds_repair.plot.scatter(x=\"UNITS\", y=\"MINUTES\", c=['red'])"
   ]
  },
  {
   "cell_type": "code",
   "execution_count": 4,
   "metadata": {},
   "outputs": [
    {
     "data": {
      "text/html": [
       "<div>\n",
       "<style scoped>\n",
       "    .dataframe tbody tr th:only-of-type {\n",
       "        vertical-align: middle;\n",
       "    }\n",
       "\n",
       "    .dataframe tbody tr th {\n",
       "        vertical-align: top;\n",
       "    }\n",
       "\n",
       "    .dataframe thead th {\n",
       "        text-align: right;\n",
       "    }\n",
       "</style>\n",
       "<table border=\"1\" class=\"dataframe\">\n",
       "  <thead>\n",
       "    <tr style=\"text-align: right;\">\n",
       "      <th></th>\n",
       "      <th>UNITS</th>\n",
       "      <th>MINUTES</th>\n",
       "    </tr>\n",
       "  </thead>\n",
       "  <tbody>\n",
       "    <tr>\n",
       "      <th>UNITS</th>\n",
       "      <td>1.000</td>\n",
       "      <td>0.994</td>\n",
       "    </tr>\n",
       "    <tr>\n",
       "      <th>MINUTES</th>\n",
       "      <td>0.994</td>\n",
       "      <td>1.000</td>\n",
       "    </tr>\n",
       "  </tbody>\n",
       "</table>\n",
       "</div>"
      ],
      "text/plain": [
       "         UNITS  MINUTES\n",
       "UNITS    1.000    0.994\n",
       "MINUTES  0.994    1.000"
      ]
     },
     "execution_count": 4,
     "metadata": {},
     "output_type": "execute_result"
    }
   ],
   "source": [
    "ds_repair.corr(method='pearson').round(3)"
   ]
  },
  {
   "cell_type": "code",
   "execution_count": null,
   "metadata": {},
   "outputs": [],
   "source": [
    "ds_repair_x = ds_repair[\"UNITS\"]\n",
    "ds_repair_y = ds_repair[\"MINUTES\"]\n",
    "ds_repair_x_const = sm.add_constant(ds_repair_x)\n",
    "\n",
    "reg_model = sm.OLS(ds_repair_y, ds_repair_x_const)\n",
    "reg_results = reg_model.fit()\n",
    "print(reg_results.summary())"
   ]
  },
  {
   "cell_type": "code",
   "execution_count": null,
   "metadata": {},
   "outputs": [],
   "source": [
    "sns.residplot(ds_repair_x, ds_repair_y)"
   ]
  },
  {
   "cell_type": "code",
   "execution_count": null,
   "metadata": {},
   "outputs": [],
   "source": [
    "obs = ds_repair_x.values\n",
    "z = (obs-np.mean(obs))/np.std(obs)\n",
    "#정규 확률도\n",
    "stats.probplot(z,dist='norm',plot=plt)"
   ]
  },
  {
   "cell_type": "markdown",
   "metadata": {},
   "source": [
    "# 다중 회귀분석 01/30"
   ]
  },
  {
   "cell_type": "code",
   "execution_count": 5,
   "metadata": {},
   "outputs": [],
   "source": [
    "from statsmodels.stats.outliers_influence import variance_inflation_factor\n",
    "from sklearn.linear_model import LinearRegression\n",
    "from sklearn.feature_selection import RFE\n",
    "from sklearn.preprocessing import scale"
   ]
  },
  {
   "cell_type": "code",
   "execution_count": 6,
   "metadata": {},
   "outputs": [],
   "source": [
    "ds_health = pd.read_csv(\"csvfiles/체질검사.csv\", encoding='cp949')"
   ]
  },
  {
   "cell_type": "code",
   "execution_count": 7,
   "metadata": {},
   "outputs": [
    {
     "name": "stdout",
     "output_type": "stream",
     "text": [
      "<class 'pandas.core.frame.DataFrame'>\n",
      "RangeIndex: 252 entries, 0 to 251\n",
      "Data columns (total 14 columns):\n",
      "FAT        252 non-null float64\n",
      "AGE        252 non-null int64\n",
      "WEIGHT     252 non-null float64\n",
      "HEIGHT     252 non-null float64\n",
      "NECK       252 non-null float64\n",
      "CHEST      252 non-null float64\n",
      "ABDOMEN    252 non-null float64\n",
      "HIP        252 non-null float64\n",
      "THIGH      252 non-null float64\n",
      "KNEE       252 non-null float64\n",
      "ANKLE      252 non-null float64\n",
      "BICEPS     252 non-null float64\n",
      "FOREARM    252 non-null float64\n",
      "WRIST      252 non-null float64\n",
      "dtypes: float64(13), int64(1)\n",
      "memory usage: 27.6 KB\n"
     ]
    }
   ],
   "source": [
    "ds_health.info()"
   ]
  },
  {
   "cell_type": "code",
   "execution_count": 8,
   "metadata": {},
   "outputs": [
    {
     "data": {
      "text/html": [
       "<div>\n",
       "<style scoped>\n",
       "    .dataframe tbody tr th:only-of-type {\n",
       "        vertical-align: middle;\n",
       "    }\n",
       "\n",
       "    .dataframe tbody tr th {\n",
       "        vertical-align: top;\n",
       "    }\n",
       "\n",
       "    .dataframe thead th {\n",
       "        text-align: right;\n",
       "    }\n",
       "</style>\n",
       "<table border=\"1\" class=\"dataframe\">\n",
       "  <thead>\n",
       "    <tr style=\"text-align: right;\">\n",
       "      <th></th>\n",
       "      <th>FAT</th>\n",
       "      <th>AGE</th>\n",
       "      <th>WEIGHT</th>\n",
       "      <th>HEIGHT</th>\n",
       "      <th>NECK</th>\n",
       "      <th>CHEST</th>\n",
       "      <th>ABDOMEN</th>\n",
       "      <th>HIP</th>\n",
       "      <th>THIGH</th>\n",
       "      <th>KNEE</th>\n",
       "      <th>ANKLE</th>\n",
       "      <th>BICEPS</th>\n",
       "      <th>FOREARM</th>\n",
       "      <th>WRIST</th>\n",
       "    </tr>\n",
       "  </thead>\n",
       "  <tbody>\n",
       "    <tr>\n",
       "      <th>0</th>\n",
       "      <td>35.2</td>\n",
       "      <td>46</td>\n",
       "      <td>363.15</td>\n",
       "      <td>72.25</td>\n",
       "      <td>51.2</td>\n",
       "      <td>136.2</td>\n",
       "      <td>148.1</td>\n",
       "      <td>147.7</td>\n",
       "      <td>87.3</td>\n",
       "      <td>49.1</td>\n",
       "      <td>29.6</td>\n",
       "      <td>45.0</td>\n",
       "      <td>29.0</td>\n",
       "      <td>21.4</td>\n",
       "    </tr>\n",
       "    <tr>\n",
       "      <th>1</th>\n",
       "      <td>11.8</td>\n",
       "      <td>27</td>\n",
       "      <td>168.00</td>\n",
       "      <td>71.25</td>\n",
       "      <td>38.1</td>\n",
       "      <td>93.0</td>\n",
       "      <td>79.1</td>\n",
       "      <td>94.5</td>\n",
       "      <td>57.3</td>\n",
       "      <td>36.2</td>\n",
       "      <td>24.5</td>\n",
       "      <td>29.0</td>\n",
       "      <td>30.0</td>\n",
       "      <td>18.8</td>\n",
       "    </tr>\n",
       "    <tr>\n",
       "      <th>2</th>\n",
       "      <td>22.2</td>\n",
       "      <td>69</td>\n",
       "      <td>177.75</td>\n",
       "      <td>68.50</td>\n",
       "      <td>38.7</td>\n",
       "      <td>102.0</td>\n",
       "      <td>95.0</td>\n",
       "      <td>98.3</td>\n",
       "      <td>55.0</td>\n",
       "      <td>38.3</td>\n",
       "      <td>21.8</td>\n",
       "      <td>30.8</td>\n",
       "      <td>25.7</td>\n",
       "      <td>18.8</td>\n",
       "    </tr>\n",
       "    <tr>\n",
       "      <th>3</th>\n",
       "      <td>10.6</td>\n",
       "      <td>57</td>\n",
       "      <td>147.75</td>\n",
       "      <td>65.75</td>\n",
       "      <td>35.2</td>\n",
       "      <td>99.6</td>\n",
       "      <td>86.4</td>\n",
       "      <td>90.1</td>\n",
       "      <td>53.0</td>\n",
       "      <td>35.0</td>\n",
       "      <td>21.3</td>\n",
       "      <td>31.7</td>\n",
       "      <td>27.3</td>\n",
       "      <td>16.9</td>\n",
       "    </tr>\n",
       "    <tr>\n",
       "      <th>4</th>\n",
       "      <td>47.5</td>\n",
       "      <td>51</td>\n",
       "      <td>219.00</td>\n",
       "      <td>64.00</td>\n",
       "      <td>41.2</td>\n",
       "      <td>119.8</td>\n",
       "      <td>122.1</td>\n",
       "      <td>112.8</td>\n",
       "      <td>62.5</td>\n",
       "      <td>36.9</td>\n",
       "      <td>23.6</td>\n",
       "      <td>34.7</td>\n",
       "      <td>29.1</td>\n",
       "      <td>18.4</td>\n",
       "    </tr>\n",
       "  </tbody>\n",
       "</table>\n",
       "</div>"
      ],
      "text/plain": [
       "    FAT  AGE  WEIGHT  HEIGHT  NECK  CHEST  ABDOMEN    HIP  THIGH  KNEE  ANKLE  \\\n",
       "0  35.2   46  363.15   72.25  51.2  136.2    148.1  147.7   87.3  49.1   29.6   \n",
       "1  11.8   27  168.00   71.25  38.1   93.0     79.1   94.5   57.3  36.2   24.5   \n",
       "2  22.2   69  177.75   68.50  38.7  102.0     95.0   98.3   55.0  38.3   21.8   \n",
       "3  10.6   57  147.75   65.75  35.2   99.6     86.4   90.1   53.0  35.0   21.3   \n",
       "4  47.5   51  219.00   64.00  41.2  119.8    122.1  112.8   62.5  36.9   23.6   \n",
       "\n",
       "   BICEPS  FOREARM  WRIST  \n",
       "0    45.0     29.0   21.4  \n",
       "1    29.0     30.0   18.8  \n",
       "2    30.8     25.7   18.8  \n",
       "3    31.7     27.3   16.9  \n",
       "4    34.7     29.1   18.4  "
      ]
     },
     "execution_count": 8,
     "metadata": {},
     "output_type": "execute_result"
    }
   ],
   "source": [
    "ds_health.head()"
   ]
  },
  {
   "cell_type": "code",
   "execution_count": 17,
   "metadata": {},
   "outputs": [
    {
     "name": "stdout",
     "output_type": "stream",
     "text": [
      "목표변수 데이터 크기:(252,)1\n",
      "X변수 데이터 크기:(252, 13)\n"
     ]
    }
   ],
   "source": [
    "ds_health_y = ds_health[\"FAT\"]\n",
    "ds_health_x = ds_health.drop(\"FAT\", axis=1)\n",
    "\n",
    "print(\"목표변수 데이터 크기:{}1\".format(ds_health_y.shape))\n",
    "print(\"X변수 데이터 크기:{}\".format(ds_health_x.shape))"
   ]
  },
  {
   "cell_type": "code",
   "execution_count": 21,
   "metadata": {},
   "outputs": [
    {
     "name": "stdout",
     "output_type": "stream",
     "text": [
      "목표변수 데이터 크기:(252,)1\n",
      "X변수 데이터 크기:(252, 12)\n"
     ]
    }
   ],
   "source": [
    "ds_health_y = ds_health[\"FAT\"]\n",
    "ds_health_x = ds_health.drop([\"FAT\",'WEIGHT'], axis=1)\n",
    "print(\"목표변수 데이터 크기:{}1\".format(ds_health_y.shape))\n",
    "print(\"X변수 데이터 크기:{}\".format(ds_health_x.shape))"
   ]
  },
  {
   "cell_type": "code",
   "execution_count": 22,
   "metadata": {},
   "outputs": [
    {
     "data": {
      "text/html": [
       "<div>\n",
       "<style scoped>\n",
       "    .dataframe tbody tr th:only-of-type {\n",
       "        vertical-align: middle;\n",
       "    }\n",
       "\n",
       "    .dataframe tbody tr th {\n",
       "        vertical-align: top;\n",
       "    }\n",
       "\n",
       "    .dataframe thead th {\n",
       "        text-align: right;\n",
       "    }\n",
       "</style>\n",
       "<table border=\"1\" class=\"dataframe\">\n",
       "  <thead>\n",
       "    <tr style=\"text-align: right;\">\n",
       "      <th></th>\n",
       "      <th>const</th>\n",
       "      <th>AGE</th>\n",
       "      <th>HEIGHT</th>\n",
       "      <th>NECK</th>\n",
       "      <th>CHEST</th>\n",
       "      <th>ABDOMEN</th>\n",
       "      <th>HIP</th>\n",
       "      <th>THIGH</th>\n",
       "      <th>KNEE</th>\n",
       "      <th>ANKLE</th>\n",
       "      <th>BICEPS</th>\n",
       "      <th>FOREARM</th>\n",
       "      <th>WRIST</th>\n",
       "    </tr>\n",
       "  </thead>\n",
       "  <tbody>\n",
       "    <tr>\n",
       "      <th>0</th>\n",
       "      <td>1.0</td>\n",
       "      <td>46</td>\n",
       "      <td>72.25</td>\n",
       "      <td>51.2</td>\n",
       "      <td>136.2</td>\n",
       "      <td>148.1</td>\n",
       "      <td>147.7</td>\n",
       "      <td>87.3</td>\n",
       "      <td>49.1</td>\n",
       "      <td>29.6</td>\n",
       "      <td>45.0</td>\n",
       "      <td>29.0</td>\n",
       "      <td>21.4</td>\n",
       "    </tr>\n",
       "    <tr>\n",
       "      <th>1</th>\n",
       "      <td>1.0</td>\n",
       "      <td>27</td>\n",
       "      <td>71.25</td>\n",
       "      <td>38.1</td>\n",
       "      <td>93.0</td>\n",
       "      <td>79.1</td>\n",
       "      <td>94.5</td>\n",
       "      <td>57.3</td>\n",
       "      <td>36.2</td>\n",
       "      <td>24.5</td>\n",
       "      <td>29.0</td>\n",
       "      <td>30.0</td>\n",
       "      <td>18.8</td>\n",
       "    </tr>\n",
       "    <tr>\n",
       "      <th>2</th>\n",
       "      <td>1.0</td>\n",
       "      <td>69</td>\n",
       "      <td>68.50</td>\n",
       "      <td>38.7</td>\n",
       "      <td>102.0</td>\n",
       "      <td>95.0</td>\n",
       "      <td>98.3</td>\n",
       "      <td>55.0</td>\n",
       "      <td>38.3</td>\n",
       "      <td>21.8</td>\n",
       "      <td>30.8</td>\n",
       "      <td>25.7</td>\n",
       "      <td>18.8</td>\n",
       "    </tr>\n",
       "    <tr>\n",
       "      <th>3</th>\n",
       "      <td>1.0</td>\n",
       "      <td>57</td>\n",
       "      <td>65.75</td>\n",
       "      <td>35.2</td>\n",
       "      <td>99.6</td>\n",
       "      <td>86.4</td>\n",
       "      <td>90.1</td>\n",
       "      <td>53.0</td>\n",
       "      <td>35.0</td>\n",
       "      <td>21.3</td>\n",
       "      <td>31.7</td>\n",
       "      <td>27.3</td>\n",
       "      <td>16.9</td>\n",
       "    </tr>\n",
       "    <tr>\n",
       "      <th>4</th>\n",
       "      <td>1.0</td>\n",
       "      <td>51</td>\n",
       "      <td>64.00</td>\n",
       "      <td>41.2</td>\n",
       "      <td>119.8</td>\n",
       "      <td>122.1</td>\n",
       "      <td>112.8</td>\n",
       "      <td>62.5</td>\n",
       "      <td>36.9</td>\n",
       "      <td>23.6</td>\n",
       "      <td>34.7</td>\n",
       "      <td>29.1</td>\n",
       "      <td>18.4</td>\n",
       "    </tr>\n",
       "  </tbody>\n",
       "</table>\n",
       "</div>"
      ],
      "text/plain": [
       "   const  AGE  HEIGHT  NECK  CHEST  ABDOMEN    HIP  THIGH  KNEE  ANKLE  \\\n",
       "0    1.0   46   72.25  51.2  136.2    148.1  147.7   87.3  49.1   29.6   \n",
       "1    1.0   27   71.25  38.1   93.0     79.1   94.5   57.3  36.2   24.5   \n",
       "2    1.0   69   68.50  38.7  102.0     95.0   98.3   55.0  38.3   21.8   \n",
       "3    1.0   57   65.75  35.2   99.6     86.4   90.1   53.0  35.0   21.3   \n",
       "4    1.0   51   64.00  41.2  119.8    122.1  112.8   62.5  36.9   23.6   \n",
       "\n",
       "   BICEPS  FOREARM  WRIST  \n",
       "0    45.0     29.0   21.4  \n",
       "1    29.0     30.0   18.8  \n",
       "2    30.8     25.7   18.8  \n",
       "3    31.7     27.3   16.9  \n",
       "4    34.7     29.1   18.4  "
      ]
     },
     "execution_count": 22,
     "metadata": {},
     "output_type": "execute_result"
    }
   ],
   "source": [
    "# 절편 추가\n",
    "ds_health_x_const = sm.add_constant(ds_health_x)\n",
    "ds_health_x_const.head()"
   ]
  },
  {
   "cell_type": "code",
   "execution_count": 23,
   "metadata": {},
   "outputs": [
    {
     "name": "stdout",
     "output_type": "stream",
     "text": [
      "                            OLS Regression Results                            \n",
      "==============================================================================\n",
      "Dep. Variable:                    FAT   R-squared:                       0.746\n",
      "Model:                            OLS   Adj. R-squared:                  0.733\n",
      "Method:                 Least Squares   F-statistic:                     58.55\n",
      "Date:                Wed, 30 Jan 2019   Prob (F-statistic):           3.75e-64\n",
      "Time:                        13:57:22   Log-Likelihood:                -719.69\n",
      "No. Observations:                 252   AIC:                             1465.\n",
      "Df Residuals:                     239   BIC:                             1511.\n",
      "Df Model:                          12                                         \n",
      "Covariance Type:            nonrobust                                         \n",
      "==============================================================================\n",
      "                 coef    std err          t      P>|t|      [0.025      0.975]\n",
      "------------------------------------------------------------------------------\n",
      "const          7.5453      7.672      0.984      0.326      -7.567      22.658\n",
      "AGE            0.0732      0.032      2.304      0.022       0.011       0.136\n",
      "HEIGHT        -0.1416      0.086     -1.649      0.100      -0.311       0.028\n",
      "NECK          -0.5828      0.223     -2.612      0.010      -1.022      -0.143\n",
      "CHEST         -0.0908      0.091     -0.999      0.319      -0.270       0.088\n",
      "ABDOMEN        0.9259      0.085     10.897      0.000       0.758       1.093\n",
      "HIP           -0.3379      0.123     -2.743      0.007      -0.581      -0.095\n",
      "THIGH          0.2226      0.145      1.539      0.125      -0.062       0.508\n",
      "KNEE          -0.0867      0.235     -0.369      0.712      -0.549       0.376\n",
      "ANKLE          0.1069      0.218      0.489      0.625      -0.324       0.537\n",
      "BICEPS         0.1317      0.169      0.779      0.437      -0.201       0.465\n",
      "FOREARM        0.4484      0.200      2.244      0.026       0.055       0.842\n",
      "WRIST         -1.7468      0.531     -3.287      0.001      -2.794      -0.700\n",
      "==============================================================================\n",
      "Omnibus:                        2.337   Durbin-Watson:                   2.099\n",
      "Prob(Omnibus):                  0.311   Jarque-Bera (JB):                1.830\n",
      "Skew:                           0.018   Prob(JB):                        0.400\n",
      "Kurtosis:                       2.584   Cond. No.                     5.98e+03\n",
      "==============================================================================\n",
      "\n",
      "Warnings:\n",
      "[1] Standard Errors assume that the covariance matrix of the errors is correctly specified.\n",
      "[2] The condition number is large, 5.98e+03. This might indicate that there are\n",
      "strong multicollinearity or other numerical problems.\n"
     ]
    }
   ],
   "source": [
    "# 회귀 모델 생성\n",
    "reg_multi_model = sm.OLS(ds_health_y, ds_health_x_const)\n",
    "#적합\n",
    "reg_multi_results = reg_multi_model.fit()\n",
    "print(reg_multi_results.summary())"
   ]
  },
  {
   "cell_type": "markdown",
   "metadata": {},
   "source": [
    "1. No. Observations : 252\n",
    "   Df Residuals(잔차 자유도) : 238\n",
    "   Df Model(모델 자유도) : 13\n",
    "2. ANOVA 분석결과\n",
    "   -> p값이 유의 수준 0.05보다 작으므로 회귀모델로서 유의\n",
    "3. 설명력 : 0.749\n",
    "   -> 모델을 통하여 설명변수 EVAL을 74.9% 설명할 수 있음\n",
    "4. 회귀계수 검정\n",
    "   -> 절편의 p값이 유의수준 0.05보다 크므로 계수로서 유의하지 않음(회귀 모델에서 절편은 유의하지 않더라도 모델에 포함)\n",
    "   -> ABDOMEN의 p값이 유의수준 0.05보다 작으므로 계수로서 유의\n",
    "   -> WRIST의 p값이 유의수준 0.05보다 작으므로 계수로서 유의"
   ]
  },
  {
   "cell_type": "markdown",
   "metadata": {},
   "source": [
    "#### 회귀 모델 생성 : 전체 설명변수 대상으로 다중 공선성 검토"
   ]
  },
  {
   "cell_type": "code",
   "execution_count": 20,
   "metadata": {},
   "outputs": [
    {
     "data": {
      "text/html": [
       "<div>\n",
       "<style scoped>\n",
       "    .dataframe tbody tr th:only-of-type {\n",
       "        vertical-align: middle;\n",
       "    }\n",
       "\n",
       "    .dataframe tbody tr th {\n",
       "        vertical-align: top;\n",
       "    }\n",
       "\n",
       "    .dataframe thead th {\n",
       "        text-align: right;\n",
       "    }\n",
       "</style>\n",
       "<table border=\"1\" class=\"dataframe\">\n",
       "  <thead>\n",
       "    <tr style=\"text-align: right;\">\n",
       "      <th></th>\n",
       "      <th>variable</th>\n",
       "      <th>VIF</th>\n",
       "    </tr>\n",
       "  </thead>\n",
       "  <tbody>\n",
       "    <tr>\n",
       "      <th>3</th>\n",
       "      <td>HEIGHT</td>\n",
       "      <td>1.675</td>\n",
       "    </tr>\n",
       "    <tr>\n",
       "      <th>10</th>\n",
       "      <td>ANKLE</td>\n",
       "      <td>1.908</td>\n",
       "    </tr>\n",
       "    <tr>\n",
       "      <th>12</th>\n",
       "      <td>FOREARM</td>\n",
       "      <td>2.192</td>\n",
       "    </tr>\n",
       "    <tr>\n",
       "      <th>1</th>\n",
       "      <td>AGE</td>\n",
       "      <td>2.250</td>\n",
       "    </tr>\n",
       "    <tr>\n",
       "      <th>13</th>\n",
       "      <td>WRIST</td>\n",
       "      <td>3.378</td>\n",
       "    </tr>\n",
       "    <tr>\n",
       "      <th>11</th>\n",
       "      <td>BICEPS</td>\n",
       "      <td>3.620</td>\n",
       "    </tr>\n",
       "    <tr>\n",
       "      <th>4</th>\n",
       "      <td>NECK</td>\n",
       "      <td>4.324</td>\n",
       "    </tr>\n",
       "    <tr>\n",
       "      <th>9</th>\n",
       "      <td>KNEE</td>\n",
       "      <td>4.612</td>\n",
       "    </tr>\n",
       "    <tr>\n",
       "      <th>8</th>\n",
       "      <td>THIGH</td>\n",
       "      <td>7.778</td>\n",
       "    </tr>\n",
       "    <tr>\n",
       "      <th>5</th>\n",
       "      <td>CHEST</td>\n",
       "      <td>9.461</td>\n",
       "    </tr>\n",
       "    <tr>\n",
       "      <th>6</th>\n",
       "      <td>ABDOMEN</td>\n",
       "      <td>11.767</td>\n",
       "    </tr>\n",
       "    <tr>\n",
       "      <th>7</th>\n",
       "      <td>HIP</td>\n",
       "      <td>14.797</td>\n",
       "    </tr>\n",
       "    <tr>\n",
       "      <th>2</th>\n",
       "      <td>WEIGHT</td>\n",
       "      <td>33.509</td>\n",
       "    </tr>\n",
       "    <tr>\n",
       "      <th>0</th>\n",
       "      <td>const</td>\n",
       "      <td>4091.886</td>\n",
       "    </tr>\n",
       "  </tbody>\n",
       "</table>\n",
       "</div>"
      ],
      "text/plain": [
       "   variable       VIF\n",
       "3    HEIGHT     1.675\n",
       "10    ANKLE     1.908\n",
       "12  FOREARM     2.192\n",
       "1       AGE     2.250\n",
       "13    WRIST     3.378\n",
       "11   BICEPS     3.620\n",
       "4      NECK     4.324\n",
       "9      KNEE     4.612\n",
       "8     THIGH     7.778\n",
       "5     CHEST     9.461\n",
       "6   ABDOMEN    11.767\n",
       "7       HIP    14.797\n",
       "2    WEIGHT    33.509\n",
       "0     const  4091.886"
      ]
     },
     "execution_count": 20,
     "metadata": {},
     "output_type": "execute_result"
    }
   ],
   "source": [
    "ds_vif = pd.DataFrame()\n",
    "ds_vif['variable'] = ds_health_x_const.columns\n",
    "ds_vif[\"VIF\"] = [variance_inflation_factor(ds_health_x_const.values, i) for i in range(ds_health_x_const.shape[1])]\n",
    "ds_vif.sort_values(\"VIF\", inplace=True)\n",
    "ds_vif.round(3)"
   ]
  },
  {
   "cell_type": "code",
   "execution_count": 24,
   "metadata": {},
   "outputs": [
    {
     "data": {
      "text/html": [
       "<div>\n",
       "<style scoped>\n",
       "    .dataframe tbody tr th:only-of-type {\n",
       "        vertical-align: middle;\n",
       "    }\n",
       "\n",
       "    .dataframe tbody tr th {\n",
       "        vertical-align: top;\n",
       "    }\n",
       "\n",
       "    .dataframe thead th {\n",
       "        text-align: right;\n",
       "    }\n",
       "</style>\n",
       "<table border=\"1\" class=\"dataframe\">\n",
       "  <thead>\n",
       "    <tr style=\"text-align: right;\">\n",
       "      <th></th>\n",
       "      <th>variable</th>\n",
       "      <th>VIF</th>\n",
       "    </tr>\n",
       "  </thead>\n",
       "  <tbody>\n",
       "    <tr>\n",
       "      <th>2</th>\n",
       "      <td>HEIGHT</td>\n",
       "      <td>1.330</td>\n",
       "    </tr>\n",
       "    <tr>\n",
       "      <th>9</th>\n",
       "      <td>ANKLE</td>\n",
       "      <td>1.844</td>\n",
       "    </tr>\n",
       "    <tr>\n",
       "      <th>1</th>\n",
       "      <td>AGE</td>\n",
       "      <td>2.154</td>\n",
       "    </tr>\n",
       "    <tr>\n",
       "      <th>11</th>\n",
       "      <td>FOREARM</td>\n",
       "      <td>2.192</td>\n",
       "    </tr>\n",
       "    <tr>\n",
       "      <th>12</th>\n",
       "      <td>WRIST</td>\n",
       "      <td>3.309</td>\n",
       "    </tr>\n",
       "    <tr>\n",
       "      <th>10</th>\n",
       "      <td>BICEPS</td>\n",
       "      <td>3.507</td>\n",
       "    </tr>\n",
       "    <tr>\n",
       "      <th>3</th>\n",
       "      <td>NECK</td>\n",
       "      <td>3.956</td>\n",
       "    </tr>\n",
       "    <tr>\n",
       "      <th>8</th>\n",
       "      <td>KNEE</td>\n",
       "      <td>4.312</td>\n",
       "    </tr>\n",
       "    <tr>\n",
       "      <th>7</th>\n",
       "      <td>THIGH</td>\n",
       "      <td>7.753</td>\n",
       "    </tr>\n",
       "    <tr>\n",
       "      <th>4</th>\n",
       "      <td>CHEST</td>\n",
       "      <td>7.883</td>\n",
       "    </tr>\n",
       "    <tr>\n",
       "      <th>6</th>\n",
       "      <td>HIP</td>\n",
       "      <td>10.469</td>\n",
       "    </tr>\n",
       "    <tr>\n",
       "      <th>5</th>\n",
       "      <td>ABDOMEN</td>\n",
       "      <td>11.285</td>\n",
       "    </tr>\n",
       "    <tr>\n",
       "      <th>0</th>\n",
       "      <td>const</td>\n",
       "      <td>794.412</td>\n",
       "    </tr>\n",
       "  </tbody>\n",
       "</table>\n",
       "</div>"
      ],
      "text/plain": [
       "   variable      VIF\n",
       "2    HEIGHT    1.330\n",
       "9     ANKLE    1.844\n",
       "1       AGE    2.154\n",
       "11  FOREARM    2.192\n",
       "12    WRIST    3.309\n",
       "10   BICEPS    3.507\n",
       "3      NECK    3.956\n",
       "8      KNEE    4.312\n",
       "7     THIGH    7.753\n",
       "4     CHEST    7.883\n",
       "6       HIP   10.469\n",
       "5   ABDOMEN   11.285\n",
       "0     const  794.412"
      ]
     },
     "execution_count": 24,
     "metadata": {},
     "output_type": "execute_result"
    }
   ],
   "source": [
    "# Weight 뺀거\n",
    "ds_vif = pd.DataFrame()\n",
    "ds_vif['variable'] = ds_health_x_const.columns\n",
    "ds_vif[\"VIF\"] = [variance_inflation_factor(ds_health_x_const.values, i) for i in range(ds_health_x_const.shape[1])]\n",
    "ds_vif.sort_values(\"VIF\", inplace=True)\n",
    "ds_vif.round(3)"
   ]
  },
  {
   "cell_type": "markdown",
   "metadata": {},
   "source": [
    "### 후진 제거법을 이용한 변수 선택"
   ]
  },
  {
   "cell_type": "code",
   "execution_count": 29,
   "metadata": {},
   "outputs": [
    {
     "name": "stdout",
     "output_type": "stream",
     "text": [
      "Selected features:Index(['NECK', 'ABDOMEN', 'FOREARM', 'WRIST'], dtype='object')\n",
      "Removed features:Index(['AGE', 'HEIGHT', 'CHEST', 'HIP', 'THIGH', 'KNEE', 'ANKLE', 'BICEPS'], dtype='object')\n"
     ]
    }
   ],
   "source": [
    "model = LinearRegression()\n",
    "rfe = RFE(estimator= model, n_features_to_select=4).fit(ds_health_x, ds_health_y)\n",
    "\n",
    "#선택된 변수\n",
    "selected_cols = ds_health_x.columns[rfe.support_]\n",
    "removed_cols = ds_health_x.columns[~rfe.support_]\n",
    "\n",
    "print(\"Selected features:{}\".format(selected_cols))\n",
    "print(\"Removed features:{}\".format(removed_cols))      "
   ]
  },
  {
   "cell_type": "code",
   "execution_count": 35,
   "metadata": {},
   "outputs": [],
   "source": [
    "num_col = selected_cols.copy()"
   ]
  },
  {
   "cell_type": "code",
   "execution_count": 56,
   "metadata": {},
   "outputs": [
    {
     "data": {
      "image/png": "[encoded data removed]",
      "text/plain": [
       "<Figure size 864x864 with 4 Axes>"
      ]
     },
     "metadata": {
      "needs_background": "light"
     },
     "output_type": "display_data"
    }
   ],
   "source": [
    "rows = 2\n",
    "if((((len(num_col) + 1) // rows) % rows) == 0): \n",
    "    cols = (len(num_col)+1) // rows\n",
    "else:\n",
    "    cols = ((len(num_col)+1) // rows) + ((len(num_col) // rows) % rows)\n",
    "\n",
    "fig, axs = plt.subplots(rows, cols, figsize=(12,12))\n",
    "fig.subplots_adjust(hspace = 0.18, wspace=0.25)\n",
    "axs = axs.ravel()\n",
    "for j,k in enumerate(num_col):\n",
    "    b = sns.scatterplot(y = k, x = 'FAT', data=ds_health,ax = axs[j],)\n",
    "    b.set_ylabel(k,fontsize=20)"
   ]
  },
  {
   "cell_type": "code",
   "execution_count": 30,
   "metadata": {
    "scrolled": false
   },
   "outputs": [
    {
     "name": "stdout",
     "output_type": "stream",
     "text": [
      "                            OLS Regression Results                            \n",
      "==============================================================================\n",
      "Dep. Variable:                    FAT   R-squared:                       0.714\n",
      "Model:                            OLS   Adj. R-squared:                  0.709\n",
      "Method:                 Least Squares   F-statistic:                     154.1\n",
      "Date:                Wed, 30 Jan 2019   Prob (F-statistic):           6.80e-66\n",
      "Time:                        13:59:13   Log-Likelihood:                -734.77\n",
      "No. Observations:                 252   AIC:                             1480.\n",
      "Df Residuals:                     247   BIC:                             1497.\n",
      "Df Model:                           4                                         \n",
      "Covariance Type:            nonrobust                                         \n",
      "==============================================================================\n",
      "                 coef    std err          t      P>|t|      [0.025      0.975]\n",
      "------------------------------------------------------------------------------\n",
      "const         -6.4679      5.959     -1.085      0.279     -18.205       5.269\n",
      "NECK          -0.6817      0.220     -3.095      0.002      -1.116      -0.248\n",
      "ABDOMEN        0.8144      0.041     20.059      0.000       0.734       0.894\n",
      "FOREARM        0.3044      0.185      1.641      0.102      -0.061       0.670\n",
      "WRIST         -1.7874      0.474     -3.774      0.000      -2.720      -0.855\n",
      "==============================================================================\n",
      "Omnibus:                        0.083   Durbin-Watson:                   2.107\n",
      "Prob(Omnibus):                  0.960   Jarque-Bera (JB):                0.184\n",
      "Skew:                           0.031   Prob(JB):                        0.912\n",
      "Kurtosis:                       2.883   Cond. No.                     2.23e+03\n",
      "==============================================================================\n",
      "\n",
      "Warnings:\n",
      "[1] Standard Errors assume that the covariance matrix of the errors is correctly specified.\n",
      "[2] The condition number is large, 2.23e+03. This might indicate that there are\n",
      "strong multicollinearity or other numerical problems.\n"
     ]
    },
    {
     "name": "stderr",
     "output_type": "stream",
     "text": [
      "/home/pirl/anaconda3/envs/tensorflow/lib/python3.6/site-packages/numpy/core/fromnumeric.py:2389: FutureWarning: Method .ptp is deprecated and will be removed in a future version. Use numpy.ptp instead.\n",
      "  return ptp(axis=axis, out=out, **kwargs)\n"
     ]
    }
   ],
   "source": [
    "ds_health_x_rfe = sm.add_constant(ds_health_x_const[selected_cols])\n",
    "reg_multi_rfe_model = sm.OLS(ds_health_y, ds_health_x_rfe)\n",
    "reg_multi_rfe_results = reg_multi_rfe_model.fit()\n",
    "print(reg_multi_rfe_results.summary())"
   ]
  },
  {
   "cell_type": "code",
   "execution_count": 31,
   "metadata": {},
   "outputs": [
    {
     "data": {
      "text/html": [
       "<div>\n",
       "<style scoped>\n",
       "    .dataframe tbody tr th:only-of-type {\n",
       "        vertical-align: middle;\n",
       "    }\n",
       "\n",
       "    .dataframe tbody tr th {\n",
       "        vertical-align: top;\n",
       "    }\n",
       "\n",
       "    .dataframe thead th {\n",
       "        text-align: right;\n",
       "    }\n",
       "</style>\n",
       "<table border=\"1\" class=\"dataframe\">\n",
       "  <thead>\n",
       "    <tr style=\"text-align: right;\">\n",
       "      <th></th>\n",
       "      <th>features</th>\n",
       "      <th>VIF</th>\n",
       "    </tr>\n",
       "  </thead>\n",
       "  <tbody>\n",
       "    <tr>\n",
       "      <th>3</th>\n",
       "      <td>FOREARM</td>\n",
       "      <td>1.732</td>\n",
       "    </tr>\n",
       "    <tr>\n",
       "      <th>2</th>\n",
       "      <td>ABDOMEN</td>\n",
       "      <td>2.363</td>\n",
       "    </tr>\n",
       "    <tr>\n",
       "      <th>4</th>\n",
       "      <td>WRIST</td>\n",
       "      <td>2.409</td>\n",
       "    </tr>\n",
       "    <tr>\n",
       "      <th>1</th>\n",
       "      <td>NECK</td>\n",
       "      <td>3.533</td>\n",
       "    </tr>\n",
       "    <tr>\n",
       "      <th>0</th>\n",
       "      <td>const</td>\n",
       "      <td>439.469</td>\n",
       "    </tr>\n",
       "  </tbody>\n",
       "</table>\n",
       "</div>"
      ],
      "text/plain": [
       "  features      VIF\n",
       "3  FOREARM    1.732\n",
       "2  ABDOMEN    2.363\n",
       "4    WRIST    2.409\n",
       "1     NECK    3.533\n",
       "0    const  439.469"
      ]
     },
     "execution_count": 31,
     "metadata": {},
     "output_type": "execute_result"
    }
   ],
   "source": [
    "ds_rfe_vif = pd.DataFrame()\n",
    "ds_rfe_vif['features'] = ds_health_x_rfe.columns\n",
    "ds_rfe_vif[\"VIF\"] = [variance_inflation_factor(ds_health_x_rfe.values, i) for i in range(ds_health_x_rfe.shape[1])]\n",
    "ds_rfe_vif.sort_values(\"VIF\", inplace=True)\n",
    "ds_rfe_vif.round(3)"
   ]
  },
  {
   "cell_type": "markdown",
   "metadata": {},
   "source": [
    "#### 최종 회귀식"
   ]
  },
  {
   "cell_type": "code",
   "execution_count": 32,
   "metadata": {
    "scrolled": true
   },
   "outputs": [
    {
     "data": {
      "text/plain": [
       "<matplotlib.axes._subplots.AxesSubplot at 0x7eff2adc2ac8>"
      ]
     },
     "execution_count": 32,
     "metadata": {},
     "output_type": "execute_result"
    },
    {
     "data": {
      "image/png": "[encoded data removed]",
      "text/plain": [
       "<Figure size 432x288 with 1 Axes>"
      ]
     },
     "metadata": {
      "needs_background": "light"
     },
     "output_type": "display_data"
    }
   ],
   "source": [
    "ds_reg_coef = pd.DataFrame({\"Coef\":reg_multi_rfe_results.params.values[1:]},\n",
    "                           index=reg_multi_rfe_model.exog_names[1:])\n",
    "\n",
    "# ds_reg_coef.plot.barh(y='Coef', legend = True, )\n",
    "sns.barplot(data=ds_reg_coef, x = 'Coef', y =ds_reg_coef.index)"
   ]
  },
  {
   "cell_type": "code",
   "execution_count": 66,
   "metadata": {},
   "outputs": [
    {
     "data": {
      "text/html": [
       "<div>\n",
       "<style scoped>\n",
       "    .dataframe tbody tr th:only-of-type {\n",
       "        vertical-align: middle;\n",
       "    }\n",
       "\n",
       "    .dataframe tbody tr th {\n",
       "        vertical-align: top;\n",
       "    }\n",
       "\n",
       "    .dataframe thead th {\n",
       "        text-align: right;\n",
       "    }\n",
       "</style>\n",
       "<table border=\"1\" class=\"dataframe\">\n",
       "  <thead>\n",
       "    <tr style=\"text-align: right;\">\n",
       "      <th></th>\n",
       "      <th>Coef</th>\n",
       "    </tr>\n",
       "  </thead>\n",
       "  <tbody>\n",
       "    <tr>\n",
       "      <th>NECK</th>\n",
       "      <td>-0.681743</td>\n",
       "    </tr>\n",
       "    <tr>\n",
       "      <th>ABDOMEN</th>\n",
       "      <td>0.814409</td>\n",
       "    </tr>\n",
       "    <tr>\n",
       "      <th>FOREARM</th>\n",
       "      <td>0.304362</td>\n",
       "    </tr>\n",
       "    <tr>\n",
       "      <th>WRIST</th>\n",
       "      <td>-1.787362</td>\n",
       "    </tr>\n",
       "  </tbody>\n",
       "</table>\n",
       "</div>"
      ],
      "text/plain": [
       "             Coef\n",
       "NECK    -0.681743\n",
       "ABDOMEN  0.814409\n",
       "FOREARM  0.304362\n",
       "WRIST   -1.787362"
      ]
     },
     "execution_count": 66,
     "metadata": {},
     "output_type": "execute_result"
    }
   ],
   "source": [
    "ds_reg_coef.head()"
   ]
  },
  {
   "cell_type": "markdown",
   "metadata": {},
   "source": [
    "### 표준화 후 설명력 "
   ]
  },
  {
   "cell_type": "code",
   "execution_count": 33,
   "metadata": {},
   "outputs": [
    {
     "data": {
      "text/plain": [
       "<matplotlib.axes._subplots.AxesSubplot at 0x7eff2ad25240>"
      ]
     },
     "execution_count": 33,
     "metadata": {},
     "output_type": "execute_result"
    },
    {
     "data": {
      "image/png": "[encoded data removed]",
      "text/plain": [
       "<Figure size 432x288 with 1 Axes>"
      ]
     },
     "metadata": {
      "needs_background": "light"
     },
     "output_type": "display_data"
    }
   ],
   "source": [
    "# 데이터 표준화, 평균 0, 표준편차 1\n",
    "ds_health_x_scaled = scale(ds_health_x_const[selected_cols])\n",
    "# 후진제거법에 의하여 선택된 데이터에 상수 1입력\n",
    "ds_health_x_scaled = sm.add_constant(ds_health_x_scaled)\n",
    "# 회귀 모델 생성\n",
    "reg_multi_scaled_model = sm.OLS(ds_health_y, ds_health_x_scaled)\n",
    "# 적합\n",
    "reg_multi_scaled_results = reg_multi_scaled_model.fit()\n",
    "# 설명변수 중요도\n",
    "ds_reg_scaled_coef = pd.DataFrame({\"Coef\":reg_multi_scaled_results.params.values[1:]},\n",
    "                                 index = reg_multi_rfe_model.exog_names[1:])\n",
    "sns.barplot(data=ds_reg_scaled_coef, x = 'Coef', y =ds_reg_scaled_coef.index)"
   ]
  },
  {
   "cell_type": "markdown",
   "metadata": {},
   "source": [
    "### formula를 이용한 회귀분석"
   ]
  },
  {
   "cell_type": "code",
   "execution_count": 63,
   "metadata": {},
   "outputs": [
    {
     "name": "stdout",
     "output_type": "stream",
     "text": [
      "<class 'pandas.core.frame.DataFrame'>\n",
      "RangeIndex: 252 entries, 0 to 251\n",
      "Data columns (total 14 columns):\n",
      "FAT        252 non-null float64\n",
      "AGE        252 non-null int64\n",
      "WEIGHT     252 non-null float64\n",
      "HEIGHT     252 non-null float64\n",
      "NECK       252 non-null float64\n",
      "CHEST      252 non-null float64\n",
      "ABDOMEN    252 non-null float64\n",
      "HIP        252 non-null float64\n",
      "THIGH      252 non-null float64\n",
      "KNEE       252 non-null float64\n",
      "ANKLE      252 non-null float64\n",
      "BICEPS     252 non-null float64\n",
      "FOREARM    252 non-null float64\n",
      "WRIST      252 non-null float64\n",
      "dtypes: float64(13), int64(1)\n",
      "memory usage: 27.6 KB\n"
     ]
    }
   ],
   "source": [
    "ds_health.info()"
   ]
  },
  {
   "cell_type": "code",
   "execution_count": 65,
   "metadata": {},
   "outputs": [
    {
     "name": "stdout",
     "output_type": "stream",
     "text": [
      "                            OLS Regression Results                            \n",
      "==============================================================================\n",
      "Dep. Variable:                    FAT   R-squared:                       0.739\n",
      "Model:                            OLS   Adj. R-squared:                  0.733\n",
      "Method:                 Least Squares   F-statistic:                     115.8\n",
      "Date:                Wed, 30 Jan 2019   Prob (F-statistic):           1.24e-68\n",
      "Time:                        14:55:57   Log-Likelihood:                -723.03\n",
      "No. Observations:                 252   AIC:                             1460.\n",
      "Df Residuals:                     245   BIC:                             1485.\n",
      "Df Model:                           6                                         \n",
      "Covariance Type:            nonrobust                                         \n",
      "==============================================================================\n",
      "                 coef    std err          t      P>|t|      [0.025      0.975]\n",
      "------------------------------------------------------------------------------\n",
      "Intercept    -36.1132      8.985     -4.019      0.000     -53.810     -18.416\n",
      "NECK          -0.3582      0.221     -1.618      0.107      -0.794       0.078\n",
      "ABDOMEN        1.0094      0.056     17.920      0.000       0.898       1.120\n",
      "FOREARM        0.5041      0.185      2.726      0.007       0.140       0.868\n",
      "WRIST         -1.1240      0.480     -2.343      0.020      -2.069      -0.179\n",
      "WEIGHT        -0.1451      0.032     -4.502      0.000      -0.209      -0.082\n",
      "THIGH          0.1256      0.108      1.158      0.248      -0.088       0.339\n",
      "==============================================================================\n",
      "Omnibus:                        5.691   Durbin-Watson:                   2.132\n",
      "Prob(Omnibus):                  0.058   Jarque-Bera (JB):                3.340\n",
      "Skew:                           0.006   Prob(JB):                        0.188\n",
      "Kurtosis:                       2.436   Cond. No.                     7.20e+03\n",
      "==============================================================================\n",
      "\n",
      "Warnings:\n",
      "[1] Standard Errors assume that the covariance matrix of the errors is correctly specified.\n",
      "[2] The condition number is large, 7.2e+03. This might indicate that there are\n",
      "strong multicollinearity or other numerical problems.\n"
     ]
    }
   ],
   "source": [
    "import statsmodels.formula.api as smf\n",
    "\n",
    "formula_model = smf.ols(formula = \"FAT~NECK + ABDOMEN + FOREARM + WRIST+WEIGHT+THIGH\", data = ds_health)\n",
    "formula_result = formula_model.fit()\n",
    "print(formula_result.summary())"
   ]
  },
  {
   "cell_type": "code",
   "execution_count": null,
   "metadata": {},
   "outputs": [],
   "source": []
  }
 ],
 "metadata": {
  "kernelspec": {
   "display_name": "Python 3",
   "language": "python",
   "name": "python3"
  },
  "language_info": {
   "codemirror_mode": {
    "name": "ipython",
    "version": 3
   },
   "file_extension": ".py",
   "mimetype": "text/x-python",
   "name": "python",
   "nbconvert_exporter": "python",
   "pygments_lexer": "ipython3",
   "version": "3.6.8"
  }
 },
 "nbformat": 4,
 "nbformat_minor": 2
}
