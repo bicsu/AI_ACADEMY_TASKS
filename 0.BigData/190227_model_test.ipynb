{
 "cells": [
  {
   "cell_type": "markdown",
   "metadata": {},
   "source": [
    "# 웹에 머신러닝 모델 코드를 올리기 위핸 test 작업을 실시"
   ]
  },
  {
   "cell_type": "code",
   "execution_count": 2,
   "metadata": {},
   "outputs": [
    {
     "data": {
      "text/plain": [
       "'/home/pirl/Downloads/ken/Classes/빅데이터_종합_플젝'"
      ]
     },
     "execution_count": 2,
     "metadata": {},
     "output_type": "execute_result"
    }
   ],
   "source": [
    "pwd"
   ]
  },
  {
   "cell_type": "code",
   "execution_count": 38,
   "metadata": {},
   "outputs": [],
   "source": [
    "import pandas as pd\n",
    "from sklearn.ensemble import RandomForestClassifier\n",
    "from xgboost import XGBClassifier\n",
    "from lightgbm import LGBMClassifier\n",
    "from sklearn.model_selection import train_test_split\n",
    "\n",
    "rf = RandomForestClassifier(n_jobs=-1)\n",
    "lgb_diab = LGBMClassifier(n_jobs=-1, )\n",
    "xgb_diab = XGBClassifier(n_jobs=-1, )\n",
    "rf_ab_rf = RandomForestClassifier(n_jobs=-1)\n",
    "rf_hbp_lgbm = LGBMClassifier(n_jobs=-1)\n",
    "rf_ab_lgbm = LGBMClassifier(n_jobs=-1)\n",
    "rf_ab_xgb = XGBClassifier(n_jobs=-1, objective='multi:softprob')\n",
    "rf_hbp = RandomForestClassifier(n_jobs=-1)\n",
    "\n",
    "\n",
    "def train():\n",
    "    data_raw = pd.read_csv('./dataset_to_web.csv')\n",
    "    data = data_raw.copy()\n",
    "\n",
    "    data_diab = data[['가입자일련번호','성별코드', '연령대코드(5세단위)', '허리둘레', '수축기혈압',\n",
    "                      '이완기혈압','당뇨병 의사 판정','합병증_종류','BMI','구강검진 수검여부']]\n",
    "\n",
    "\n",
    "    x_data = data_diab.drop(['합병증_종류',], axis = 1)\n",
    "    y_data = data_diab['합병증_종류']\n",
    "\n",
    "    x_train, x_test, y_train, y_test = train_test_split(x_data, y_data, test_size = 0.3, random_state=42)\n",
    "\n",
    "    x_test_id = x_test.reset_index(drop=True)\n",
    "    x_train = x_train.drop('가입자일련번호', axis = 1)\n",
    "    x_test = x_test.drop('가입자일련번호', axis = 1)\n",
    "\n",
    "\n",
    "    # 1-1. Random Forest\n",
    "\n",
    "    rf.fit(x_train, y_train)\n",
    "\n",
    "    y_pred = rf.predict(x_test)\n",
    "\n",
    "    # 2. 고혈압만 환자들로 모델링\n",
    "\n",
    "    ### 2-1. Random Forest\n",
    "\n",
    "    data_hbp = data.copy()\n",
    "\n",
    "    data_hbp=data[['가입자일련번호','성별코드',\n",
    "                  '연령대코드(5세단위)', '허리둘레', '수축기혈압',\n",
    "                  '이완기혈압','고혈압 의사 판정','합병증_종류','BMI','구강검진 수검여부']]\n",
    "    x_data_hbp = data_hbp.drop(['합병증_종류',], axis = 1)\n",
    "    y_data_hbp = data_hbp['합병증_종류']\n",
    "\n",
    "    x_train_hbp, x_test_hbp, y_train_hbp, y_test_hbp = train_test_split(x_data_hbp, y_data_hbp,\n",
    "                                                        test_size = 0.3, random_state=42)\n",
    "\n",
    "    x_train_hbp = x_train_hbp.drop('가입자일련번호', axis = 1)\n",
    "    x_test_hbp = x_test_hbp.drop('가입자일련번호', axis = 1)\n",
    "\n",
    "    rf_hbp.fit(x_train_hbp, y_train_hbp)\n",
    "\n",
    "    y_pred_hbp = rf_hbp.predict(x_test_hbp)\n",
    "\n",
    "    ## 2-2. LGBM\n",
    "\n",
    "    data_hbp_lgbm = data.copy()\n",
    "    \n",
    "    data_hbp_lgbm=data[['가입자일련번호','성별코드',\n",
    "                  '연령대코드(5세단위)', '허리둘레', '수축기혈압',\n",
    "                  '이완기혈압','고혈압 의사 판정','합병증_종류','BMI','구강검진 수검여부']]\n",
    "    \n",
    "    x_data_hbp_lgbm = data_hbp_lgbm.drop(['합병증_종류',], axis = 1)\n",
    "    y_data_hbp_lgbm = data_hbp_lgbm['합병증_종류']\n",
    "    \n",
    "    x_train_hbp_lgbm, x_test_hbp_lgbm, y_train_hbp_lgbm, y_test_hbp_lgbm = train_test_split(x_data_hbp_lgbm, y_data_hbp_lgbm,\n",
    "                                                        test_size = 0.3, random_state=42)\n",
    "    \n",
    "    x_train_hbp_lgbm = x_train_hbp_lgbm.drop('가입자일련번호', axis = 1)\n",
    "    x_test_hbp_lgbm = x_test_hbp_lgbm.drop('가입자일련번호', axis = 1)\n",
    "    \n",
    "    rf_hbp_lgbm.fit(x_train_hbp_lgbm, y_train_hbp_lgbm)\n",
    "    \n",
    "    y_pred_hbp_lgbm = rf_hbp_lgbm.predict(x_test_hbp_lgbm)\n",
    "\n",
    "    ### 3-2. LGBM\n",
    "\n",
    "    data_ab_lgbm = data.copy()\n",
    "\n",
    "    data_ab_lgbm=data[['가입자일련번호','성별코드',\n",
    "                  '연령대코드(5세단위)', '허리둘레', '수축기혈압',\n",
    "                  '이완기혈압','지질혈증 의사 판정','합병증_종류','BMI','구강검진 수검여부']]\n",
    "\n",
    "    data_ab_lgbm['지질혈증 의사 판정'].value_counts()\n",
    "\n",
    "\n",
    "    x_data_ab_lgbm = data_ab_lgbm.drop(['합병증_종류',], axis = 1)\n",
    "    y_data_ab_lgbm = data_ab_lgbm['합병증_종류']\n",
    "\n",
    "    x_train_ab_lgbm, x_test_ab_lgbm, y_train_ab_lgbm, y_test_ab_lgbm = train_test_split(x_data_ab_lgbm, y_data_ab_lgbm,\n",
    "                                                        test_size = 0.3, random_state=42)\n",
    "\n",
    "    x_train_ab_lgbm = x_train_ab_lgbm.drop('가입자일련번호', axis = 1)\n",
    "    x_test_ab_lgbm = x_test_ab_lgbm.drop('가입자일련번호', axis = 1)\n",
    "\n",
    "    rf_ab_lgbm.fit(x_train_ab_lgbm, y_train_ab_lgbm)\n",
    "\n",
    "    y_pred_ab_lgbm = rf_ab_lgbm.predict(x_test_ab_lgbm)\n",
    "def run_model(patient_type, test_data):\n",
    "  if patient_type == '당뇨병':\n",
    "      return disease_result(rf.predict(test_data))\n",
    "  elif patient_type == '고혈압':\n",
    "      return disease_result(rf_hbp_lgbm.predict(test_data))\n",
    "  elif patient_type == '이상지질혈증':\n",
    "      return disease_result(rf_ab_lgbm.predict(test_data))\n",
    "\n",
    "\n",
    "def disease_result(data):\n",
    "    if data == 0 :\n",
    "        return '합병증의 의심 여부가 없습니다.'\n",
    "    elif data == 1:\n",
    "        return '합병증(당뇨병 + 고혈압)이 예상됩니다.'\n",
    "    elif data == 2:\n",
    "        return '합병증(이상지질혈증 + 고혈압)이 예상됩니다.'\n",
    "    elif data == 3:\n",
    "        return '합병증(당뇨병 + 고혈압)이 예상됩니다.'\n",
    "    elif data == 4:\n",
    "        return '합병증(당뇨병 + 고혈압 + 이상지질혈증)이 예상됩니다.'\n"
   ]
  },
  {
   "cell_type": "code",
   "execution_count": 39,
   "metadata": {},
   "outputs": [
    {
     "name": "stderr",
     "output_type": "stream",
     "text": [
      "/home/pirl/anaconda3/envs/py36/lib/python3.6/site-packages/sklearn/ensemble/forest.py:246: FutureWarning: The default value of n_estimators will change from 10 in version 0.20 to 100 in 0.22.\n",
      "  \"10 in version 0.20 to 100 in 0.22.\", FutureWarning)\n",
      "/home/pirl/anaconda3/envs/py36/lib/python3.6/site-packages/sklearn/ensemble/forest.py:246: FutureWarning: The default value of n_estimators will change from 10 in version 0.20 to 100 in 0.22.\n",
      "  \"10 in version 0.20 to 100 in 0.22.\", FutureWarning)\n"
     ]
    }
   ],
   "source": [
    "train()"
   ]
  },
  {
   "cell_type": "code",
   "execution_count": 6,
   "metadata": {},
   "outputs": [],
   "source": [
    "test = pd.read_csv('./dataset_to_web.csv')"
   ]
  },
  {
   "cell_type": "code",
   "execution_count": 17,
   "metadata": {},
   "outputs": [],
   "source": [
    "test_hp = test.drop(['당뇨병 의사 판정', '지질혈증 의사 판정','가입자일련번호','합병증_종류'], axis = 1)"
   ]
  },
  {
   "cell_type": "code",
   "execution_count": 18,
   "metadata": {},
   "outputs": [],
   "source": [
    "import numpy as np"
   ]
  },
  {
   "cell_type": "code",
   "execution_count": 40,
   "metadata": {},
   "outputs": [
    {
     "data": {
      "text/html": [
       "<div>\n",
       "<style scoped>\n",
       "    .dataframe tbody tr th:only-of-type {\n",
       "        vertical-align: middle;\n",
       "    }\n",
       "\n",
       "    .dataframe tbody tr th {\n",
       "        vertical-align: top;\n",
       "    }\n",
       "\n",
       "    .dataframe thead th {\n",
       "        text-align: right;\n",
       "    }\n",
       "</style>\n",
       "<table border=\"1\" class=\"dataframe\">\n",
       "  <thead>\n",
       "    <tr style=\"text-align: right;\">\n",
       "      <th></th>\n",
       "      <th>성별코드</th>\n",
       "      <th>연령대코드(5세단위)</th>\n",
       "      <th>허리둘레</th>\n",
       "      <th>수축기혈압</th>\n",
       "      <th>이완기혈압</th>\n",
       "      <th>고혈압 의사 판정</th>\n",
       "      <th>BMI</th>\n",
       "      <th>구강검진 수검여부</th>\n",
       "    </tr>\n",
       "  </thead>\n",
       "  <tbody>\n",
       "    <tr>\n",
       "      <th>0</th>\n",
       "      <td>2</td>\n",
       "      <td>17</td>\n",
       "      <td>51.0</td>\n",
       "      <td>110.0</td>\n",
       "      <td>65.0</td>\n",
       "      <td>0.0</td>\n",
       "      <td>60.000000</td>\n",
       "      <td>0</td>\n",
       "    </tr>\n",
       "    <tr>\n",
       "      <th>1</th>\n",
       "      <td>2</td>\n",
       "      <td>18</td>\n",
       "      <td>53.0</td>\n",
       "      <td>120.0</td>\n",
       "      <td>70.0</td>\n",
       "      <td>0.0</td>\n",
       "      <td>15.306122</td>\n",
       "      <td>0</td>\n",
       "    </tr>\n",
       "  </tbody>\n",
       "</table>\n",
       "</div>"
      ],
      "text/plain": [
       "   성별코드  연령대코드(5세단위)  허리둘레  수축기혈압  이완기혈압  고혈압 의사 판정        BMI  구강검진 수검여부\n",
       "0     2           17  51.0  110.0   65.0        0.0  60.000000          0\n",
       "1     2           18  53.0  120.0   70.0        0.0  15.306122          0"
      ]
     },
     "execution_count": 40,
     "metadata": {},
     "output_type": "execute_result"
    }
   ],
   "source": [
    "test_hp[0:2]"
   ]
  },
  {
   "cell_type": "code",
   "execution_count": 41,
   "metadata": {},
   "outputs": [],
   "source": [
    "test1 = np.array(test_hp[0:1])"
   ]
  },
  {
   "cell_type": "code",
   "execution_count": 42,
   "metadata": {},
   "outputs": [
    {
     "data": {
      "text/plain": [
       "'합병증의 의심 여부가 없습니다.'"
      ]
     },
     "execution_count": 42,
     "metadata": {},
     "output_type": "execute_result"
    }
   ],
   "source": [
    "run_model('고혈압', test1)"
   ]
  },
  {
   "cell_type": "code",
   "execution_count": 48,
   "metadata": {},
   "outputs": [
    {
     "name": "stdout",
     "output_type": "stream",
     "text": [
      "합병증의 의심 여부가 없습니다.\n",
      "합병증의 의심 여부가 없습니다.\n",
      "합병증의 의심 여부가 없습니다.\n",
      "합병증의 의심 여부가 없습니다.\n",
      "합병증의 의심 여부가 없습니다.\n",
      "합병증의 의심 여부가 없습니다.\n",
      "합병증의 의심 여부가 없습니다.\n",
      "합병증의 의심 여부가 없습니다.\n",
      "합병증의 의심 여부가 없습니다.\n",
      "합병증의 의심 여부가 없습니다.\n",
      "합병증의 의심 여부가 없습니다.\n",
      "합병증의 의심 여부가 없습니다.\n",
      "합병증의 의심 여부가 없습니다.\n",
      "합병증의 의심 여부가 없습니다.\n",
      "합병증의 의심 여부가 없습니다.\n",
      "합병증의 의심 여부가 없습니다.\n",
      "합병증의 의심 여부가 없습니다.\n",
      "합병증의 의심 여부가 없습니다.\n",
      "합병증의 의심 여부가 없습니다.\n",
      "합병증의 의심 여부가 없습니다.\n",
      "합병증의 의심 여부가 없습니다.\n",
      "합병증의 의심 여부가 없습니다.\n",
      "합병증의 의심 여부가 없습니다.\n",
      "합병증의 의심 여부가 없습니다.\n",
      "합병증의 의심 여부가 없습니다.\n",
      "합병증의 의심 여부가 없습니다.\n",
      "합병증의 의심 여부가 없습니다.\n",
      "합병증의 의심 여부가 없습니다.\n",
      "합병증의 의심 여부가 없습니다.\n",
      "합병증의 의심 여부가 없습니다.\n",
      "합병증의 의심 여부가 없습니다.\n",
      "합병증의 의심 여부가 없습니다.\n",
      "합병증의 의심 여부가 없습니다.\n",
      "합병증의 의심 여부가 없습니다.\n",
      "합병증의 의심 여부가 없습니다.\n",
      "합병증의 의심 여부가 없습니다.\n",
      "합병증의 의심 여부가 없습니다.\n",
      "합병증의 의심 여부가 없습니다.\n",
      "합병증의 의심 여부가 없습니다.\n",
      "합병증의 의심 여부가 없습니다.\n",
      "합병증의 의심 여부가 없습니다.\n",
      "합병증의 의심 여부가 없습니다.\n",
      "합병증의 의심 여부가 없습니다.\n",
      "합병증의 의심 여부가 없습니다.\n",
      "합병증의 의심 여부가 없습니다.\n",
      "합병증의 의심 여부가 없습니다.\n",
      "합병증의 의심 여부가 없습니다.\n",
      "합병증의 의심 여부가 없습니다.\n",
      "합병증의 의심 여부가 없습니다.\n",
      "합병증의 의심 여부가 없습니다.\n",
      "합병증의 의심 여부가 없습니다.\n",
      "합병증의 의심 여부가 없습니다.\n",
      "합병증의 의심 여부가 없습니다.\n",
      "합병증의 의심 여부가 없습니다.\n",
      "합병증의 의심 여부가 없습니다.\n",
      "합병증의 의심 여부가 없습니다.\n",
      "합병증의 의심 여부가 없습니다.\n",
      "합병증의 의심 여부가 없습니다.\n",
      "합병증의 의심 여부가 없습니다.\n",
      "합병증의 의심 여부가 없습니다.\n",
      "합병증의 의심 여부가 없습니다.\n",
      "합병증의 의심 여부가 없습니다.\n",
      "합병증의 의심 여부가 없습니다.\n",
      "합병증의 의심 여부가 없습니다.\n",
      "합병증의 의심 여부가 없습니다.\n",
      "합병증의 의심 여부가 없습니다.\n",
      "합병증의 의심 여부가 없습니다.\n",
      "합병증의 의심 여부가 없습니다.\n",
      "합병증의 의심 여부가 없습니다.\n",
      "합병증의 의심 여부가 없습니다.\n",
      "합병증의 의심 여부가 없습니다.\n",
      "합병증의 의심 여부가 없습니다.\n",
      "합병증의 의심 여부가 없습니다.\n",
      "합병증의 의심 여부가 없습니다.\n",
      "합병증의 의심 여부가 없습니다.\n",
      "합병증의 의심 여부가 없습니다.\n",
      "합병증의 의심 여부가 없습니다.\n",
      "합병증의 의심 여부가 없습니다.\n",
      "합병증의 의심 여부가 없습니다.\n",
      "합병증의 의심 여부가 없습니다.\n",
      "합병증의 의심 여부가 없습니다.\n",
      "합병증의 의심 여부가 없습니다.\n",
      "합병증의 의심 여부가 없습니다.\n",
      "합병증의 의심 여부가 없습니다.\n",
      "합병증의 의심 여부가 없습니다.\n",
      "합병증의 의심 여부가 없습니다.\n",
      "합병증의 의심 여부가 없습니다.\n",
      "합병증의 의심 여부가 없습니다.\n",
      "합병증의 의심 여부가 없습니다.\n",
      "합병증의 의심 여부가 없습니다.\n",
      "합병증의 의심 여부가 없습니다.\n",
      "합병증의 의심 여부가 없습니다.\n",
      "합병증의 의심 여부가 없습니다.\n",
      "합병증의 의심 여부가 없습니다.\n",
      "합병증의 의심 여부가 없습니다.\n",
      "합병증의 의심 여부가 없습니다.\n",
      "합병증의 의심 여부가 없습니다.\n",
      "합병증의 의심 여부가 없습니다.\n",
      "합병증의 의심 여부가 없습니다.\n",
      "합병증의 의심 여부가 없습니다.\n",
      "합병증의 의심 여부가 없습니다.\n",
      "합병증의 의심 여부가 없습니다.\n",
      "합병증의 의심 여부가 없습니다.\n",
      "합병증의 의심 여부가 없습니다.\n",
      "합병증의 의심 여부가 없습니다.\n",
      "합병증의 의심 여부가 없습니다.\n",
      "합병증의 의심 여부가 없습니다.\n",
      "합병증의 의심 여부가 없습니다.\n",
      "합병증의 의심 여부가 없습니다.\n",
      "합병증의 의심 여부가 없습니다.\n",
      "합병증의 의심 여부가 없습니다.\n",
      "합병증의 의심 여부가 없습니다.\n",
      "합병증의 의심 여부가 없습니다.\n",
      "합병증의 의심 여부가 없습니다.\n",
      "합병증의 의심 여부가 없습니다.\n",
      "합병증의 의심 여부가 없습니다.\n",
      "합병증의 의심 여부가 없습니다.\n",
      "합병증의 의심 여부가 없습니다.\n",
      "합병증의 의심 여부가 없습니다.\n",
      "합병증의 의심 여부가 없습니다.\n"
     ]
    }
   ],
   "source": [
    "for i in range(1, 121):\n",
    "    a= run_model('고혈압', np.array(test_hp[i-1:i]))\n",
    "    print(a)"
   ]
  },
  {
   "cell_type": "code",
   "execution_count": null,
   "metadata": {},
   "outputs": [],
   "source": []
  }
 ],
 "metadata": {
  "kernelspec": {
   "display_name": "py36",
   "language": "python",
   "name": "py36"
  },
  "language_info": {
   "codemirror_mode": {
    "name": "ipython",
    "version": 3
   },
   "file_extension": ".py",
   "mimetype": "text/x-python",
   "name": "python",
   "nbconvert_exporter": "python",
   "pygments_lexer": "ipython3",
   "version": "3.6.8"
  }
 },
 "nbformat": 4,
 "nbformat_minor": 2
}
