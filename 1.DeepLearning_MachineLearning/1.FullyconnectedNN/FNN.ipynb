{
 "cells": [
  {
   "cell_type": "markdown",
   "metadata": {},
   "source": [
    "# MNIST"
   ]
  },
  {
   "cell_type": "markdown",
   "metadata": {},
   "source": [
    "### MNIST 데이터 받기"
   ]
  },
  {
   "cell_type": "code",
   "execution_count": 1,
   "metadata": {},
   "outputs": [
    {
     "name": "stdout",
     "output_type": "stream",
     "text": [
      "Extracting data/train-images-idx3-ubyte.gz\n",
      "Extracting data/train-labels-idx1-ubyte.gz\n",
      "Extracting data/t10k-images-idx3-ubyte.gz\n",
      "Extracting data/t10k-labels-idx1-ubyte.gz\n"
     ]
    }
   ],
   "source": [
    "import os\n",
    "import sys\n",
    "import numpy as np\n",
    "%matplotlib inline\n",
    "import matplotlib.pyplot as plt\n",
    "import tensorflow as tf\n",
    "from tensorflow.examples.tutorials.mnist import input_data\n",
    "\n",
    "mnist = input_data.read_data_sets(\"data/\", one_hot=True)\n",
    "train_data = mnist.train.images\n",
    "train_label = mnist.train.labels\n",
    "test_data = mnist.test.images\n",
    "test_label = mnist.test.labels"
   ]
  },
  {
   "cell_type": "markdown",
   "metadata": {},
   "source": [
    "### MNIST 데이터 확인하기"
   ]
  },
  {
   "cell_type": "code",
   "execution_count": 2,
   "metadata": {},
   "outputs": [
    {
     "name": "stdout",
     "output_type": "stream",
     "text": [
      "(55000, 784)\n",
      "(55000, 10)\n",
      "(10000, 784)\n",
      "(10000, 10)\n"
     ]
    }
   ],
   "source": [
    "# size of MNIST\n",
    "print(train_data.shape)\n",
    "print(train_label.shape)\n",
    "print(test_data.shape)\n",
    "print(test_label.shape)"
   ]
  },
  {
   "cell_type": "markdown",
   "metadata": {},
   "source": [
    "### Data Pre-processing (데이터 전처리)"
   ]
  },
  {
   "cell_type": "markdown",
   "metadata": {},
   "source": [
    "# Implementation (1)\n",
    "\n",
    "\n",
    "## Loss function (손실 함수) : Cross Entropy\n",
    "\n",
    "# <center> \\\\( L(y_i, f(x_i; W)) = -\\frac{1}{n}\\sum_{i=1}^{n}\\sum_{k=1} y_{i,j} log(f(x_i)_k)\\\\)</center>\n",
    "\n",
    "\n",
    "#### get_cross_entropy_loss 함수의 내용을 완성하세요.\n",
    "#### (Hint : (1) tf.reduce_mean(), tf.reduce_sum(), tf.log() (2) Tensor dimension에 유의 (3) log 함수 사용 시 epsilon 사용하세요.)"
   ]
  },
  {
   "cell_type": "code",
   "execution_count": 3,
   "metadata": {},
   "outputs": [],
   "source": [
    "def get_cross_entropy_loss(y_true, y_hat, epsilon=1e-8):\n",
    "    \"\"\"\n",
    "    compute cross entropy\n",
    "\n",
    "    Args:\n",
    "        y_true: true label\n",
    "        y_hat: predicted label\n",
    "        epsilon: small value to prevent NaN in log\n",
    "\n",
    "    Returns:\n",
    "        cross entropy loss\n",
    "    \"\"\"\n",
    "    with tf.name_scope('get'):\n",
    "        loss = -tf.reduce_mean(tf.reduce_sum(y_true * tf.log(y_hat), axis = 1))\n",
    "#         loss = y_ture * tf.log(y_hat)\n",
    "        return loss\n",
    "# y_true = tf.placeholder(tf.float32, [None, 10]3"
   ]
  },
  {
   "cell_type": "code",
   "execution_count": 4,
   "metadata": {},
   "outputs": [],
   "source": [
    "def get_accuracy(y_true, y_hat):\n",
    "    \"\"\"\n",
    "    compute cross entropy\n",
    "\n",
    "    Args:\n",
    "        y_true: true label\n",
    "        y_hat: predicted label\n",
    "        epsilon: small value to prevent NaN in log\n",
    "\n",
    "    Returns:\n",
    "        cross entropy loss\n",
    "    \"\"\"\n",
    "    with tf.name_scope('cross_entropy'):\n",
    "        # Compare the highest indices between the predicted label and the true label\n",
    "        correct_prediction = tf.equal(tf.argmax(y_hat, 1), tf.argmax(y_true, 1), name='correct_prediction')\n",
    "        # Compute accuracy\n",
    "        accuracy = tf.reduce_mean(tf.cast(correct_prediction, tf.float32), name='accuracy')\n",
    "        return accuracy"
   ]
  },
  {
   "cell_type": "markdown",
   "metadata": {},
   "source": [
    "## Hyper-parameter (하이퍼 파라미터)"
   ]
  },
  {
   "cell_type": "code",
   "execution_count": 5,
   "metadata": {},
   "outputs": [],
   "source": [
    "# Set hypyerparameters\n",
    "learning_rate = 0.01\n",
    "max_iter = 2000\n",
    "batch_size = 100"
   ]
  },
  {
   "cell_type": "markdown",
   "metadata": {},
   "source": [
    "# Implementation (2)\n",
    "## Linear Classifier (선형 분류기)\n",
    "\n",
    "## <center> \\\\( f(x) = W^Tx+b \\\\)</center>\n",
    "\n",
    "### linear function을 완성하세요.\n",
    "### (Hint : (1) weight, bias 선언 (2) tf.get_variable()의 initializer  (3) tf.matmul())"
   ]
  },
  {
   "cell_type": "code",
   "execution_count": 6,
   "metadata": {},
   "outputs": [],
   "source": [
    "def fc(name, out_dim, inputs):\n",
    "    \"\"\"\n",
    "    Args :\n",
    "        Inputs : Input tensor\n",
    "        out_dim : output dimension\n",
    "        \n",
    "    Returns:\n",
    "        inputs * weight + bias\n",
    "    \"\"\"\n",
    "    with tf.variable_scope(name):\n",
    "        shp = inputs.get_shape().as_list()[1]\n",
    "        initial = tf.truncated_normal([shp,out_dim], stddev=.01)\n",
    "        weights = tf.get_variable('w', initializer=initial)\n",
    "        y_hat = tf.matmul(inputs, weights) #벡터가 가로로 되어있다고 가정해서 x, w순서로 곱한다.\n",
    "        return y_hat\n"
   ]
  },
  {
   "cell_type": "code",
   "execution_count": 7,
   "metadata": {},
   "outputs": [
    {
     "data": {
      "text/plain": [
       "784"
      ]
     },
     "execution_count": 7,
     "metadata": {},
     "output_type": "execute_result"
    }
   ],
   "source": [
    "a = tf.placeholder(tf.float32, [None, 784])\n",
    "a.get_shape().as_list()[1]"
   ]
  },
  {
   "cell_type": "markdown",
   "metadata": {},
   "source": [
    "# Implementation (3)\n",
    "\n",
    "## Model Setting\n",
    "\n",
    "### 1. Training data 및 Test data의 각각의 image를 한 vector로 만들어서 train_data, test_data에 각각 저장하세요.\n",
    "#### Hint) 데이터 차원.\n",
    "### 2. Dataset로부터 받은 데이터(Image, label)를 담을 변수를 각각 x 및 y_true에 선언하세요.\n",
    "#### Hint) tf.placeholder\n",
    "### 3. Implementation (2)에서 구현한 linear classifier 함수값과 softmax 함수를 통한 prediction 값을 y_hat에 저장하세요.\n",
    "#### Hint) tf.nn.softmax\n",
    "### 4. 3으로부터 얻은 결과를 통해 Implementation (1)에서 구현한 loss function을 통해 얻은 loss를 cross_entropy에 저장하세요."
   ]
  },
  {
   "cell_type": "code",
   "execution_count": 8,
   "metadata": {
    "scrolled": false
   },
   "outputs": [
    {
     "name": "stdout",
     "output_type": "stream",
     "text": [
      "10th iteration, loss: 0.8966, test accuracy: 0.8126\n",
      "20th iteration, loss: 0.5409, test accuracy: 0.8294\n",
      "30th iteration, loss: 0.7574, test accuracy: 0.8393\n",
      "40th iteration, loss: 0.7660, test accuracy: 0.8578\n",
      "50th iteration, loss: 0.5179, test accuracy: 0.8206\n",
      "60th iteration, loss: 0.5715, test accuracy: 0.8372\n",
      "70th iteration, loss: 0.5267, test accuracy: 0.8487\n",
      "80th iteration, loss: 0.5346, test accuracy: 0.8496\n",
      "90th iteration, loss: 0.5877, test accuracy: 0.8537\n",
      "100th iteration, loss: 0.6032, test accuracy: 0.8611\n",
      "110th iteration, loss: 0.5863, test accuracy: 0.8482\n",
      "120th iteration, loss: 0.4588, test accuracy: 0.8254\n",
      "130th iteration, loss: 0.5973, test accuracy: 0.8433\n",
      "140th iteration, loss: 0.6023, test accuracy: 0.8728\n",
      "150th iteration, loss: 0.3725, test accuracy: 0.8707\n",
      "160th iteration, loss: 0.3787, test accuracy: 0.8471\n",
      "170th iteration, loss: 0.4895, test accuracy: 0.8853\n",
      "180th iteration, loss: 0.6697, test accuracy: 0.8583\n",
      "190th iteration, loss: 0.4426, test accuracy: 0.8839\n",
      "200th iteration, loss: 0.5415, test accuracy: 0.8700\n",
      "210th iteration, loss: 0.6416, test accuracy: 0.8716\n",
      "220th iteration, loss: 0.5280, test accuracy: 0.8602\n",
      "230th iteration, loss: 0.5050, test accuracy: 0.8785\n",
      "240th iteration, loss: 0.7807, test accuracy: 0.8469\n",
      "250th iteration, loss: 0.5106, test accuracy: 0.8702\n",
      "260th iteration, loss: 0.5321, test accuracy: 0.8703\n",
      "270th iteration, loss: 1.0287, test accuracy: 0.8487\n",
      "280th iteration, loss: 0.3741, test accuracy: 0.8783\n",
      "290th iteration, loss: 0.7736, test accuracy: 0.8653\n",
      "300th iteration, loss: 0.5726, test accuracy: 0.8668\n",
      "310th iteration, loss: 0.4294, test accuracy: 0.8536\n",
      "320th iteration, loss: 0.8230, test accuracy: 0.8879\n",
      "330th iteration, loss: 0.7824, test accuracy: 0.8472\n",
      "340th iteration, loss: 0.6349, test accuracy: 0.8439\n",
      "350th iteration, loss: 0.2159, test accuracy: 0.8806\n",
      "360th iteration, loss: 0.5492, test accuracy: 0.8500\n",
      "370th iteration, loss: 1.0535, test accuracy: 0.8789\n",
      "380th iteration, loss: 0.4773, test accuracy: 0.8571\n",
      "390th iteration, loss: 0.4017, test accuracy: 0.8460\n",
      "400th iteration, loss: 0.5793, test accuracy: 0.8495\n",
      "410th iteration, loss: 0.2832, test accuracy: 0.8879\n",
      "420th iteration, loss: 0.2877, test accuracy: 0.8839\n",
      "430th iteration, loss: 0.4709, test accuracy: 0.8845\n",
      "440th iteration, loss: 0.6672, test accuracy: 0.8760\n",
      "450th iteration, loss: 0.4655, test accuracy: 0.8911\n",
      "460th iteration, loss: 0.4114, test accuracy: 0.8942\n",
      "470th iteration, loss: 0.4369, test accuracy: 0.8701\n",
      "480th iteration, loss: 0.6042, test accuracy: 0.8644\n",
      "490th iteration, loss: 0.3654, test accuracy: 0.8745\n",
      "500th iteration, loss: 0.7492, test accuracy: 0.8833\n",
      "510th iteration, loss: 0.4250, test accuracy: 0.8830\n",
      "520th iteration, loss: 0.6454, test accuracy: 0.8821\n",
      "530th iteration, loss: 0.5495, test accuracy: 0.8981\n",
      "540th iteration, loss: 0.6227, test accuracy: 0.8811\n",
      "550th iteration, loss: 0.4971, test accuracy: 0.8723\n",
      "560th iteration, loss: 0.8388, test accuracy: 0.8681\n",
      "570th iteration, loss: 0.5957, test accuracy: 0.8894\n",
      "580th iteration, loss: 0.4265, test accuracy: 0.8814\n",
      "590th iteration, loss: 0.3465, test accuracy: 0.8959\n",
      "600th iteration, loss: 0.4357, test accuracy: 0.8704\n",
      "610th iteration, loss: 0.4860, test accuracy: 0.8867\n",
      "620th iteration, loss: 0.7035, test accuracy: 0.8708\n",
      "630th iteration, loss: 0.6092, test accuracy: 0.8767\n",
      "640th iteration, loss: 0.3281, test accuracy: 0.8599\n",
      "650th iteration, loss: 0.3900, test accuracy: 0.9024\n",
      "660th iteration, loss: 0.4832, test accuracy: 0.8776\n",
      "670th iteration, loss: 0.3077, test accuracy: 0.8806\n",
      "680th iteration, loss: 0.6623, test accuracy: 0.8876\n",
      "690th iteration, loss: 0.5663, test accuracy: 0.8957\n",
      "700th iteration, loss: 0.2639, test accuracy: 0.8900\n",
      "710th iteration, loss: 0.5754, test accuracy: 0.8891\n",
      "720th iteration, loss: 0.3519, test accuracy: 0.8715\n",
      "730th iteration, loss: 0.4193, test accuracy: 0.8944\n",
      "740th iteration, loss: 0.2690, test accuracy: 0.8829\n",
      "750th iteration, loss: 0.5171, test accuracy: 0.8709\n",
      "760th iteration, loss: 0.3363, test accuracy: 0.8903\n",
      "770th iteration, loss: 0.3568, test accuracy: 0.8991\n",
      "780th iteration, loss: 0.3720, test accuracy: 0.8922\n",
      "790th iteration, loss: 0.3435, test accuracy: 0.8874\n",
      "800th iteration, loss: 0.2034, test accuracy: 0.8905\n",
      "810th iteration, loss: 0.3461, test accuracy: 0.8784\n",
      "820th iteration, loss: 0.4337, test accuracy: 0.8880\n",
      "830th iteration, loss: 0.8089, test accuracy: 0.8688\n",
      "840th iteration, loss: 0.5538, test accuracy: 0.8714\n",
      "850th iteration, loss: 1.2298, test accuracy: 0.8765\n",
      "860th iteration, loss: 0.7336, test accuracy: 0.8962\n",
      "870th iteration, loss: 0.4628, test accuracy: 0.8789\n",
      "880th iteration, loss: 0.2477, test accuracy: 0.8725\n",
      "890th iteration, loss: nan, test accuracy: 0.0980\n",
      "900th iteration, loss: nan, test accuracy: 0.0980\n",
      "910th iteration, loss: nan, test accuracy: 0.0980\n",
      "920th iteration, loss: nan, test accuracy: 0.0980\n",
      "930th iteration, loss: nan, test accuracy: 0.0980\n",
      "940th iteration, loss: nan, test accuracy: 0.0980\n",
      "950th iteration, loss: nan, test accuracy: 0.0980\n",
      "960th iteration, loss: nan, test accuracy: 0.0980\n",
      "970th iteration, loss: nan, test accuracy: 0.0980\n",
      "980th iteration, loss: nan, test accuracy: 0.0980\n",
      "990th iteration, loss: nan, test accuracy: 0.0980\n",
      "1000th iteration, loss: nan, test accuracy: 0.0980\n",
      "1010th iteration, loss: nan, test accuracy: 0.0980\n",
      "1020th iteration, loss: nan, test accuracy: 0.0980\n",
      "1030th iteration, loss: nan, test accuracy: 0.0980\n",
      "1040th iteration, loss: nan, test accuracy: 0.0980\n",
      "1050th iteration, loss: nan, test accuracy: 0.0980\n",
      "1060th iteration, loss: nan, test accuracy: 0.0980\n",
      "1070th iteration, loss: nan, test accuracy: 0.0980\n",
      "1080th iteration, loss: nan, test accuracy: 0.0980\n",
      "1090th iteration, loss: nan, test accuracy: 0.0980\n",
      "1100th iteration, loss: nan, test accuracy: 0.0980\n",
      "1110th iteration, loss: nan, test accuracy: 0.0980\n",
      "1120th iteration, loss: nan, test accuracy: 0.0980\n",
      "1130th iteration, loss: nan, test accuracy: 0.0980\n",
      "1140th iteration, loss: nan, test accuracy: 0.0980\n",
      "1150th iteration, loss: nan, test accuracy: 0.0980\n",
      "1160th iteration, loss: nan, test accuracy: 0.0980\n",
      "1170th iteration, loss: nan, test accuracy: 0.0980\n",
      "1180th iteration, loss: nan, test accuracy: 0.0980\n",
      "1190th iteration, loss: nan, test accuracy: 0.0980\n",
      "1200th iteration, loss: nan, test accuracy: 0.0980\n",
      "1210th iteration, loss: nan, test accuracy: 0.0980\n",
      "1220th iteration, loss: nan, test accuracy: 0.0980\n",
      "1230th iteration, loss: nan, test accuracy: 0.0980\n",
      "1240th iteration, loss: nan, test accuracy: 0.0980\n",
      "1250th iteration, loss: nan, test accuracy: 0.0980\n",
      "1260th iteration, loss: nan, test accuracy: 0.0980\n",
      "1270th iteration, loss: nan, test accuracy: 0.0980\n",
      "1280th iteration, loss: nan, test accuracy: 0.0980\n",
      "1290th iteration, loss: nan, test accuracy: 0.0980\n",
      "1300th iteration, loss: nan, test accuracy: 0.0980\n",
      "1310th iteration, loss: nan, test accuracy: 0.0980\n",
      "1320th iteration, loss: nan, test accuracy: 0.0980\n",
      "1330th iteration, loss: nan, test accuracy: 0.0980\n",
      "1340th iteration, loss: nan, test accuracy: 0.0980\n",
      "1350th iteration, loss: nan, test accuracy: 0.0980\n",
      "1360th iteration, loss: nan, test accuracy: 0.0980\n",
      "1370th iteration, loss: nan, test accuracy: 0.0980\n",
      "1380th iteration, loss: nan, test accuracy: 0.0980\n",
      "1390th iteration, loss: nan, test accuracy: 0.0980\n",
      "1400th iteration, loss: nan, test accuracy: 0.0980\n",
      "1410th iteration, loss: nan, test accuracy: 0.0980\n",
      "1420th iteration, loss: nan, test accuracy: 0.0980\n",
      "1430th iteration, loss: nan, test accuracy: 0.0980\n",
      "1440th iteration, loss: nan, test accuracy: 0.0980\n",
      "1450th iteration, loss: nan, test accuracy: 0.0980\n",
      "1460th iteration, loss: nan, test accuracy: 0.0980\n",
      "1470th iteration, loss: nan, test accuracy: 0.0980\n",
      "1480th iteration, loss: nan, test accuracy: 0.0980\n",
      "1490th iteration, loss: nan, test accuracy: 0.0980\n",
      "1500th iteration, loss: nan, test accuracy: 0.0980\n",
      "1510th iteration, loss: nan, test accuracy: 0.0980\n",
      "1520th iteration, loss: nan, test accuracy: 0.0980\n",
      "1530th iteration, loss: nan, test accuracy: 0.0980\n",
      "1540th iteration, loss: nan, test accuracy: 0.0980\n",
      "1550th iteration, loss: nan, test accuracy: 0.0980\n",
      "1560th iteration, loss: nan, test accuracy: 0.0980\n",
      "1570th iteration, loss: nan, test accuracy: 0.0980\n",
      "1580th iteration, loss: nan, test accuracy: 0.0980\n"
     ]
    },
    {
     "name": "stdout",
     "output_type": "stream",
     "text": [
      "1590th iteration, loss: nan, test accuracy: 0.0980\n",
      "1600th iteration, loss: nan, test accuracy: 0.0980\n",
      "1610th iteration, loss: nan, test accuracy: 0.0980\n",
      "1620th iteration, loss: nan, test accuracy: 0.0980\n",
      "1630th iteration, loss: nan, test accuracy: 0.0980\n",
      "1640th iteration, loss: nan, test accuracy: 0.0980\n",
      "1650th iteration, loss: nan, test accuracy: 0.0980\n",
      "1660th iteration, loss: nan, test accuracy: 0.0980\n",
      "1670th iteration, loss: nan, test accuracy: 0.0980\n",
      "1680th iteration, loss: nan, test accuracy: 0.0980\n",
      "1690th iteration, loss: nan, test accuracy: 0.0980\n",
      "1700th iteration, loss: nan, test accuracy: 0.0980\n",
      "1710th iteration, loss: nan, test accuracy: 0.0980\n",
      "1720th iteration, loss: nan, test accuracy: 0.0980\n",
      "1730th iteration, loss: nan, test accuracy: 0.0980\n",
      "1740th iteration, loss: nan, test accuracy: 0.0980\n",
      "1750th iteration, loss: nan, test accuracy: 0.0980\n",
      "1760th iteration, loss: nan, test accuracy: 0.0980\n",
      "1770th iteration, loss: nan, test accuracy: 0.0980\n",
      "1780th iteration, loss: nan, test accuracy: 0.0980\n",
      "1790th iteration, loss: nan, test accuracy: 0.0980\n",
      "1800th iteration, loss: nan, test accuracy: 0.0980\n",
      "1810th iteration, loss: nan, test accuracy: 0.0980\n",
      "1820th iteration, loss: nan, test accuracy: 0.0980\n",
      "1830th iteration, loss: nan, test accuracy: 0.0980\n",
      "1840th iteration, loss: nan, test accuracy: 0.0980\n",
      "1850th iteration, loss: nan, test accuracy: 0.0980\n",
      "1860th iteration, loss: nan, test accuracy: 0.0980\n",
      "1870th iteration, loss: nan, test accuracy: 0.0980\n",
      "1880th iteration, loss: nan, test accuracy: 0.0980\n",
      "1890th iteration, loss: nan, test accuracy: 0.0980\n",
      "1900th iteration, loss: nan, test accuracy: 0.0980\n",
      "1910th iteration, loss: nan, test accuracy: 0.0980\n",
      "1920th iteration, loss: nan, test accuracy: 0.0980\n",
      "1930th iteration, loss: nan, test accuracy: 0.0980\n",
      "1940th iteration, loss: nan, test accuracy: 0.0980\n",
      "1950th iteration, loss: nan, test accuracy: 0.0980\n",
      "1960th iteration, loss: nan, test accuracy: 0.0980\n",
      "1970th iteration, loss: nan, test accuracy: 0.0980\n",
      "1980th iteration, loss: nan, test accuracy: 0.0980\n",
      "1990th iteration, loss: nan, test accuracy: 0.0980\n",
      "2000th iteration, loss: nan, test accuracy: 0.0980\n"
     ]
    }
   ],
   "source": [
    "tf.reset_default_graph()\n",
    "# Flatten data\n",
    "###################################################################\n",
    "#                    Implementation 3-1                           #\n",
    "###################################################################\n",
    "\n",
    "\n",
    "###################################################################\n",
    "#                    Implementation 3-2                           #\n",
    "###################################################################\n",
    "x = tf.placeholder(tf.float32, [None, 784])\n",
    "y_true = tf.placeholder(tf.float32, [None, 10])\n",
    "\n",
    "###################################################################\n",
    "#                    Implementation 3-3                          #\n",
    "###################################################################\n",
    "h1 = fc('layer1', 512, x)\n",
    "y_logits = fc('layer2', 10, h1)\n",
    "y_hat = tf.nn.softmax(y_logits)\n",
    "\n",
    "\n",
    "###################################################################\n",
    "#                    Implementation 3-4                           #\n",
    "###################################################################\n",
    "cross_entropy = get_cross_entropy_loss(y_true, y_hat) #epsilon은 default\n",
    "\n",
    "# Calculate accuracy\n",
    "accuracy = get_accuracy(y_true, y_hat)\n",
    "# Make gradient descent op\n",
    "train_step = tf.train.AdamOptimizer(learning_rate).minimize(cross_entropy)\n",
    "\n",
    "# Make op to initialize declared variable\n",
    "init = tf.global_variables_initializer()\n",
    "\n",
    "with tf.Session() as sess:\n",
    "    # Initialize variables\n",
    "    sess.run(init)\n",
    "    \n",
    "    # Training\n",
    "    for step in range(max_iter):\n",
    "        # Get batch data and label\n",
    "        batch_x, batch_y = mnist.train.next_batch(batch_size)\n",
    "        # train the network and calculate cross entropy\n",
    "        _, loss = sess.run([train_step, cross_entropy], feed_dict={x: batch_x, y_true: batch_y})\n",
    "        # calcualte accuracy\n",
    "        acc = sess.run(accuracy, feed_dict={x: test_data, y_true: test_label})\n",
    "        # print loss (cross entropy) and accuracy at every 10th step\n",
    "        if (step + 1) % 10 == 0:\n",
    "            print(\"{}th iteration, loss: {:.4f}, test accuracy: {:.4f}\".format(step + 1, loss, acc))"
   ]
  },
  {
   "cell_type": "code",
   "execution_count": null,
   "metadata": {},
   "outputs": [],
   "source": []
  },
  {
   "cell_type": "code",
   "execution_count": null,
   "metadata": {},
   "outputs": [],
   "source": []
  },
  {
   "cell_type": "code",
   "execution_count": null,
   "metadata": {},
   "outputs": [],
   "source": []
  },
  {
   "cell_type": "code",
   "execution_count": null,
   "metadata": {},
   "outputs": [],
   "source": []
  }
 ],
 "metadata": {
  "kernelspec": {
   "display_name": "Python 3",
   "language": "python",
   "name": "python3"
  },
  "language_info": {
   "codemirror_mode": {
    "name": "ipython",
    "version": 3
   },
   "file_extension": ".py",
   "mimetype": "text/x-python",
   "name": "python",
   "nbconvert_exporter": "python",
   "pygments_lexer": "ipython3",
   "version": "3.6.8"
  }
 },
 "nbformat": 4,
 "nbformat_minor": 2
}
