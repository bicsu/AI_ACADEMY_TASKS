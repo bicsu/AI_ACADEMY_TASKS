{
 "cells": [
  {
   "cell_type": "code",
   "execution_count": 1,
   "metadata": {},
   "outputs": [
    {
     "name": "stderr",
     "output_type": "stream",
     "text": [
      "Using TensorFlow backend.\n"
     ]
    }
   ],
   "source": [
    "import numpy as np\n",
    "import tensorflow as tf\n",
    "import time\n",
    "import matplotlib.pyplot as plt\n",
    "import os\n",
    "from keras.datasets.cifar100 import load_data\n",
    "import tensorflow.contrib as tf_contrib\n"
   ]
  },
  {
   "cell_type": "code",
   "execution_count": 2,
   "metadata": {
    "scrolled": true
   },
   "outputs": [],
   "source": [
    "(x_train, y_train), (x_test, y_test)=tf.keras.datasets.cifar100.load_data(label_mode='fine')"
   ]
  },
  {
   "cell_type": "code",
   "execution_count": 3,
   "metadata": {},
   "outputs": [],
   "source": [
    "# Data Normalization\n",
    "def normalize(X_train, X_test):\n",
    "    mean = np.mean(X_train, axis=(0, 1, 2, 3))\n",
    "    std = np.std(X_train, axis=(0, 1, 2, 3))\n",
    "    X_train = (X_train - mean) / std\n",
    "    X_test = (X_test - mean) / std\n",
    "    return X_train, X_test\n",
    "x_train, x_test = normalize(x_train, x_test)\n",
    "\n",
    "# Data를 Shuffle해줌\n",
    "seed = 777\n",
    "np.random.seed(seed)\n",
    "np.random.shuffle(x_train)\n",
    "np.random.seed(seed)\n",
    "np.random.shuffle(y_train)"
   ]
  },
  {
   "cell_type": "code",
   "execution_count": 4,
   "metadata": {},
   "outputs": [],
   "source": [
    "# Convolutional Layer 함수\n",
    "def conv(x, channels, kernel=4, stride=2, padding='SAME', use_bias=True, scope='conv_0'):\n",
    "    with tf.variable_scope(scope):\n",
    "        x = tf.layers.conv2d(inputs=x, filters=channels,\n",
    "                             kernel_size=kernel, kernel_initializer=weight_init,\n",
    "                             strides=stride, use_bias=use_bias, padding=padding)\n",
    "    return x\n",
    "# ResNet block Layers 함수 구현\n",
    "def resblock(x_init, channels, is_training=True, use_bias=True, downsample=False, scope='resblock') :\n",
    "    with tf.variable_scope(scope) :\n",
    "        x = batch_norm(x_init, is_training, scope='batch_norm_0')\n",
    "        x = tf.nn.relu(x)\n",
    "        if downsample :\n",
    "            x = conv(x, channels, kernel=3, stride=2, use_bias=use_bias, scope='conv_0')\n",
    "            x_init = conv(x_init, channels, kernel=1, stride=2,\n",
    "                          use_bias=use_bias, scope='conv_init')\n",
    "        else :\n",
    "            x = conv(x, channels, kernel=3, stride=1,\n",
    "                     use_bias=use_bias, scope='conv_0')\n",
    "        x = batch_norm(x, is_training, scope='batch_norm_1')\n",
    "        x = tf.nn.leaky_relu(x)\n",
    "        x = conv(x, channels, kernel=3, stride=1, use_bias=use_bias, scope='conv_1')\n",
    "\n",
    "        return x + x_init\n",
    "\n",
    "    return x\n",
    "# Batch Normalization 함수 구현\n",
    "def batch_norm(x, is_training=True, scope='batch_norm'):\n",
    "    return tf_contrib.layers.batch_norm(x,\n",
    "                                        decay=0.9, epsilon=1e-05,\n",
    "                                        center=True, scale=True, updates_collections=None,\n",
    "                                        is_training=is_training, scope=scope)\n"
   ]
  },
  {
   "cell_type": "code",
   "execution_count": 5,
   "metadata": {
    "scrolled": false
   },
   "outputs": [],
   "source": [
    "# Hyper Parameters Settings\n",
    "learning_rate = 0.0015\n",
    "num_epochs = 2\n",
    "batch_size = 200\n",
    "num_display = 200\n",
    "weight_init = tf_contrib.layers.xavier_initializer_conv2d()"
   ]
  },
  {
   "cell_type": "code",
   "execution_count": 6,
   "metadata": {},
   "outputs": [],
   "source": [
    "# Model Networks 구현\n",
    "\n",
    "def get_model(X, by, is_training=True, reuse=False):\n",
    "    with tf.variable_scope(\"network\", reuse=reuse):\n",
    "        residual_list = [2, 2, 2, 3]\n",
    "#         residual_list = [3,4,6,3]\n",
    "        ch = 32 # paper is 64\n",
    "        x = conv(X, channels=ch, kernel=3, stride=1, scope='conv')\n",
    "\n",
    "        for i in range(residual_list[0]) :\n",
    "            x = resblock(x, channels=ch, is_training=is_training,\n",
    "                         downsample=False, scope='resblock0_' + str(i))\n",
    "\n",
    "        x = resblock(x, channels=ch*2, is_training=is_training,\n",
    "                     downsample=True, scope='resblock1_0')\n",
    "\n",
    "        for i in range(1, residual_list[1]) :\n",
    "            x = resblock(x, channels=ch*2, is_training=is_training,\n",
    "                         downsample=False, scope='resblock1_' + str(i))\n",
    "\n",
    "        x = resblock(x, channels=ch*4, is_training=is_training,\n",
    "                     downsample=True, scope='resblock2_0')\n",
    "\n",
    "        for i in range(1, residual_list[2]) :\n",
    "            x = resblock(x, channels=ch*4, is_training=is_training, downsample=False, scope='resblock2_' + str(i))\n",
    "\n",
    "        x = tf.layers.dropout(x, 0.7 ,training=training)\n",
    "        x = resblock(x, channels=ch*8, is_training=is_training, downsample=True, scope='resblock_3_0')\n",
    "\n",
    "        for i in range(1, residual_list[3]) :\n",
    "            x = resblock(x, channels=ch*8, is_training=is_training, downsample=False, scope='resblock_3_' + str(i))\n",
    "        x = batch_norm(x, is_training, scope='batch_norm')\n",
    "        x = tf.nn.relu(x)\n",
    "        x=tf.layers.average_pooling2d(x, pool_size=2, strides=2, padding='SAME')\n",
    "        flat = tf.reshape(x,\n",
    "                          (-1, x.shape[1]*x.shape[2]*x.shape[3]))\n",
    "        with tf.variable_scope('dense'):\n",
    "            dense1 = tf.layers.dense(flat, 386,\n",
    "                                  kernel_initializer=weight_init)\n",
    "            dense_h = tf.nn.leaky_relu(dense1)\n",
    "            dense_dropout = tf.layers.dropout(dense_h,0.5)\n",
    "#             dense2 = tf.layers.dense(dense_dropout, 128,\n",
    "#                                   kernel_initializer=weight_init)\n",
    "#             dense_h = tf.nn.relu(dense2)\n",
    "#             dense3 = tf.layers.dropout(dense_h,0.3)\n",
    "            outputs = tf.layers.dense(dense_dropout, 100)\n",
    "        one_hot = tf.squeeze(tf.one_hot(by, 100),axis=1) #이 부분을 tf.squeeze로 바꾸고 난뒤 학습이 되기 시작함.\n",
    "        loss = tf.reduce_mean(tf.nn.softmax_cross_entropy_with_logits_v2(logits=outputs, \n",
    "                                                          labels=one_hot))\n",
    "        opt = tf.train.AdamOptimizer(learning_rate=learning_rate,).minimize(loss)\n",
    "        softmax = tf.nn.softmax(outputs)\n",
    "        preds = tf.argmax(softmax, axis=1)\n",
    "        acc = tf.reduce_mean(tf.cast(tf.equal(tf.squeeze(by, axis=1), preds), tf.float32))\n",
    "        init = tf.global_variables_initializer()\n",
    "    return {\n",
    "        'loss': loss,\n",
    "        'opt': opt,\n",
    "        'preds': preds,\n",
    "        'acc': acc,\n",
    "        'init': init,\n",
    "    }\n"
   ]
  },
  {
   "cell_type": "code",
   "execution_count": 7,
   "metadata": {},
   "outputs": [],
   "source": [
    "X = tf.placeholder(tf.float32, shape=[None, 32, 32, 3],name = 'input_data')\n",
    "by = tf.placeholder(tf.int64, name ='y_input_data')\n",
    "training = tf.placeholder(tf.bool, name = 'training_bool')\n",
    "model = get_model(X, by, True)"
   ]
  },
  {
   "cell_type": "code",
   "execution_count": 8,
   "metadata": {
    "scrolled": false
   },
   "outputs": [
    {
     "name": "stdout",
     "output_type": "stream",
     "text": [
      "Current iteration 1\n",
      "loss 4.6746 acc 0.0050\n",
      "loss 3.6870 acc 0.1500\n",
      "Current iteration 2\n",
      "loss 3.5895 acc 0.1450\n",
      "loss 3.1994 acc 0.2400\n",
      "TEST: loss 2.8887 acc 0.2754\n",
      "LR 0.0015\n"
     ]
    }
   ],
   "source": [
    "with tf.Session() as sess:\n",
    "    sess.run(model['init'])\n",
    "    for ind_epoch in range(0, num_epochs):\n",
    "        print('Current iteration {}'.format(ind_epoch + 1))\n",
    "        \n",
    "        for ind_ in range(0, int(50000 / batch_size)):\n",
    "            batch_X = x_train[ind_*batch_size:(ind_+1)*batch_size]\n",
    "            batch_by = y_train[ind_*batch_size:(ind_+1)*batch_size]\n",
    "            _, cur_loss, cur_acc = sess.run(\n",
    "                [model['opt'], model['loss'], model['acc']],\n",
    "                feed_dict={X: batch_X, by: batch_by, training :True})\n",
    "#             print(sess.run(model['preds'], feed_dict={X:x_train[:10], training:False}))\n",
    "            if ind_ % num_display == 0:\n",
    "                print('loss {0:.4f} acc {1:.4f}'.format(cur_loss, cur_acc))\n",
    "    cur_acc_all = 0.0\n",
    "    cur_loss_all = 0.0\n",
    "    for ind_ in range(0, 10):\n",
    "        cur_loss, cur_acc = sess.run(\n",
    "                    [model['loss'], model['acc']],\n",
    "                    feed_dict={X: x_test[ind_*1000:(ind_+1)*1000], \n",
    "                               by: y_test[ind_*1000:(ind_+1)*1000],\n",
    "                              training : True})\n",
    "        cur_loss_all += cur_loss\n",
    "        cur_acc_all += cur_acc\n",
    "    print('TEST: loss {0:.4f} acc {1:.4f}'.format(cur_loss_all / 10.0, \n",
    "                                              cur_acc_all / 10.0))\n",
    "    print('LR',learning_rate)"
   ]
  },
  {
   "cell_type": "markdown",
   "metadata": {},
   "source": [
    "Current iteration 1\n",
    "loss 4.6968 acc 0.0067\n",
    "loss 4.3137 acc 0.0400\n",
    "Current iteration 2\n",
    "loss 4.2011 acc 0.0400\n",
    "loss 3.7758 acc 0.1067\n",
    "TEST: loss 3.6424 acc 0.1341\n",
    "LR 0.0001"
   ]
  },
  {
   "cell_type": "markdown",
   "metadata": {},
   "source": [
    "\n",
    "\n",
    "Current iteration 1   \n",
    "\n",
    "loss 4.6909 acc 0.0133\n",
    "loss 3.8374 acc 0.1067\n",
    "Current iteration 2\n",
    "loss 3.8082 acc 0.1067\n",
    "loss 3.4199 acc 0.1533\n",
    "TEST: loss 3.1722 acc 0.2228"
   ]
  },
  {
   "cell_type": "code",
   "execution_count": null,
   "metadata": {},
   "outputs": [],
   "source": []
  }
 ],
 "metadata": {
  "kernelspec": {
   "display_name": "tf",
   "language": "python",
   "name": "tf"
  },
  "language_info": {
   "codemirror_mode": {
    "name": "ipython",
    "version": 3
   },
   "file_extension": ".py",
   "mimetype": "text/x-python",
   "name": "python",
   "nbconvert_exporter": "python",
   "pygments_lexer": "ipython3",
   "version": "3.6.8"
  }
 },
 "nbformat": 4,
 "nbformat_minor": 2
}
