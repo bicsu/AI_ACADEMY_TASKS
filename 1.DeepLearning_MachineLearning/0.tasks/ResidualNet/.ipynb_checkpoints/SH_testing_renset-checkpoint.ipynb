{
 "cells": [
  {
   "cell_type": "markdown",
   "metadata": {},
   "source": [
    "# MNIST"
   ]
  },
  {
   "cell_type": "markdown",
   "metadata": {},
   "source": [
    "### CIFAR-100 데이터 받기"
   ]
  },
  {
   "cell_type": "code",
   "execution_count": 1,
   "metadata": {},
   "outputs": [
    {
     "name": "stderr",
     "output_type": "stream",
     "text": [
      "Using TensorFlow backend.\n"
     ]
    }
   ],
   "source": [
    "import os\n",
    "import sys\n",
    "import tensorflow as tf\n",
    "import keras\n",
    "from six.moves import urllib\n",
    "import gzip\n",
    "import pickle\n",
    "import numpy as np\n",
    "\n",
    "# from tf.keras.utils import get_file\n",
    "\n",
    "%matplotlib inline\n",
    "import matplotlib.pyplot as plt\n",
    "from keras.utils.data_utils import get_file\n",
    "from keras.datasets.cifar import load_batch\n",
    "from keras import backend as K\n",
    "\n",
    "def load_data(label_mode='fine'):\n",
    "    if label_mode not in ['fine', 'coarse']:\n",
    "        raise ValueError('`label_mode` must be one of `\"fine\"`, `\"coarse\"`.')\n",
    "\n",
    "    dirname = 'cifar-100-python'\n",
    "    origin = 'https://www.cs.toronto.edu/~kriz/cifar-100-python.tar.gz'\n",
    "    path = get_file(dirname, origin=origin, untar=True)\n",
    "\n",
    "    fpath = os.path.join(path, 'train')\n",
    "    x_train, y_train = load_batch(fpath, label_key=label_mode + '_labels')\n",
    "\n",
    "    fpath = os.path.join(path, 'test')\n",
    "    x_test, y_test = load_batch(fpath, label_key=label_mode + '_labels')\n",
    "\n",
    "    y_train = np.reshape(y_train, (len(y_train), 1))\n",
    "    y_test = np.reshape(y_test, (len(y_test), 1))\n",
    "\n",
    "    if K.image_data_format() == 'channels_last':\n",
    "        x_train = x_train.transpose(0, 2, 3, 1)\n",
    "        x_test = x_test.transpose(0, 2, 3, 1)\n",
    "\n",
    "    return (x_train, y_train), (x_test, y_test)\n",
    "(train_data,train_label),(test_data,test_label) = load_data()"
   ]
  },
  {
   "cell_type": "code",
   "execution_count": 2,
   "metadata": {},
   "outputs": [],
   "source": [
    "# train_label = tf.squeeze(tf.one_hot(train_label,100), axis = 1)\n",
    "# test_label = tf.squeeze(tf.one_hot(test_label,100), axis = 1)"
   ]
  },
  {
   "cell_type": "code",
   "execution_count": 3,
   "metadata": {},
   "outputs": [
    {
     "name": "stdout",
     "output_type": "stream",
     "text": [
      "(50000, 32, 32, 3)\n",
      "(50000, 1)\n",
      "(10000, 32, 32, 3)\n",
      "(10000, 1)\n"
     ]
    }
   ],
   "source": [
    "# size of cifar-100\n",
    "print(train_data.shape)\n",
    "print(train_label.shape)\n",
    "print(test_data.shape)\n",
    "print(test_label.shape)"
   ]
  },
  {
   "cell_type": "code",
   "execution_count": 4,
   "metadata": {},
   "outputs": [
    {
     "data": {
      "image/png": "[encoded data removed]",
      "text/plain": [
       "<Figure size 432x288 with 1 Axes>"
      ]
     },
     "metadata": {
      "needs_background": "light"
     },
     "output_type": "display_data"
    }
   ],
   "source": [
    "# show data\n",
    "_, (ax1) = plt.subplots(1)\n",
    "sample_data = train_data[100]\n",
    "ax1.imshow(sample_data, cmap=plt.cm.Greys);"
   ]
  },
  {
   "cell_type": "markdown",
   "metadata": {},
   "source": [
    "### residual block"
   ]
  },
  {
   "cell_type": "code",
   "execution_count": null,
   "metadata": {},
   "outputs": [],
   "source": [
    "# def residual_block(x_input, num_filter, dim) :\n",
    "    \n",
    "#     stride = 1\n",
    "        \n",
    "#     #stride=2일 경우\n",
    "#     if dim :\n",
    "#         stride = 2\n",
    "#         pool1 = tf.layers.max_pooling2d(inputs= x_input, strides=2, pool_size=[1,1])\n",
    "#         pad1 = tf.pad(pool1, [[0,0], [0,0], [0,0], [int(num_filter/4),int(num_filter/4)]])\n",
    "#         shortcut = pad1\n",
    "#     else :\n",
    "#         shortcut = x_input\n",
    "            \n",
    "#     conv1 = tf.layers.conv2d(inputs = x_input, filters=num_filter, kernel_size=[3, 3], padding=\"SAME\", strides=stride, kernel_initializer=tf.contrib.layers.xavier_initializer())\n",
    "#     bm1 = tf.layers.batch_normalization(inputs = conv1)\n",
    "#     relu1 = tf.nn.relu(bm1)\n",
    "        \n",
    "#     conv2 = tf.layers.conv2d(inputs = relu1, filters=num_filter, kernel_size=[3, 3], padding=\"SAME\", strides=1, kernel_initializer=tf.contrib.layers.xavier_initializer())\n",
    "#     bm2 = tf.layers.batch_normalization(inputs = conv2)\n",
    "        \n",
    "#     X_output = tf.nn.relu(bm2 + shortcut)\n",
    "        \n",
    "#     return X_output"
   ]
  },
  {
   "cell_type": "code",
   "execution_count": null,
   "metadata": {},
   "outputs": [],
   "source": [
    "def residual_block(x_input, num_filter) :\n",
    "    \n",
    "    short = tf.layers.batch_normalization(inputs = x_input)\n",
    "    \n",
    "    outs = tf.layers.conv2d(inputs = x_input, filters=num_filter, kernel_size=[3, 3], padding=\"SAME\", strides=1, kernel_initializer=tf.contrib.layers.xavier_initializer())\n",
    "    outs = tf.layers.batch_normalization(inputs = outs)\n",
    "    outs = tf.nn.relu(outs)\n",
    "        \n",
    "    outs = tf.layers.conv2d(inputs = outs, filters=num_filter, kernel_size=[3, 3], padding=\"SAME\", strides=1, kernel_initializer=tf.contrib.layers.xavier_initializer())\n",
    "    outs = tf.layers.batch_normalization(inputs = outs)\n",
    "        \n",
    "    outs = tf.nn.relu(outs+short)\n",
    "        \n",
    "    return outs  "
   ]
  },
  {
   "cell_type": "markdown",
   "metadata": {},
   "source": [
    "### building model"
   ]
  },
  {
   "cell_type": "code",
   "execution_count": null,
   "metadata": {},
   "outputs": [],
   "source": [
    "def model(x, y) :\n",
    "    \n",
    "    with tf.variable_scope('first'):\n",
    "        outs = tf.layers.conv2d(inputs = x, filters = 64, kernel_size=[7,7], padding=\"SAME\", strides=2)\n",
    "        outs = tf.layers.batch_normalization(inputs = outs)\n",
    "        outs = tf.nn.relu(outs)\n",
    "    \n",
    "    #pooling    \n",
    "    outs = tf.layers.max_pooling2d(inputs = outs, strides = 2, pool_size=2)\n",
    "    \n",
    "    with tf.variable_scope('64'):\n",
    "        outs = residual_block(outs, 64)\n",
    "        outs = residual_block(outs, 64)\n",
    "        outs = residual_block(outs, 64)\n",
    "    with tf.variable_scope('128'):\n",
    "        outs = tf.layers.conv2d(inputs = outs, \n",
    "                                filters=128, \n",
    "                                kernel_size=[3, 3], \n",
    "                                padding=\"SAME\", strides=2, \n",
    "                                kernel_initializer=tf.contrib.layers.xavier_initializer()\n",
    "                               )\n",
    "        outs = tf.layers.batch_normalization(inputs = outs)\n",
    "        outs = tf.nn.relu(outs)\n",
    "        outs = residual_block(outs, 128)\n",
    "        outs = residual_block(outs, 128)\n",
    "        outs = residual_block(outs, 128)\n",
    "    with tf.variable_scope('256'):\n",
    "        outs = tf.layers.conv2d(inputs = outs, \n",
    "                                filters=256, \n",
    "                                kernel_size=[3, 3], \n",
    "                                padding=\"SAME\", strides=2, \n",
    "                                kernel_initializer=tf.contrib.layers.xavier_initializer()\n",
    "                               )\n",
    "        outs = tf.layers.batch_normalization(inputs = outs)\n",
    "        outs = tf.nn.relu(outs)\n",
    "        outs = residual_block(outs, 256)\n",
    "        outs = residual_block(outs, 256)\n",
    "        outs = residual_block(outs, 256)\n",
    "        outs = residual_block(outs, 256)\n",
    "        outs = residual_block(outs, 256)\n",
    "    with tf.variable_scope('512'):\n",
    "        outs = tf.layers.conv2d(inputs = outs, \n",
    "                                filters=512, \n",
    "                                kernel_size=[3, 3], \n",
    "                                padding=\"SAME\", strides=2, \n",
    "                                kernel_initializer=tf.contrib.layers.xavier_initializer()\n",
    "                               )\n",
    "        outs = tf.layers.batch_normalization(inputs = outs)\n",
    "        outs = tf.nn.relu(outs)\n",
    "        outs = residual_block(outs, 512)\n",
    "        outs = residual_block(outs, 512)\n",
    "    \n",
    "    #Average Pooling\n",
    "    outs = tf.reduce_mean(outs, [1,2], keep_dims=True)\n",
    "    \n",
    "    #fc1000\n",
    "    outs = tf.reshape(outs, (-1, outs.shape[1]*outs.shape[2]*outs.shape[3]))\n",
    "    outs = tf.layers.dense(outs, 100)\n",
    "    \n",
    "    #one_hot\n",
    "    one_hot = tf.one_hot(y, 100)\n",
    "    \n",
    "    #loss, opt, preds, acc, init\n",
    "    loss = tf.nn.softmax_cross_entropy_with_logits_v2(logits = outs, labels = one_hot)\n",
    "    loss = tf.reduce_mean(loss)\n",
    "    opt = tf.train.AdamOptimizer(learning_rate= 1e-5).minimize(loss)\n",
    "    preds = tf.cast(tf.argmax(tf.nn.softmax(outs), axis = 1), tf.int32)\n",
    "#     preds = tf.equal(tf.argmax(outs, 1), tf.argmax(y, 1))\n",
    "    acc = tf.reduce_mean(tf.cast(tf.equal(y,preds), tf.float32))\n",
    "    init = tf.global_variables_initializer()\n",
    "    \n",
    "    return {\n",
    "        'loss':loss,\n",
    "        'opt':opt,\n",
    "        'preds':preds,\n",
    "        'acc':acc,\n",
    "        'init':init\n",
    "    }"
   ]
  },
  {
   "cell_type": "code",
   "execution_count": null,
   "metadata": {},
   "outputs": [
    {
     "name": "stdout",
     "output_type": "stream",
     "text": [
      "WARNING:tensorflow:From <ipython-input-7-14c1e58b361a>:54: calling reduce_mean (from tensorflow.python.ops.math_ops) with keep_dims is deprecated and will be removed in a future version.\n",
      "Instructions for updating:\n",
      "keep_dims is deprecated, use keepdims instead\n"
     ]
    }
   ],
   "source": [
    "X = tf.placeholder(tf.float32, shape=(None, 32, 32, 3))\n",
    "by = tf.placeholder(tf.int32)\n",
    "\n",
    "renset = model(X, by)"
   ]
  },
  {
   "cell_type": "markdown",
   "metadata": {},
   "source": [
    "### Training_Testing"
   ]
  },
  {
   "cell_type": "code",
   "execution_count": null,
   "metadata": {
    "scrolled": false
   },
   "outputs": [
    {
     "name": "stdout",
     "output_type": "stream",
     "text": [
      "Current iteration 1\n",
      "loss 17.5376 acc 0.0077\n",
      "loss 4.7596 acc 0.0101\n",
      "loss 4.5728 acc 0.0118\n",
      "loss 4.3963 acc 0.0099\n",
      "loss 4.2993 acc 0.0088\n",
      "Current iteration 2\n",
      "loss 4.1061 acc 0.0128\n",
      "loss 4.1451 acc 0.0125\n",
      "loss 3.9906 acc 0.0110\n",
      "loss 4.0046 acc 0.0091\n",
      "loss 3.8546 acc 0.0098\n"
     ]
    }
   ],
   "source": [
    "num_epochs = 5\n",
    "batch_size = 100\n",
    "num_display = 100\n",
    "\n",
    "with tf.Session() as sess:\n",
    "    sess.run(renset['init'])\n",
    "    for ind_epoch in range(0, num_epochs):\n",
    "        print('Current iteration {}'.format(ind_epoch + 1))\n",
    "\n",
    "        for ind_ in range(0, int(50000 / batch_size)):\n",
    "            batch_X = train_data[ind_*batch_size:(ind_+1)*batch_size]\n",
    "            batch_by = train_label[ind_*batch_size:(ind_+1)*batch_size]\n",
    "            _, cur_loss, cur_acc = sess.run(\n",
    "                [renset['opt'], renset['loss'], renset['acc']],\n",
    "                feed_dict={X: batch_X, by: batch_by})\n",
    "            if ind_ % num_display == 0:\n",
    "                print('loss {0:.4f} acc {1:.4f}'.format(cur_loss, cur_acc))\n",
    "    cur_acc_all = 0.0\n",
    "    cur_loss_all = 0.0\n",
    "    for ind_ in range(0, 10):\n",
    "        cur_loss, cur_acc = sess.run(\n",
    "                    [renset['loss'], renset['acc']],\n",
    "                    feed_dict={X: test_data[ind_*1000:(ind_+1)*1000], \n",
    "                               by: test_label[ind_*1000:(ind_+1)*1000]})\n",
    "        cur_loss_all += cur_loss\n",
    "        cur_acc_all += cur_acc\n",
    "    print('TEST: loss {0:.4f} acc {1:.4f}'.format(cur_loss_all / 10.0, \n",
    "                                                  cur_acc_all / 10.0))"
   ]
  },
  {
   "cell_type": "markdown",
   "metadata": {},
   "source": [
    "epoch : 50 => TEST: loss 6.8226 acc 0.0102  \n",
    "epoch : 100 => TEST: loss 8.4443 acc 0.0102  \n",
    "epoch : 100 => TEST: loss 3.3830 acc 0.0102"
   ]
  },
  {
   "cell_type": "code",
   "execution_count": null,
   "metadata": {},
   "outputs": [],
   "source": []
  }
 ],
 "metadata": {
  "kernelspec": {
   "display_name": "tf",
   "language": "python",
   "name": "tf"
  },
  "language_info": {
   "codemirror_mode": {
    "name": "ipython",
    "version": 3
   },
   "file_extension": ".py",
   "mimetype": "text/x-python",
   "name": "python",
   "nbconvert_exporter": "python",
   "pygments_lexer": "ipython3",
   "version": "3.6.8"
  }
 },
 "nbformat": 4,
 "nbformat_minor": 2
}
